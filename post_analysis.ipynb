{
 "cells": [
  {
   "cell_type": "code",
   "execution_count": 251,
   "id": "56542fe7-8410-4a1a-a0cf-dcfb9f55b26f",
   "metadata": {
    "tags": []
   },
   "outputs": [],
   "source": [
    "import pandas as pd"
   ]
  },
  {
   "cell_type": "code",
   "execution_count": 252,
   "id": "22be7e6a-044a-4541-a0e6-f87c60c789f1",
   "metadata": {
    "tags": []
   },
   "outputs": [],
   "source": [
    "df1 = pd.read_csv('data/after/MALAYSIA_GE15_PARLIAMENT_ELECTIONS_v25122022.csv')\n",
    "df2 = pd.read_csv('data/after/MALAYSIA_PRN6_2023_ELECTION_RESULTS.csv')\n",
    "cdf = pd.read_csv('data/MALAYSIA_2022_PARLIAMENT_COMPOSITION.csv')\n",
    "cdf['Classification'] = cdf[ 'URBAN-RURAL CLASSIFICATION (2022)']\n",
    "cdf2 = cdf[['PARLIAMENTARY CODE', 'Classification']].set_index('PARLIAMENTARY CODE')\n",
    "\n",
    "fdf2 = df2[['UNIQUE CODE', 'PARLIAMENTARY CODE', 'TOTAL ELECTORATE', 'TOTAL VALID VOTES',  'BN VOTE', 'PH VOTE', 'PN VOTE']].copy()\n",
    "sdf2 = fdf2.groupby(\"PARLIAMENTARY CODE\")[['TOTAL ELECTORATE',  'TOTAL VALID VOTES',  'BN VOTE', 'PH VOTE', 'PN VOTE']].sum()\n",
    "for j in ['BN VOTE', 'PH VOTE', 'PN VOTE']:\n",
    "    sdf2[f'{j}_pct'] = sdf2[j]/sdf2['TOTAL VALID VOTES']\n",
    "\n",
    "fdf1 = df1[['PARLIAMENTARY CODE', 'STATE',  'TOTAL ELECTORATE', 'TOTAL VALID VOTES',  'BN VOTE', 'PH VOTE', 'PN VOTE']].copy().set_index('PARLIAMENTARY CODE').fillna(0)\n",
    "fdf1.columns = [f\"GE15_{j}\" for j in fdf1.columns]\n",
    "for j in ['GE15_BN VOTE', 'GE15_PH VOTE', 'GE15_PN VOTE']:\n",
    "    fdf1[f'{j}_pct'] = fdf1[j]/fdf1['GE15_TOTAL VALID VOTES']                \n",
    "fdf1\n",
    "xdf = sdf2.join(fdf1).join(cdf2)\n",
    "# xdf"
   ]
  },
  {
   "cell_type": "code",
   "execution_count": 282,
   "id": "919971e4-0e23-45a7-9e72-85e3ba794333",
   "metadata": {
    "tags": []
   },
   "outputs": [],
   "source": [
    "def compute_transfer(xdf, groupby='GE15_STATE'):\n",
    "    final_df = xdf.groupby(groupby)[['TOTAL VALID VOTES', 'TOTAL ELECTORATE', 'BN VOTE', 'PH VOTE', 'PN VOTE', 'GE15_TOTAL VALID VOTES', 'GE15_TOTAL ELECTORATE', 'GE15_BN VOTE', 'GE15_PH VOTE', 'GE15_PN VOTE']].sum()\n",
    "    cols = []\n",
    "    for j in ['BN', 'PH', 'PN']:\n",
    "        # final_df[f'{j}_GE15'] = final_df[f'GE15_{j} VOTE']/final_df['GE15_TOTAL ELECTORATE']\n",
    "        # final_df[f'{j}_PRN'] = final_df[f'{j} VOTE']/final_df['TOTAL ELECTORATE']\n",
    "        final_df[f'{j}_GE15'] = final_df[f'GE15_{j} VOTE']/final_df['GE15_TOTAL VALID VOTES']\n",
    "        final_df[f'{j}_PRN'] = final_df[f'{j} VOTE']/final_df['TOTAL VALID VOTES']\n",
    "        cols.append(f'GE15_{j} VOTE')\n",
    "        cols.append(f'{j} VOTE')    \n",
    "    tdf = final_df.groupby(groupby)[cols].sum()\n",
    "\n",
    "    tdf['GE15_Unity'] = tdf[['GE15_BN VOTE', 'GE15_PH VOTE']].sum(axis=1)\n",
    "    tdf['PRN_Unity'] = tdf[['BN VOTE', 'PH VOTE']].sum(axis=1)\n",
    "    tdf['GE15_Total'] = tdf[['GE15_BN VOTE', 'GE15_PH VOTE', 'GE15_PN VOTE']].sum(axis=1)\n",
    "    tdf['PRN_Total'] = tdf[['BN VOTE', 'PH VOTE', 'PN VOTE']].sum(axis=1)\n",
    "\n",
    "    tdf['Unity_Transfer'] = (tdf['PRN_Unity'])/(tdf['GE15_Unity']/2)\n",
    "    tdf['PN_Transfer'] = (tdf['PN VOTE']-tdf['GE15_PN VOTE'])/(tdf['GE15_Unity']/2)\n",
    "    tdf['No_Turnout'] = (tdf['GE15_Total']-tdf['PRN_Total'])/(tdf['GE15_Unity']/2)\n",
    "    \n",
    "    for j in ['GE15_Total', 'PRN_Total',]:\n",
    "        tdf[j] = tdf[j].astype(int)\n",
    "    for j in ['Unity_Transfer', 'PN_Transfer', 'No_Turnout']:\n",
    "        tdf[j] = tdf[j].round(3)\n",
    "    # tdf['Unity_Transfer'] = (tdf['PRN_Unity']-tdf['GE15_Unity'])/tdf['GE15_Unity']\n",
    "    # tdf['Shift_To_PN'] = (tdf['PN VOTE']-tdf['GE15_PN VOTE'])/tdf['GE15_Unity']\n",
    "    # tdf['Lower_Turnout'] = -1*tdf['Unity_Transfer'] - tdf['Shift_To_PN']\n",
    "    return tdf[['GE15_Total', 'PRN_Total',  'Unity_Transfer', 'PN_Transfer', 'No_Turnout']]\n"
   ]
  },
  {
   "cell_type": "markdown",
   "id": "84e604ad-91b1-466f-834a-8a6cf6b23c75",
   "metadata": {
    "tags": []
   },
   "source": [
    "## By States"
   ]
  },
  {
   "cell_type": "code",
   "execution_count": 314,
   "id": "42b5f550-9232-46d5-82b5-2adb682c17e8",
   "metadata": {
    "tags": []
   },
   "outputs": [
    {
     "data": {
      "text/html": [
       "<style type=\"text/css\">\n",
       "</style>\n",
       "<table id=\"T_a7b6c\">\n",
       "  <thead>\n",
       "    <tr>\n",
       "      <th class=\"blank level0\" >&nbsp;</th>\n",
       "      <th id=\"T_a7b6c_level0_col0\" class=\"col_heading level0 col0\" >GE15_Total</th>\n",
       "      <th id=\"T_a7b6c_level0_col1\" class=\"col_heading level0 col1\" >PRN_Total</th>\n",
       "      <th id=\"T_a7b6c_level0_col2\" class=\"col_heading level0 col2\" >Unity_Transfer</th>\n",
       "      <th id=\"T_a7b6c_level0_col3\" class=\"col_heading level0 col3\" >PN_Transfer</th>\n",
       "      <th id=\"T_a7b6c_level0_col4\" class=\"col_heading level0 col4\" >No_Turnout</th>\n",
       "    </tr>\n",
       "    <tr>\n",
       "      <th class=\"index_name level0\" >GE15_STATE</th>\n",
       "      <th class=\"blank col0\" >&nbsp;</th>\n",
       "      <th class=\"blank col1\" >&nbsp;</th>\n",
       "      <th class=\"blank col2\" >&nbsp;</th>\n",
       "      <th class=\"blank col3\" >&nbsp;</th>\n",
       "      <th class=\"blank col4\" >&nbsp;</th>\n",
       "    </tr>\n",
       "  </thead>\n",
       "  <tbody>\n",
       "    <tr>\n",
       "      <th id=\"T_a7b6c_level0_row0\" class=\"row_heading level0 row0\" >KEDAH</th>\n",
       "      <td id=\"T_a7b6c_row0_col0\" class=\"data row0 col0\" >1,181,596</td>\n",
       "      <td id=\"T_a7b6c_row0_col1\" class=\"data row0 col1\" >1,144,602</td>\n",
       "      <td id=\"T_a7b6c_row0_col2\" class=\"data row0 col2\" >1.35</td>\n",
       "      <td id=\"T_a7b6c_row0_col3\" class=\"data row0 col3\" >0.50</td>\n",
       "      <td id=\"T_a7b6c_row0_col4\" class=\"data row0 col4\" >0.14</td>\n",
       "    </tr>\n",
       "    <tr>\n",
       "      <th id=\"T_a7b6c_level0_row1\" class=\"row_heading level0 row1\" >KELANTAN</th>\n",
       "      <td id=\"T_a7b6c_row1_col0\" class=\"data row1 col0\" >985,002</td>\n",
       "      <td id=\"T_a7b6c_row1_col1\" class=\"data row1 col1\" >843,723</td>\n",
       "      <td id=\"T_a7b6c_row1_col2\" class=\"data row1 col2\" >1.47</td>\n",
       "      <td id=\"T_a7b6c_row1_col3\" class=\"data row1 col3\" >-0.27</td>\n",
       "      <td id=\"T_a7b6c_row1_col4\" class=\"data row1 col4\" >0.80</td>\n",
       "    </tr>\n",
       "    <tr>\n",
       "      <th id=\"T_a7b6c_level0_row2\" class=\"row_heading level0 row2\" >NEGERI SEMBILAN</th>\n",
       "      <td id=\"T_a7b6c_row2_col0\" class=\"data row2 col0\" >652,792</td>\n",
       "      <td id=\"T_a7b6c_row2_col1\" class=\"data row2 col1\" >574,031</td>\n",
       "      <td id=\"T_a7b6c_row2_col2\" class=\"data row2 col2\" >1.40</td>\n",
       "      <td id=\"T_a7b6c_row2_col3\" class=\"data row2 col3\" >0.29</td>\n",
       "      <td id=\"T_a7b6c_row2_col4\" class=\"data row2 col4\" >0.31</td>\n",
       "    </tr>\n",
       "    <tr>\n",
       "      <th id=\"T_a7b6c_level0_row3\" class=\"row_heading level0 row3\" >PULAU PINANG</th>\n",
       "      <td id=\"T_a7b6c_row3_col0\" class=\"data row3 col0\" >921,602</td>\n",
       "      <td id=\"T_a7b6c_row3_col1\" class=\"data row3 col1\" >876,801</td>\n",
       "      <td id=\"T_a7b6c_row3_col2\" class=\"data row3 col2\" >1.69</td>\n",
       "      <td id=\"T_a7b6c_row3_col3\" class=\"data row3 col3\" >0.18</td>\n",
       "      <td id=\"T_a7b6c_row3_col4\" class=\"data row3 col4\" >0.13</td>\n",
       "    </tr>\n",
       "    <tr>\n",
       "      <th id=\"T_a7b6c_level0_row4\" class=\"row_heading level0 row4\" >SELANGOR</th>\n",
       "      <td id=\"T_a7b6c_row4_col0\" class=\"data row4 col0\" >2,864,142</td>\n",
       "      <td id=\"T_a7b6c_row4_col1\" class=\"data row4 col1\" >2,634,363</td>\n",
       "      <td id=\"T_a7b6c_row4_col2\" class=\"data row4 col2\" >1.58</td>\n",
       "      <td id=\"T_a7b6c_row4_col3\" class=\"data row4 col3\" >0.20</td>\n",
       "      <td id=\"T_a7b6c_row4_col4\" class=\"data row4 col4\" >0.22</td>\n",
       "    </tr>\n",
       "    <tr>\n",
       "      <th id=\"T_a7b6c_level0_row5\" class=\"row_heading level0 row5\" >TERENGGANU</th>\n",
       "      <td id=\"T_a7b6c_row5_col0\" class=\"data row5 col0\" >736,546</td>\n",
       "      <td id=\"T_a7b6c_row5_col1\" class=\"data row5 col1\" >690,115</td>\n",
       "      <td id=\"T_a7b6c_row5_col2\" class=\"data row5 col2\" >1.58</td>\n",
       "      <td id=\"T_a7b6c_row5_col3\" class=\"data row5 col3\" >0.08</td>\n",
       "      <td id=\"T_a7b6c_row5_col4\" class=\"data row5 col4\" >0.34</td>\n",
       "    </tr>\n",
       "  </tbody>\n",
       "</table>\n"
      ],
      "text/plain": [
       "<pandas.io.formats.style.Styler at 0x1dbe8d4b3d0>"
      ]
     },
     "metadata": {},
     "output_type": "display_data"
    },
    {
     "data": {
      "application/vnd.plotly.v1+json": {
       "config": {
        "displayModeBar": false,
        "plotlyServerURL": "https://plot.ly"
       },
       "data": [
        {
         "alignmentgroup": "True",
         "hovertemplate": "Transfer=Unity_Transfer<br>State=%{x}<br>Ratio=%{y}<extra></extra>",
         "legendgroup": "Unity_Transfer",
         "marker": {
          "color": "#FF5E5E",
          "pattern": {
           "shape": ""
          }
         },
         "name": "Unity_Transfer",
         "offsetgroup": "Unity_Transfer",
         "orientation": "v",
         "showlegend": true,
         "textposition": "inside",
         "texttemplate": "%{y:.2f}",
         "type": "bar",
         "x": [
          "KEDAH",
          "KELANTAN",
          "NEGERI SEMBILAN",
          "PULAU PINANG",
          "SELANGOR",
          "TERENGGANU"
         ],
         "xaxis": "x",
         "y": [
          1.354,
          1.473,
          1.397,
          1.686,
          1.577,
          1.581
         ],
         "yaxis": "y"
        },
        {
         "alignmentgroup": "True",
         "hovertemplate": "Transfer=PN_Transfer<br>State=%{x}<br>Ratio=%{y}<extra></extra>",
         "legendgroup": "PN_Transfer",
         "marker": {
          "color": "#65D25C",
          "pattern": {
           "shape": ""
          }
         },
         "name": "PN_Transfer",
         "offsetgroup": "PN_Transfer",
         "orientation": "v",
         "showlegend": true,
         "textposition": "inside",
         "texttemplate": "%{y:.2f}",
         "type": "bar",
         "x": [
          "KEDAH",
          "KELANTAN",
          "NEGERI SEMBILAN",
          "PULAU PINANG",
          "SELANGOR",
          "TERENGGANU"
         ],
         "xaxis": "x",
         "y": [
          0.503,
          -0.273,
          0.293,
          0.185,
          0.2,
          0.082
         ],
         "yaxis": "y"
        },
        {
         "alignmentgroup": "True",
         "hovertemplate": "Transfer=No_Turnout<br>State=%{x}<br>Ratio=%{y}<extra></extra>",
         "legendgroup": "No_Turnout",
         "marker": {
          "color": "grey",
          "pattern": {
           "shape": ""
          }
         },
         "name": "No_Turnout",
         "offsetgroup": "No_Turnout",
         "orientation": "v",
         "showlegend": true,
         "textposition": "inside",
         "texttemplate": "%{y:.2f}",
         "type": "bar",
         "x": [
          "KEDAH",
          "KELANTAN",
          "NEGERI SEMBILAN",
          "PULAU PINANG",
          "SELANGOR",
          "TERENGGANU"
         ],
         "xaxis": "x",
         "y": [
          0.143,
          0.8,
          0.31,
          0.129,
          0.223,
          0.338
         ],
         "yaxis": "y"
        }
       ],
       "layout": {
        "barmode": "relative",
        "height": 750,
        "legend": {
         "orientation": "h",
         "title": {},
         "tracegroupgap": 0,
         "x": 0.5,
         "xanchor": "center",
         "y": 1.05,
         "yanchor": "top"
        },
        "margin": {
         "t": 60
        },
        "template": {
         "data": {
          "bar": [
           {
            "error_x": {
             "color": "#2a3f5f"
            },
            "error_y": {
             "color": "#2a3f5f"
            },
            "marker": {
             "line": {
              "color": "white",
              "width": 0.5
             },
             "pattern": {
              "fillmode": "overlay",
              "size": 10,
              "solidity": 0.2
             }
            },
            "type": "bar"
           }
          ],
          "barpolar": [
           {
            "marker": {
             "line": {
              "color": "white",
              "width": 0.5
             },
             "pattern": {
              "fillmode": "overlay",
              "size": 10,
              "solidity": 0.2
             }
            },
            "type": "barpolar"
           }
          ],
          "carpet": [
           {
            "aaxis": {
             "endlinecolor": "#2a3f5f",
             "gridcolor": "#C8D4E3",
             "linecolor": "#C8D4E3",
             "minorgridcolor": "#C8D4E3",
             "startlinecolor": "#2a3f5f"
            },
            "baxis": {
             "endlinecolor": "#2a3f5f",
             "gridcolor": "#C8D4E3",
             "linecolor": "#C8D4E3",
             "minorgridcolor": "#C8D4E3",
             "startlinecolor": "#2a3f5f"
            },
            "type": "carpet"
           }
          ],
          "choropleth": [
           {
            "colorbar": {
             "outlinewidth": 0,
             "ticks": ""
            },
            "type": "choropleth"
           }
          ],
          "contour": [
           {
            "colorbar": {
             "outlinewidth": 0,
             "ticks": ""
            },
            "colorscale": [
             [
              0,
              "#0d0887"
             ],
             [
              0.1111111111111111,
              "#46039f"
             ],
             [
              0.2222222222222222,
              "#7201a8"
             ],
             [
              0.3333333333333333,
              "#9c179e"
             ],
             [
              0.4444444444444444,
              "#bd3786"
             ],
             [
              0.5555555555555556,
              "#d8576b"
             ],
             [
              0.6666666666666666,
              "#ed7953"
             ],
             [
              0.7777777777777778,
              "#fb9f3a"
             ],
             [
              0.8888888888888888,
              "#fdca26"
             ],
             [
              1,
              "#f0f921"
             ]
            ],
            "type": "contour"
           }
          ],
          "contourcarpet": [
           {
            "colorbar": {
             "outlinewidth": 0,
             "ticks": ""
            },
            "type": "contourcarpet"
           }
          ],
          "heatmap": [
           {
            "colorbar": {
             "outlinewidth": 0,
             "ticks": ""
            },
            "colorscale": [
             [
              0,
              "#0d0887"
             ],
             [
              0.1111111111111111,
              "#46039f"
             ],
             [
              0.2222222222222222,
              "#7201a8"
             ],
             [
              0.3333333333333333,
              "#9c179e"
             ],
             [
              0.4444444444444444,
              "#bd3786"
             ],
             [
              0.5555555555555556,
              "#d8576b"
             ],
             [
              0.6666666666666666,
              "#ed7953"
             ],
             [
              0.7777777777777778,
              "#fb9f3a"
             ],
             [
              0.8888888888888888,
              "#fdca26"
             ],
             [
              1,
              "#f0f921"
             ]
            ],
            "type": "heatmap"
           }
          ],
          "heatmapgl": [
           {
            "colorbar": {
             "outlinewidth": 0,
             "ticks": ""
            },
            "colorscale": [
             [
              0,
              "#0d0887"
             ],
             [
              0.1111111111111111,
              "#46039f"
             ],
             [
              0.2222222222222222,
              "#7201a8"
             ],
             [
              0.3333333333333333,
              "#9c179e"
             ],
             [
              0.4444444444444444,
              "#bd3786"
             ],
             [
              0.5555555555555556,
              "#d8576b"
             ],
             [
              0.6666666666666666,
              "#ed7953"
             ],
             [
              0.7777777777777778,
              "#fb9f3a"
             ],
             [
              0.8888888888888888,
              "#fdca26"
             ],
             [
              1,
              "#f0f921"
             ]
            ],
            "type": "heatmapgl"
           }
          ],
          "histogram": [
           {
            "marker": {
             "pattern": {
              "fillmode": "overlay",
              "size": 10,
              "solidity": 0.2
             }
            },
            "type": "histogram"
           }
          ],
          "histogram2d": [
           {
            "colorbar": {
             "outlinewidth": 0,
             "ticks": ""
            },
            "colorscale": [
             [
              0,
              "#0d0887"
             ],
             [
              0.1111111111111111,
              "#46039f"
             ],
             [
              0.2222222222222222,
              "#7201a8"
             ],
             [
              0.3333333333333333,
              "#9c179e"
             ],
             [
              0.4444444444444444,
              "#bd3786"
             ],
             [
              0.5555555555555556,
              "#d8576b"
             ],
             [
              0.6666666666666666,
              "#ed7953"
             ],
             [
              0.7777777777777778,
              "#fb9f3a"
             ],
             [
              0.8888888888888888,
              "#fdca26"
             ],
             [
              1,
              "#f0f921"
             ]
            ],
            "type": "histogram2d"
           }
          ],
          "histogram2dcontour": [
           {
            "colorbar": {
             "outlinewidth": 0,
             "ticks": ""
            },
            "colorscale": [
             [
              0,
              "#0d0887"
             ],
             [
              0.1111111111111111,
              "#46039f"
             ],
             [
              0.2222222222222222,
              "#7201a8"
             ],
             [
              0.3333333333333333,
              "#9c179e"
             ],
             [
              0.4444444444444444,
              "#bd3786"
             ],
             [
              0.5555555555555556,
              "#d8576b"
             ],
             [
              0.6666666666666666,
              "#ed7953"
             ],
             [
              0.7777777777777778,
              "#fb9f3a"
             ],
             [
              0.8888888888888888,
              "#fdca26"
             ],
             [
              1,
              "#f0f921"
             ]
            ],
            "type": "histogram2dcontour"
           }
          ],
          "mesh3d": [
           {
            "colorbar": {
             "outlinewidth": 0,
             "ticks": ""
            },
            "type": "mesh3d"
           }
          ],
          "parcoords": [
           {
            "line": {
             "colorbar": {
              "outlinewidth": 0,
              "ticks": ""
             }
            },
            "type": "parcoords"
           }
          ],
          "pie": [
           {
            "automargin": true,
            "type": "pie"
           }
          ],
          "scatter": [
           {
            "fillpattern": {
             "fillmode": "overlay",
             "size": 10,
             "solidity": 0.2
            },
            "type": "scatter"
           }
          ],
          "scatter3d": [
           {
            "line": {
             "colorbar": {
              "outlinewidth": 0,
              "ticks": ""
             }
            },
            "marker": {
             "colorbar": {
              "outlinewidth": 0,
              "ticks": ""
             }
            },
            "type": "scatter3d"
           }
          ],
          "scattercarpet": [
           {
            "marker": {
             "colorbar": {
              "outlinewidth": 0,
              "ticks": ""
             }
            },
            "type": "scattercarpet"
           }
          ],
          "scattergeo": [
           {
            "marker": {
             "colorbar": {
              "outlinewidth": 0,
              "ticks": ""
             }
            },
            "type": "scattergeo"
           }
          ],
          "scattergl": [
           {
            "marker": {
             "colorbar": {
              "outlinewidth": 0,
              "ticks": ""
             }
            },
            "type": "scattergl"
           }
          ],
          "scattermapbox": [
           {
            "marker": {
             "colorbar": {
              "outlinewidth": 0,
              "ticks": ""
             }
            },
            "type": "scattermapbox"
           }
          ],
          "scatterpolar": [
           {
            "marker": {
             "colorbar": {
              "outlinewidth": 0,
              "ticks": ""
             }
            },
            "type": "scatterpolar"
           }
          ],
          "scatterpolargl": [
           {
            "marker": {
             "colorbar": {
              "outlinewidth": 0,
              "ticks": ""
             }
            },
            "type": "scatterpolargl"
           }
          ],
          "scatterternary": [
           {
            "marker": {
             "colorbar": {
              "outlinewidth": 0,
              "ticks": ""
             }
            },
            "type": "scatterternary"
           }
          ],
          "surface": [
           {
            "colorbar": {
             "outlinewidth": 0,
             "ticks": ""
            },
            "colorscale": [
             [
              0,
              "#0d0887"
             ],
             [
              0.1111111111111111,
              "#46039f"
             ],
             [
              0.2222222222222222,
              "#7201a8"
             ],
             [
              0.3333333333333333,
              "#9c179e"
             ],
             [
              0.4444444444444444,
              "#bd3786"
             ],
             [
              0.5555555555555556,
              "#d8576b"
             ],
             [
              0.6666666666666666,
              "#ed7953"
             ],
             [
              0.7777777777777778,
              "#fb9f3a"
             ],
             [
              0.8888888888888888,
              "#fdca26"
             ],
             [
              1,
              "#f0f921"
             ]
            ],
            "type": "surface"
           }
          ],
          "table": [
           {
            "cells": {
             "fill": {
              "color": "#EBF0F8"
             },
             "line": {
              "color": "white"
             }
            },
            "header": {
             "fill": {
              "color": "#C8D4E3"
             },
             "line": {
              "color": "white"
             }
            },
            "type": "table"
           }
          ]
         },
         "layout": {
          "annotationdefaults": {
           "arrowcolor": "#2a3f5f",
           "arrowhead": 0,
           "arrowwidth": 1
          },
          "autotypenumbers": "strict",
          "coloraxis": {
           "colorbar": {
            "outlinewidth": 0,
            "ticks": ""
           }
          },
          "colorscale": {
           "diverging": [
            [
             0,
             "#8e0152"
            ],
            [
             0.1,
             "#c51b7d"
            ],
            [
             0.2,
             "#de77ae"
            ],
            [
             0.3,
             "#f1b6da"
            ],
            [
             0.4,
             "#fde0ef"
            ],
            [
             0.5,
             "#f7f7f7"
            ],
            [
             0.6,
             "#e6f5d0"
            ],
            [
             0.7,
             "#b8e186"
            ],
            [
             0.8,
             "#7fbc41"
            ],
            [
             0.9,
             "#4d9221"
            ],
            [
             1,
             "#276419"
            ]
           ],
           "sequential": [
            [
             0,
             "#0d0887"
            ],
            [
             0.1111111111111111,
             "#46039f"
            ],
            [
             0.2222222222222222,
             "#7201a8"
            ],
            [
             0.3333333333333333,
             "#9c179e"
            ],
            [
             0.4444444444444444,
             "#bd3786"
            ],
            [
             0.5555555555555556,
             "#d8576b"
            ],
            [
             0.6666666666666666,
             "#ed7953"
            ],
            [
             0.7777777777777778,
             "#fb9f3a"
            ],
            [
             0.8888888888888888,
             "#fdca26"
            ],
            [
             1,
             "#f0f921"
            ]
           ],
           "sequentialminus": [
            [
             0,
             "#0d0887"
            ],
            [
             0.1111111111111111,
             "#46039f"
            ],
            [
             0.2222222222222222,
             "#7201a8"
            ],
            [
             0.3333333333333333,
             "#9c179e"
            ],
            [
             0.4444444444444444,
             "#bd3786"
            ],
            [
             0.5555555555555556,
             "#d8576b"
            ],
            [
             0.6666666666666666,
             "#ed7953"
            ],
            [
             0.7777777777777778,
             "#fb9f3a"
            ],
            [
             0.8888888888888888,
             "#fdca26"
            ],
            [
             1,
             "#f0f921"
            ]
           ]
          },
          "colorway": [
           "#636efa",
           "#EF553B",
           "#00cc96",
           "#ab63fa",
           "#FFA15A",
           "#19d3f3",
           "#FF6692",
           "#B6E880",
           "#FF97FF",
           "#FECB52"
          ],
          "font": {
           "color": "#2a3f5f"
          },
          "geo": {
           "bgcolor": "white",
           "lakecolor": "white",
           "landcolor": "white",
           "showlakes": true,
           "showland": true,
           "subunitcolor": "#C8D4E3"
          },
          "hoverlabel": {
           "align": "left"
          },
          "hovermode": "closest",
          "mapbox": {
           "style": "light"
          },
          "paper_bgcolor": "white",
          "plot_bgcolor": "white",
          "polar": {
           "angularaxis": {
            "gridcolor": "#EBF0F8",
            "linecolor": "#EBF0F8",
            "ticks": ""
           },
           "bgcolor": "white",
           "radialaxis": {
            "gridcolor": "#EBF0F8",
            "linecolor": "#EBF0F8",
            "ticks": ""
           }
          },
          "scene": {
           "xaxis": {
            "backgroundcolor": "white",
            "gridcolor": "#DFE8F3",
            "gridwidth": 2,
            "linecolor": "#EBF0F8",
            "showbackground": true,
            "ticks": "",
            "zerolinecolor": "#EBF0F8"
           },
           "yaxis": {
            "backgroundcolor": "white",
            "gridcolor": "#DFE8F3",
            "gridwidth": 2,
            "linecolor": "#EBF0F8",
            "showbackground": true,
            "ticks": "",
            "zerolinecolor": "#EBF0F8"
           },
           "zaxis": {
            "backgroundcolor": "white",
            "gridcolor": "#DFE8F3",
            "gridwidth": 2,
            "linecolor": "#EBF0F8",
            "showbackground": true,
            "ticks": "",
            "zerolinecolor": "#EBF0F8"
           }
          },
          "shapedefaults": {
           "line": {
            "color": "#2a3f5f"
           }
          },
          "ternary": {
           "aaxis": {
            "gridcolor": "#DFE8F3",
            "linecolor": "#A2B1C6",
            "ticks": ""
           },
           "baxis": {
            "gridcolor": "#DFE8F3",
            "linecolor": "#A2B1C6",
            "ticks": ""
           },
           "bgcolor": "white",
           "caxis": {
            "gridcolor": "#DFE8F3",
            "linecolor": "#A2B1C6",
            "ticks": ""
           }
          },
          "title": {
           "x": 0.05
          },
          "xaxis": {
           "automargin": true,
           "gridcolor": "#EBF0F8",
           "linecolor": "#EBF0F8",
           "ticks": "",
           "title": {
            "standoff": 15
           },
           "zerolinecolor": "#EBF0F8",
           "zerolinewidth": 2
          },
          "yaxis": {
           "automargin": true,
           "gridcolor": "#EBF0F8",
           "linecolor": "#EBF0F8",
           "ticks": "",
           "title": {
            "standoff": 15
           },
           "zerolinecolor": "#EBF0F8",
           "zerolinewidth": 2
          }
         }
        },
        "title": {
         "text": "Vote Transferability"
        },
        "width": 1450,
        "xaxis": {
         "anchor": "y",
         "autorange": true,
         "categoryarray": [
          "SELANGOR",
          "NEGERI SEMBILAN",
          "PULAU PINANG",
          "KEDAH",
          "KELANTAN",
          "TERENGGANU"
         ],
         "categoryorder": "array",
         "domain": [
          0,
          1
         ],
         "range": [
          -0.5,
          5.5
         ],
         "title": {
          "text": "State"
         },
         "type": "category"
        },
        "yaxis": {
         "anchor": "x",
         "autorange": true,
         "domain": [
          0,
          1
         ],
         "range": [
          -0.4144444444444445,
          2.4144444444444444
         ],
         "title": {
          "text": "Ratio"
         },
         "type": "linear"
        }
       }
      },
      "image/png": "[encoded data removed]",
      "text/html": [
       "<div>                            <div id=\"6fab6d6c-bffc-498b-ad25-fec549e0ddc0\" class=\"plotly-graph-div\" style=\"height:750px; width:1450px;\"></div>            <script type=\"text/javascript\">                require([\"plotly\"], function(Plotly) {                    window.PLOTLYENV=window.PLOTLYENV || {};                                    if (document.getElementById(\"6fab6d6c-bffc-498b-ad25-fec549e0ddc0\")) {                    Plotly.newPlot(                        \"6fab6d6c-bffc-498b-ad25-fec549e0ddc0\",                        [{\"alignmentgroup\":\"True\",\"hovertemplate\":\"Transfer=Unity_Transfer<br>State=%{x}<br>Ratio=%{y}<extra></extra>\",\"legendgroup\":\"Unity_Transfer\",\"marker\":{\"color\":\"#FF5E5E\",\"pattern\":{\"shape\":\"\"}},\"name\":\"Unity_Transfer\",\"offsetgroup\":\"Unity_Transfer\",\"orientation\":\"v\",\"showlegend\":true,\"textposition\":\"inside\",\"x\":[\"KEDAH\",\"KELANTAN\",\"NEGERI SEMBILAN\",\"PULAU PINANG\",\"SELANGOR\",\"TERENGGANU\"],\"xaxis\":\"x\",\"y\":[1.354,1.473,1.397,1.686,1.577,1.581],\"yaxis\":\"y\",\"type\":\"bar\",\"texttemplate\":\"%{y:.2f}\"},{\"alignmentgroup\":\"True\",\"hovertemplate\":\"Transfer=PN_Transfer<br>State=%{x}<br>Ratio=%{y}<extra></extra>\",\"legendgroup\":\"PN_Transfer\",\"marker\":{\"color\":\"#65D25C\",\"pattern\":{\"shape\":\"\"}},\"name\":\"PN_Transfer\",\"offsetgroup\":\"PN_Transfer\",\"orientation\":\"v\",\"showlegend\":true,\"textposition\":\"inside\",\"x\":[\"KEDAH\",\"KELANTAN\",\"NEGERI SEMBILAN\",\"PULAU PINANG\",\"SELANGOR\",\"TERENGGANU\"],\"xaxis\":\"x\",\"y\":[0.503,-0.273,0.293,0.185,0.2,0.082],\"yaxis\":\"y\",\"type\":\"bar\",\"texttemplate\":\"%{y:.2f}\"},{\"alignmentgroup\":\"True\",\"hovertemplate\":\"Transfer=No_Turnout<br>State=%{x}<br>Ratio=%{y}<extra></extra>\",\"legendgroup\":\"No_Turnout\",\"marker\":{\"color\":\"grey\",\"pattern\":{\"shape\":\"\"}},\"name\":\"No_Turnout\",\"offsetgroup\":\"No_Turnout\",\"orientation\":\"v\",\"showlegend\":true,\"textposition\":\"inside\",\"x\":[\"KEDAH\",\"KELANTAN\",\"NEGERI SEMBILAN\",\"PULAU PINANG\",\"SELANGOR\",\"TERENGGANU\"],\"xaxis\":\"x\",\"y\":[0.143,0.8,0.31,0.129,0.223,0.338],\"yaxis\":\"y\",\"type\":\"bar\",\"texttemplate\":\"%{y:.2f}\"}],                        {\"template\":{\"data\":{\"barpolar\":[{\"marker\":{\"line\":{\"color\":\"white\",\"width\":0.5},\"pattern\":{\"fillmode\":\"overlay\",\"size\":10,\"solidity\":0.2}},\"type\":\"barpolar\"}],\"bar\":[{\"error_x\":{\"color\":\"#2a3f5f\"},\"error_y\":{\"color\":\"#2a3f5f\"},\"marker\":{\"line\":{\"color\":\"white\",\"width\":0.5},\"pattern\":{\"fillmode\":\"overlay\",\"size\":10,\"solidity\":0.2}},\"type\":\"bar\"}],\"carpet\":[{\"aaxis\":{\"endlinecolor\":\"#2a3f5f\",\"gridcolor\":\"#C8D4E3\",\"linecolor\":\"#C8D4E3\",\"minorgridcolor\":\"#C8D4E3\",\"startlinecolor\":\"#2a3f5f\"},\"baxis\":{\"endlinecolor\":\"#2a3f5f\",\"gridcolor\":\"#C8D4E3\",\"linecolor\":\"#C8D4E3\",\"minorgridcolor\":\"#C8D4E3\",\"startlinecolor\":\"#2a3f5f\"},\"type\":\"carpet\"}],\"choropleth\":[{\"colorbar\":{\"outlinewidth\":0,\"ticks\":\"\"},\"type\":\"choropleth\"}],\"contourcarpet\":[{\"colorbar\":{\"outlinewidth\":0,\"ticks\":\"\"},\"type\":\"contourcarpet\"}],\"contour\":[{\"colorbar\":{\"outlinewidth\":0,\"ticks\":\"\"},\"colorscale\":[[0.0,\"#0d0887\"],[0.1111111111111111,\"#46039f\"],[0.2222222222222222,\"#7201a8\"],[0.3333333333333333,\"#9c179e\"],[0.4444444444444444,\"#bd3786\"],[0.5555555555555556,\"#d8576b\"],[0.6666666666666666,\"#ed7953\"],[0.7777777777777778,\"#fb9f3a\"],[0.8888888888888888,\"#fdca26\"],[1.0,\"#f0f921\"]],\"type\":\"contour\"}],\"heatmapgl\":[{\"colorbar\":{\"outlinewidth\":0,\"ticks\":\"\"},\"colorscale\":[[0.0,\"#0d0887\"],[0.1111111111111111,\"#46039f\"],[0.2222222222222222,\"#7201a8\"],[0.3333333333333333,\"#9c179e\"],[0.4444444444444444,\"#bd3786\"],[0.5555555555555556,\"#d8576b\"],[0.6666666666666666,\"#ed7953\"],[0.7777777777777778,\"#fb9f3a\"],[0.8888888888888888,\"#fdca26\"],[1.0,\"#f0f921\"]],\"type\":\"heatmapgl\"}],\"heatmap\":[{\"colorbar\":{\"outlinewidth\":0,\"ticks\":\"\"},\"colorscale\":[[0.0,\"#0d0887\"],[0.1111111111111111,\"#46039f\"],[0.2222222222222222,\"#7201a8\"],[0.3333333333333333,\"#9c179e\"],[0.4444444444444444,\"#bd3786\"],[0.5555555555555556,\"#d8576b\"],[0.6666666666666666,\"#ed7953\"],[0.7777777777777778,\"#fb9f3a\"],[0.8888888888888888,\"#fdca26\"],[1.0,\"#f0f921\"]],\"type\":\"heatmap\"}],\"histogram2dcontour\":[{\"colorbar\":{\"outlinewidth\":0,\"ticks\":\"\"},\"colorscale\":[[0.0,\"#0d0887\"],[0.1111111111111111,\"#46039f\"],[0.2222222222222222,\"#7201a8\"],[0.3333333333333333,\"#9c179e\"],[0.4444444444444444,\"#bd3786\"],[0.5555555555555556,\"#d8576b\"],[0.6666666666666666,\"#ed7953\"],[0.7777777777777778,\"#fb9f3a\"],[0.8888888888888888,\"#fdca26\"],[1.0,\"#f0f921\"]],\"type\":\"histogram2dcontour\"}],\"histogram2d\":[{\"colorbar\":{\"outlinewidth\":0,\"ticks\":\"\"},\"colorscale\":[[0.0,\"#0d0887\"],[0.1111111111111111,\"#46039f\"],[0.2222222222222222,\"#7201a8\"],[0.3333333333333333,\"#9c179e\"],[0.4444444444444444,\"#bd3786\"],[0.5555555555555556,\"#d8576b\"],[0.6666666666666666,\"#ed7953\"],[0.7777777777777778,\"#fb9f3a\"],[0.8888888888888888,\"#fdca26\"],[1.0,\"#f0f921\"]],\"type\":\"histogram2d\"}],\"histogram\":[{\"marker\":{\"pattern\":{\"fillmode\":\"overlay\",\"size\":10,\"solidity\":0.2}},\"type\":\"histogram\"}],\"mesh3d\":[{\"colorbar\":{\"outlinewidth\":0,\"ticks\":\"\"},\"type\":\"mesh3d\"}],\"parcoords\":[{\"line\":{\"colorbar\":{\"outlinewidth\":0,\"ticks\":\"\"}},\"type\":\"parcoords\"}],\"pie\":[{\"automargin\":true,\"type\":\"pie\"}],\"scatter3d\":[{\"line\":{\"colorbar\":{\"outlinewidth\":0,\"ticks\":\"\"}},\"marker\":{\"colorbar\":{\"outlinewidth\":0,\"ticks\":\"\"}},\"type\":\"scatter3d\"}],\"scattercarpet\":[{\"marker\":{\"colorbar\":{\"outlinewidth\":0,\"ticks\":\"\"}},\"type\":\"scattercarpet\"}],\"scattergeo\":[{\"marker\":{\"colorbar\":{\"outlinewidth\":0,\"ticks\":\"\"}},\"type\":\"scattergeo\"}],\"scattergl\":[{\"marker\":{\"colorbar\":{\"outlinewidth\":0,\"ticks\":\"\"}},\"type\":\"scattergl\"}],\"scattermapbox\":[{\"marker\":{\"colorbar\":{\"outlinewidth\":0,\"ticks\":\"\"}},\"type\":\"scattermapbox\"}],\"scatterpolargl\":[{\"marker\":{\"colorbar\":{\"outlinewidth\":0,\"ticks\":\"\"}},\"type\":\"scatterpolargl\"}],\"scatterpolar\":[{\"marker\":{\"colorbar\":{\"outlinewidth\":0,\"ticks\":\"\"}},\"type\":\"scatterpolar\"}],\"scatter\":[{\"fillpattern\":{\"fillmode\":\"overlay\",\"size\":10,\"solidity\":0.2},\"type\":\"scatter\"}],\"scatterternary\":[{\"marker\":{\"colorbar\":{\"outlinewidth\":0,\"ticks\":\"\"}},\"type\":\"scatterternary\"}],\"surface\":[{\"colorbar\":{\"outlinewidth\":0,\"ticks\":\"\"},\"colorscale\":[[0.0,\"#0d0887\"],[0.1111111111111111,\"#46039f\"],[0.2222222222222222,\"#7201a8\"],[0.3333333333333333,\"#9c179e\"],[0.4444444444444444,\"#bd3786\"],[0.5555555555555556,\"#d8576b\"],[0.6666666666666666,\"#ed7953\"],[0.7777777777777778,\"#fb9f3a\"],[0.8888888888888888,\"#fdca26\"],[1.0,\"#f0f921\"]],\"type\":\"surface\"}],\"table\":[{\"cells\":{\"fill\":{\"color\":\"#EBF0F8\"},\"line\":{\"color\":\"white\"}},\"header\":{\"fill\":{\"color\":\"#C8D4E3\"},\"line\":{\"color\":\"white\"}},\"type\":\"table\"}]},\"layout\":{\"annotationdefaults\":{\"arrowcolor\":\"#2a3f5f\",\"arrowhead\":0,\"arrowwidth\":1},\"autotypenumbers\":\"strict\",\"coloraxis\":{\"colorbar\":{\"outlinewidth\":0,\"ticks\":\"\"}},\"colorscale\":{\"diverging\":[[0,\"#8e0152\"],[0.1,\"#c51b7d\"],[0.2,\"#de77ae\"],[0.3,\"#f1b6da\"],[0.4,\"#fde0ef\"],[0.5,\"#f7f7f7\"],[0.6,\"#e6f5d0\"],[0.7,\"#b8e186\"],[0.8,\"#7fbc41\"],[0.9,\"#4d9221\"],[1,\"#276419\"]],\"sequential\":[[0.0,\"#0d0887\"],[0.1111111111111111,\"#46039f\"],[0.2222222222222222,\"#7201a8\"],[0.3333333333333333,\"#9c179e\"],[0.4444444444444444,\"#bd3786\"],[0.5555555555555556,\"#d8576b\"],[0.6666666666666666,\"#ed7953\"],[0.7777777777777778,\"#fb9f3a\"],[0.8888888888888888,\"#fdca26\"],[1.0,\"#f0f921\"]],\"sequentialminus\":[[0.0,\"#0d0887\"],[0.1111111111111111,\"#46039f\"],[0.2222222222222222,\"#7201a8\"],[0.3333333333333333,\"#9c179e\"],[0.4444444444444444,\"#bd3786\"],[0.5555555555555556,\"#d8576b\"],[0.6666666666666666,\"#ed7953\"],[0.7777777777777778,\"#fb9f3a\"],[0.8888888888888888,\"#fdca26\"],[1.0,\"#f0f921\"]]},\"colorway\":[\"#636efa\",\"#EF553B\",\"#00cc96\",\"#ab63fa\",\"#FFA15A\",\"#19d3f3\",\"#FF6692\",\"#B6E880\",\"#FF97FF\",\"#FECB52\"],\"font\":{\"color\":\"#2a3f5f\"},\"geo\":{\"bgcolor\":\"white\",\"lakecolor\":\"white\",\"landcolor\":\"white\",\"showlakes\":true,\"showland\":true,\"subunitcolor\":\"#C8D4E3\"},\"hoverlabel\":{\"align\":\"left\"},\"hovermode\":\"closest\",\"mapbox\":{\"style\":\"light\"},\"paper_bgcolor\":\"white\",\"plot_bgcolor\":\"white\",\"polar\":{\"angularaxis\":{\"gridcolor\":\"#EBF0F8\",\"linecolor\":\"#EBF0F8\",\"ticks\":\"\"},\"bgcolor\":\"white\",\"radialaxis\":{\"gridcolor\":\"#EBF0F8\",\"linecolor\":\"#EBF0F8\",\"ticks\":\"\"}},\"scene\":{\"xaxis\":{\"backgroundcolor\":\"white\",\"gridcolor\":\"#DFE8F3\",\"gridwidth\":2,\"linecolor\":\"#EBF0F8\",\"showbackground\":true,\"ticks\":\"\",\"zerolinecolor\":\"#EBF0F8\"},\"yaxis\":{\"backgroundcolor\":\"white\",\"gridcolor\":\"#DFE8F3\",\"gridwidth\":2,\"linecolor\":\"#EBF0F8\",\"showbackground\":true,\"ticks\":\"\",\"zerolinecolor\":\"#EBF0F8\"},\"zaxis\":{\"backgroundcolor\":\"white\",\"gridcolor\":\"#DFE8F3\",\"gridwidth\":2,\"linecolor\":\"#EBF0F8\",\"showbackground\":true,\"ticks\":\"\",\"zerolinecolor\":\"#EBF0F8\"}},\"shapedefaults\":{\"line\":{\"color\":\"#2a3f5f\"}},\"ternary\":{\"aaxis\":{\"gridcolor\":\"#DFE8F3\",\"linecolor\":\"#A2B1C6\",\"ticks\":\"\"},\"baxis\":{\"gridcolor\":\"#DFE8F3\",\"linecolor\":\"#A2B1C6\",\"ticks\":\"\"},\"bgcolor\":\"white\",\"caxis\":{\"gridcolor\":\"#DFE8F3\",\"linecolor\":\"#A2B1C6\",\"ticks\":\"\"}},\"title\":{\"x\":0.05},\"xaxis\":{\"automargin\":true,\"gridcolor\":\"#EBF0F8\",\"linecolor\":\"#EBF0F8\",\"ticks\":\"\",\"title\":{\"standoff\":15},\"zerolinecolor\":\"#EBF0F8\",\"zerolinewidth\":2},\"yaxis\":{\"automargin\":true,\"gridcolor\":\"#EBF0F8\",\"linecolor\":\"#EBF0F8\",\"ticks\":\"\",\"title\":{\"standoff\":15},\"zerolinecolor\":\"#EBF0F8\",\"zerolinewidth\":2}}},\"xaxis\":{\"anchor\":\"y\",\"domain\":[0.0,1.0],\"title\":{\"text\":\"State\"},\"categoryorder\":\"array\",\"categoryarray\":[\"SELANGOR\",\"NEGERI SEMBILAN\",\"PULAU PINANG\",\"KEDAH\",\"KELANTAN\",\"TERENGGANU\"]},\"yaxis\":{\"anchor\":\"x\",\"domain\":[0.0,1.0],\"title\":{\"text\":\"Ratio\"}},\"legend\":{\"title\":{},\"tracegroupgap\":0,\"orientation\":\"h\",\"yanchor\":\"top\",\"y\":1.05,\"xanchor\":\"center\",\"x\":0.5},\"margin\":{\"t\":60},\"barmode\":\"relative\",\"title\":{\"text\":\"Vote Transferability\"},\"height\":750,\"width\":1450},                        {\"displayModeBar\": false, \"responsive\": true}                    ).then(function(){\n",
       "                            \n",
       "var gd = document.getElementById('6fab6d6c-bffc-498b-ad25-fec549e0ddc0');\n",
       "var x = new MutationObserver(function (mutations, observer) {{\n",
       "        var display = window.getComputedStyle(gd).display;\n",
       "        if (!display || display === 'none') {{\n",
       "            console.log([gd, 'removed!']);\n",
       "            Plotly.purge(gd);\n",
       "            observer.disconnect();\n",
       "        }}\n",
       "}});\n",
       "\n",
       "// Listen for the removal of the full notebook cells\n",
       "var notebookContainer = gd.closest('#notebook-container');\n",
       "if (notebookContainer) {{\n",
       "    x.observe(notebookContainer, {childList: true});\n",
       "}}\n",
       "\n",
       "// Listen for the clearing of the current output cell\n",
       "var outputEl = gd.closest('.output');\n",
       "if (outputEl) {{\n",
       "    x.observe(outputEl, {childList: true});\n",
       "}}\n",
       "\n",
       "                        })                };                });            </script>        </div>"
      ]
     },
     "metadata": {},
     "output_type": "display_data"
    }
   ],
   "source": [
    "state_df = compute_transfer(xdf, groupby='GE15_STATE')\n",
    "\n",
    "display(state_df.style.format(\"{:,}\", ['GE15_Total', 'PRN_Total']).format(\"{:.2f}\", ['Unity_Transfer', 'PN_Transfer', 'No_Turnout']))\n",
    "long_df = state_df[['Unity_Transfer', 'PN_Transfer', 'No_Turnout']].reset_index().melt(id_vars='GE15_STATE')\n",
    "long_df.columns = ['State', 'Transfer', 'Ratio']\n",
    "\n",
    "color_mapping = {\n",
    "    'Unity_Transfer': '#FF5E5E',  # Darker pastel red\n",
    "    'PN_Transfer': '#65D25C',     # Darker pastel green\n",
    "    'No_Turnout': 'grey'\n",
    "}\n",
    "# Create a stacked bar plot using Plotly\n",
    "fig = px.bar(long_df, x='State', y='Ratio', color='Transfer', barmode='relative', color_discrete_map=color_mapping)\n",
    "fig.update_traces(texttemplate='%{y:.2f}', textposition='inside',)\n",
    "\n",
    "custom_order = ['SELANGOR', 'NEGERI SEMBILAN', 'PULAU PINANG', 'KEDAH', 'KELANTAN', 'TERENGGANU']\n",
    "fig.update_layout(title='Vote Transferability',\n",
    "    xaxis_title='State',\n",
    "    yaxis_title='Ratio',\n",
    "    height=750, width=1450,template='plotly_white', xaxis=dict(categoryorder='array', categoryarray=custom_order),\n",
    "                      legend=dict(title=None,orientation='h', yanchor='top', y=1.05, xanchor='center', x=0.5)  # Centered legend at the top\n",
    "                 \n",
    "                 )\n",
    "fig.show(config={'displayModeBar': False} )\n",
    "          "
   ]
  },
  {
   "cell_type": "markdown",
   "id": "65e3c0cb-c869-4e52-854d-d39b06bb18b4",
   "metadata": {},
   "source": [
    "## By Classification"
   ]
  },
  {
   "cell_type": "code",
   "execution_count": 304,
   "id": "a6ec8710-e847-46bd-bf92-0d4301a3782a",
   "metadata": {
    "tags": []
   },
   "outputs": [
    {
     "data": {
      "text/html": [
       "<style type=\"text/css\">\n",
       "</style>\n",
       "<table id=\"T_fe707\">\n",
       "  <thead>\n",
       "    <tr>\n",
       "      <th class=\"blank level0\" >&nbsp;</th>\n",
       "      <th id=\"T_fe707_level0_col0\" class=\"col_heading level0 col0\" >GE15_Total</th>\n",
       "      <th id=\"T_fe707_level0_col1\" class=\"col_heading level0 col1\" >PRN_Total</th>\n",
       "      <th id=\"T_fe707_level0_col2\" class=\"col_heading level0 col2\" >Unity_Transfer</th>\n",
       "      <th id=\"T_fe707_level0_col3\" class=\"col_heading level0 col3\" >PN_Transfer</th>\n",
       "      <th id=\"T_fe707_level0_col4\" class=\"col_heading level0 col4\" >No_Turnout</th>\n",
       "    </tr>\n",
       "    <tr>\n",
       "      <th class=\"index_name level0\" >Classification</th>\n",
       "      <th class=\"blank col0\" >&nbsp;</th>\n",
       "      <th class=\"blank col1\" >&nbsp;</th>\n",
       "      <th class=\"blank col2\" >&nbsp;</th>\n",
       "      <th class=\"blank col3\" >&nbsp;</th>\n",
       "      <th class=\"blank col4\" >&nbsp;</th>\n",
       "    </tr>\n",
       "  </thead>\n",
       "  <tbody>\n",
       "    <tr>\n",
       "      <th id=\"T_fe707_level0_row0\" class=\"row_heading level0 row0\" >RURAL</th>\n",
       "      <td id=\"T_fe707_row0_col0\" class=\"data row0 col0\" >823,155</td>\n",
       "      <td id=\"T_fe707_row0_col1\" class=\"data row0 col1\" >768,849</td>\n",
       "      <td id=\"T_fe707_row0_col2\" class=\"data row0 col2\" >1.37</td>\n",
       "      <td id=\"T_fe707_row0_col3\" class=\"data row0 col3\" >0.34</td>\n",
       "      <td id=\"T_fe707_row0_col4\" class=\"data row0 col4\" >0.29</td>\n",
       "    </tr>\n",
       "    <tr>\n",
       "      <th id=\"T_fe707_level0_row1\" class=\"row_heading level0 row1\" >SEMI URBAN</th>\n",
       "      <td id=\"T_fe707_row1_col0\" class=\"data row1 col0\" >2,813,788</td>\n",
       "      <td id=\"T_fe707_row1_col1\" class=\"data row1 col1\" >2,591,189</td>\n",
       "      <td id=\"T_fe707_row1_col2\" class=\"data row1 col2\" >1.45</td>\n",
       "      <td id=\"T_fe707_row1_col3\" class=\"data row1 col3\" >0.23</td>\n",
       "      <td id=\"T_fe707_row1_col4\" class=\"data row1 col4\" >0.32</td>\n",
       "    </tr>\n",
       "    <tr>\n",
       "      <th id=\"T_fe707_level0_row2\" class=\"row_heading level0 row2\" >URBAN</th>\n",
       "      <td id=\"T_fe707_row2_col0\" class=\"data row2 col0\" >3,704,737</td>\n",
       "      <td id=\"T_fe707_row2_col1\" class=\"data row2 col1\" >3,403,597</td>\n",
       "      <td id=\"T_fe707_row2_col2\" class=\"data row2 col2\" >1.61</td>\n",
       "      <td id=\"T_fe707_row2_col3\" class=\"data row2 col3\" >0.17</td>\n",
       "      <td id=\"T_fe707_row2_col4\" class=\"data row2 col4\" >0.23</td>\n",
       "    </tr>\n",
       "  </tbody>\n",
       "</table>\n"
      ],
      "text/plain": [
       "<pandas.io.formats.style.Styler at 0x1dbe8e3a3b0>"
      ]
     },
     "metadata": {},
     "output_type": "display_data"
    },
    {
     "data": {
      "application/vnd.plotly.v1+json": {
       "config": {
        "displayModeBar": false,
        "plotlyServerURL": "https://plot.ly"
       },
       "data": [
        {
         "alignmentgroup": "True",
         "hovertemplate": "Transfer=Unity_Transfer<br>Classification=%{x}<br>Ratio=%{y}<extra></extra>",
         "legendgroup": "Unity_Transfer",
         "marker": {
          "color": "#FF5E5E",
          "pattern": {
           "shape": ""
          }
         },
         "name": "Unity_Transfer",
         "offsetgroup": "Unity_Transfer",
         "orientation": "v",
         "showlegend": true,
         "textposition": "inside",
         "texttemplate": "%{y:.2f}",
         "type": "bar",
         "x": [
          "RURAL",
          "SEMI URBAN",
          "URBAN"
         ],
         "xaxis": "x",
         "y": [
          1.369,
          1.452,
          1.608
         ],
         "yaxis": "y"
        },
        {
         "alignmentgroup": "True",
         "hovertemplate": "Transfer=PN_Transfer<br>Classification=%{x}<br>Ratio=%{y}<extra></extra>",
         "legendgroup": "PN_Transfer",
         "marker": {
          "color": "#65D25C",
          "pattern": {
           "shape": ""
          }
         },
         "name": "PN_Transfer",
         "offsetgroup": "PN_Transfer",
         "orientation": "v",
         "showlegend": true,
         "textposition": "inside",
         "texttemplate": "%{y:.2f}",
         "type": "bar",
         "x": [
          "RURAL",
          "SEMI URBAN",
          "URBAN"
         ],
         "xaxis": "x",
         "y": [
          0.339,
          0.225,
          0.165
         ],
         "yaxis": "y"
        },
        {
         "alignmentgroup": "True",
         "hovertemplate": "Transfer=No_Turnout<br>Classification=%{x}<br>Ratio=%{y}<extra></extra>",
         "legendgroup": "No_Turnout",
         "marker": {
          "color": "grey",
          "pattern": {
           "shape": ""
          }
         },
         "name": "No_Turnout",
         "offsetgroup": "No_Turnout",
         "orientation": "v",
         "showlegend": true,
         "textposition": "inside",
         "texttemplate": "%{y:.2f}",
         "type": "bar",
         "x": [
          "RURAL",
          "SEMI URBAN",
          "URBAN"
         ],
         "xaxis": "x",
         "y": [
          0.291,
          0.322,
          0.227
         ],
         "yaxis": "y"
        }
       ],
       "layout": {
        "barmode": "relative",
        "height": 750,
        "legend": {
         "orientation": "h",
         "title": {},
         "tracegroupgap": 0,
         "x": 0.5,
         "xanchor": "center",
         "y": 1.05,
         "yanchor": "top"
        },
        "margin": {
         "t": 60
        },
        "template": {
         "data": {
          "bar": [
           {
            "error_x": {
             "color": "#2a3f5f"
            },
            "error_y": {
             "color": "#2a3f5f"
            },
            "marker": {
             "line": {
              "color": "white",
              "width": 0.5
             },
             "pattern": {
              "fillmode": "overlay",
              "size": 10,
              "solidity": 0.2
             }
            },
            "type": "bar"
           }
          ],
          "barpolar": [
           {
            "marker": {
             "line": {
              "color": "white",
              "width": 0.5
             },
             "pattern": {
              "fillmode": "overlay",
              "size": 10,
              "solidity": 0.2
             }
            },
            "type": "barpolar"
           }
          ],
          "carpet": [
           {
            "aaxis": {
             "endlinecolor": "#2a3f5f",
             "gridcolor": "#C8D4E3",
             "linecolor": "#C8D4E3",
             "minorgridcolor": "#C8D4E3",
             "startlinecolor": "#2a3f5f"
            },
            "baxis": {
             "endlinecolor": "#2a3f5f",
             "gridcolor": "#C8D4E3",
             "linecolor": "#C8D4E3",
             "minorgridcolor": "#C8D4E3",
             "startlinecolor": "#2a3f5f"
            },
            "type": "carpet"
           }
          ],
          "choropleth": [
           {
            "colorbar": {
             "outlinewidth": 0,
             "ticks": ""
            },
            "type": "choropleth"
           }
          ],
          "contour": [
           {
            "colorbar": {
             "outlinewidth": 0,
             "ticks": ""
            },
            "colorscale": [
             [
              0,
              "#0d0887"
             ],
             [
              0.1111111111111111,
              "#46039f"
             ],
             [
              0.2222222222222222,
              "#7201a8"
             ],
             [
              0.3333333333333333,
              "#9c179e"
             ],
             [
              0.4444444444444444,
              "#bd3786"
             ],
             [
              0.5555555555555556,
              "#d8576b"
             ],
             [
              0.6666666666666666,
              "#ed7953"
             ],
             [
              0.7777777777777778,
              "#fb9f3a"
             ],
             [
              0.8888888888888888,
              "#fdca26"
             ],
             [
              1,
              "#f0f921"
             ]
            ],
            "type": "contour"
           }
          ],
          "contourcarpet": [
           {
            "colorbar": {
             "outlinewidth": 0,
             "ticks": ""
            },
            "type": "contourcarpet"
           }
          ],
          "heatmap": [
           {
            "colorbar": {
             "outlinewidth": 0,
             "ticks": ""
            },
            "colorscale": [
             [
              0,
              "#0d0887"
             ],
             [
              0.1111111111111111,
              "#46039f"
             ],
             [
              0.2222222222222222,
              "#7201a8"
             ],
             [
              0.3333333333333333,
              "#9c179e"
             ],
             [
              0.4444444444444444,
              "#bd3786"
             ],
             [
              0.5555555555555556,
              "#d8576b"
             ],
             [
              0.6666666666666666,
              "#ed7953"
             ],
             [
              0.7777777777777778,
              "#fb9f3a"
             ],
             [
              0.8888888888888888,
              "#fdca26"
             ],
             [
              1,
              "#f0f921"
             ]
            ],
            "type": "heatmap"
           }
          ],
          "heatmapgl": [
           {
            "colorbar": {
             "outlinewidth": 0,
             "ticks": ""
            },
            "colorscale": [
             [
              0,
              "#0d0887"
             ],
             [
              0.1111111111111111,
              "#46039f"
             ],
             [
              0.2222222222222222,
              "#7201a8"
             ],
             [
              0.3333333333333333,
              "#9c179e"
             ],
             [
              0.4444444444444444,
              "#bd3786"
             ],
             [
              0.5555555555555556,
              "#d8576b"
             ],
             [
              0.6666666666666666,
              "#ed7953"
             ],
             [
              0.7777777777777778,
              "#fb9f3a"
             ],
             [
              0.8888888888888888,
              "#fdca26"
             ],
             [
              1,
              "#f0f921"
             ]
            ],
            "type": "heatmapgl"
           }
          ],
          "histogram": [
           {
            "marker": {
             "pattern": {
              "fillmode": "overlay",
              "size": 10,
              "solidity": 0.2
             }
            },
            "type": "histogram"
           }
          ],
          "histogram2d": [
           {
            "colorbar": {
             "outlinewidth": 0,
             "ticks": ""
            },
            "colorscale": [
             [
              0,
              "#0d0887"
             ],
             [
              0.1111111111111111,
              "#46039f"
             ],
             [
              0.2222222222222222,
              "#7201a8"
             ],
             [
              0.3333333333333333,
              "#9c179e"
             ],
             [
              0.4444444444444444,
              "#bd3786"
             ],
             [
              0.5555555555555556,
              "#d8576b"
             ],
             [
              0.6666666666666666,
              "#ed7953"
             ],
             [
              0.7777777777777778,
              "#fb9f3a"
             ],
             [
              0.8888888888888888,
              "#fdca26"
             ],
             [
              1,
              "#f0f921"
             ]
            ],
            "type": "histogram2d"
           }
          ],
          "histogram2dcontour": [
           {
            "colorbar": {
             "outlinewidth": 0,
             "ticks": ""
            },
            "colorscale": [
             [
              0,
              "#0d0887"
             ],
             [
              0.1111111111111111,
              "#46039f"
             ],
             [
              0.2222222222222222,
              "#7201a8"
             ],
             [
              0.3333333333333333,
              "#9c179e"
             ],
             [
              0.4444444444444444,
              "#bd3786"
             ],
             [
              0.5555555555555556,
              "#d8576b"
             ],
             [
              0.6666666666666666,
              "#ed7953"
             ],
             [
              0.7777777777777778,
              "#fb9f3a"
             ],
             [
              0.8888888888888888,
              "#fdca26"
             ],
             [
              1,
              "#f0f921"
             ]
            ],
            "type": "histogram2dcontour"
           }
          ],
          "mesh3d": [
           {
            "colorbar": {
             "outlinewidth": 0,
             "ticks": ""
            },
            "type": "mesh3d"
           }
          ],
          "parcoords": [
           {
            "line": {
             "colorbar": {
              "outlinewidth": 0,
              "ticks": ""
             }
            },
            "type": "parcoords"
           }
          ],
          "pie": [
           {
            "automargin": true,
            "type": "pie"
           }
          ],
          "scatter": [
           {
            "fillpattern": {
             "fillmode": "overlay",
             "size": 10,
             "solidity": 0.2
            },
            "type": "scatter"
           }
          ],
          "scatter3d": [
           {
            "line": {
             "colorbar": {
              "outlinewidth": 0,
              "ticks": ""
             }
            },
            "marker": {
             "colorbar": {
              "outlinewidth": 0,
              "ticks": ""
             }
            },
            "type": "scatter3d"
           }
          ],
          "scattercarpet": [
           {
            "marker": {
             "colorbar": {
              "outlinewidth": 0,
              "ticks": ""
             }
            },
            "type": "scattercarpet"
           }
          ],
          "scattergeo": [
           {
            "marker": {
             "colorbar": {
              "outlinewidth": 0,
              "ticks": ""
             }
            },
            "type": "scattergeo"
           }
          ],
          "scattergl": [
           {
            "marker": {
             "colorbar": {
              "outlinewidth": 0,
              "ticks": ""
             }
            },
            "type": "scattergl"
           }
          ],
          "scattermapbox": [
           {
            "marker": {
             "colorbar": {
              "outlinewidth": 0,
              "ticks": ""
             }
            },
            "type": "scattermapbox"
           }
          ],
          "scatterpolar": [
           {
            "marker": {
             "colorbar": {
              "outlinewidth": 0,
              "ticks": ""
             }
            },
            "type": "scatterpolar"
           }
          ],
          "scatterpolargl": [
           {
            "marker": {
             "colorbar": {
              "outlinewidth": 0,
              "ticks": ""
             }
            },
            "type": "scatterpolargl"
           }
          ],
          "scatterternary": [
           {
            "marker": {
             "colorbar": {
              "outlinewidth": 0,
              "ticks": ""
             }
            },
            "type": "scatterternary"
           }
          ],
          "surface": [
           {
            "colorbar": {
             "outlinewidth": 0,
             "ticks": ""
            },
            "colorscale": [
             [
              0,
              "#0d0887"
             ],
             [
              0.1111111111111111,
              "#46039f"
             ],
             [
              0.2222222222222222,
              "#7201a8"
             ],
             [
              0.3333333333333333,
              "#9c179e"
             ],
             [
              0.4444444444444444,
              "#bd3786"
             ],
             [
              0.5555555555555556,
              "#d8576b"
             ],
             [
              0.6666666666666666,
              "#ed7953"
             ],
             [
              0.7777777777777778,
              "#fb9f3a"
             ],
             [
              0.8888888888888888,
              "#fdca26"
             ],
             [
              1,
              "#f0f921"
             ]
            ],
            "type": "surface"
           }
          ],
          "table": [
           {
            "cells": {
             "fill": {
              "color": "#EBF0F8"
             },
             "line": {
              "color": "white"
             }
            },
            "header": {
             "fill": {
              "color": "#C8D4E3"
             },
             "line": {
              "color": "white"
             }
            },
            "type": "table"
           }
          ]
         },
         "layout": {
          "annotationdefaults": {
           "arrowcolor": "#2a3f5f",
           "arrowhead": 0,
           "arrowwidth": 1
          },
          "autotypenumbers": "strict",
          "coloraxis": {
           "colorbar": {
            "outlinewidth": 0,
            "ticks": ""
           }
          },
          "colorscale": {
           "diverging": [
            [
             0,
             "#8e0152"
            ],
            [
             0.1,
             "#c51b7d"
            ],
            [
             0.2,
             "#de77ae"
            ],
            [
             0.3,
             "#f1b6da"
            ],
            [
             0.4,
             "#fde0ef"
            ],
            [
             0.5,
             "#f7f7f7"
            ],
            [
             0.6,
             "#e6f5d0"
            ],
            [
             0.7,
             "#b8e186"
            ],
            [
             0.8,
             "#7fbc41"
            ],
            [
             0.9,
             "#4d9221"
            ],
            [
             1,
             "#276419"
            ]
           ],
           "sequential": [
            [
             0,
             "#0d0887"
            ],
            [
             0.1111111111111111,
             "#46039f"
            ],
            [
             0.2222222222222222,
             "#7201a8"
            ],
            [
             0.3333333333333333,
             "#9c179e"
            ],
            [
             0.4444444444444444,
             "#bd3786"
            ],
            [
             0.5555555555555556,
             "#d8576b"
            ],
            [
             0.6666666666666666,
             "#ed7953"
            ],
            [
             0.7777777777777778,
             "#fb9f3a"
            ],
            [
             0.8888888888888888,
             "#fdca26"
            ],
            [
             1,
             "#f0f921"
            ]
           ],
           "sequentialminus": [
            [
             0,
             "#0d0887"
            ],
            [
             0.1111111111111111,
             "#46039f"
            ],
            [
             0.2222222222222222,
             "#7201a8"
            ],
            [
             0.3333333333333333,
             "#9c179e"
            ],
            [
             0.4444444444444444,
             "#bd3786"
            ],
            [
             0.5555555555555556,
             "#d8576b"
            ],
            [
             0.6666666666666666,
             "#ed7953"
            ],
            [
             0.7777777777777778,
             "#fb9f3a"
            ],
            [
             0.8888888888888888,
             "#fdca26"
            ],
            [
             1,
             "#f0f921"
            ]
           ]
          },
          "colorway": [
           "#636efa",
           "#EF553B",
           "#00cc96",
           "#ab63fa",
           "#FFA15A",
           "#19d3f3",
           "#FF6692",
           "#B6E880",
           "#FF97FF",
           "#FECB52"
          ],
          "font": {
           "color": "#2a3f5f"
          },
          "geo": {
           "bgcolor": "white",
           "lakecolor": "white",
           "landcolor": "white",
           "showlakes": true,
           "showland": true,
           "subunitcolor": "#C8D4E3"
          },
          "hoverlabel": {
           "align": "left"
          },
          "hovermode": "closest",
          "mapbox": {
           "style": "light"
          },
          "paper_bgcolor": "white",
          "plot_bgcolor": "white",
          "polar": {
           "angularaxis": {
            "gridcolor": "#EBF0F8",
            "linecolor": "#EBF0F8",
            "ticks": ""
           },
           "bgcolor": "white",
           "radialaxis": {
            "gridcolor": "#EBF0F8",
            "linecolor": "#EBF0F8",
            "ticks": ""
           }
          },
          "scene": {
           "xaxis": {
            "backgroundcolor": "white",
            "gridcolor": "#DFE8F3",
            "gridwidth": 2,
            "linecolor": "#EBF0F8",
            "showbackground": true,
            "ticks": "",
            "zerolinecolor": "#EBF0F8"
           },
           "yaxis": {
            "backgroundcolor": "white",
            "gridcolor": "#DFE8F3",
            "gridwidth": 2,
            "linecolor": "#EBF0F8",
            "showbackground": true,
            "ticks": "",
            "zerolinecolor": "#EBF0F8"
           },
           "zaxis": {
            "backgroundcolor": "white",
            "gridcolor": "#DFE8F3",
            "gridwidth": 2,
            "linecolor": "#EBF0F8",
            "showbackground": true,
            "ticks": "",
            "zerolinecolor": "#EBF0F8"
           }
          },
          "shapedefaults": {
           "line": {
            "color": "#2a3f5f"
           }
          },
          "ternary": {
           "aaxis": {
            "gridcolor": "#DFE8F3",
            "linecolor": "#A2B1C6",
            "ticks": ""
           },
           "baxis": {
            "gridcolor": "#DFE8F3",
            "linecolor": "#A2B1C6",
            "ticks": ""
           },
           "bgcolor": "white",
           "caxis": {
            "gridcolor": "#DFE8F3",
            "linecolor": "#A2B1C6",
            "ticks": ""
           }
          },
          "title": {
           "x": 0.05
          },
          "xaxis": {
           "automargin": true,
           "gridcolor": "#EBF0F8",
           "linecolor": "#EBF0F8",
           "ticks": "",
           "title": {
            "standoff": 15
           },
           "zerolinecolor": "#EBF0F8",
           "zerolinewidth": 2
          },
          "yaxis": {
           "automargin": true,
           "gridcolor": "#EBF0F8",
           "linecolor": "#EBF0F8",
           "ticks": "",
           "title": {
            "standoff": 15
           },
           "zerolinecolor": "#EBF0F8",
           "zerolinewidth": 2
          }
         }
        },
        "title": {
         "text": "Vote Transferability"
        },
        "width": 1450,
        "xaxis": {
         "anchor": "y",
         "autorange": true,
         "categoryarray": [
          "SELANGOR",
          "NEGERI SEMBILAN",
          "PULAU PINANG",
          "KEDAH",
          "KELANTAN",
          "TERENGGANU"
         ],
         "categoryorder": "array",
         "domain": [
          0,
          1
         ],
         "range": [
          5.5,
          8.5
         ],
         "title": {
          "text": "Classification"
         },
         "type": "category"
        },
        "yaxis": {
         "anchor": "x",
         "autorange": true,
         "domain": [
          0,
          1
         ],
         "range": [
          0,
          2.1052631578947367
         ],
         "title": {
          "text": "Ratio"
         },
         "type": "linear"
        }
       }
      },
      "image/png": "[encoded data removed]",
      "text/html": [
       "<div>                            <div id=\"c4732ae4-0054-4b0e-a6a4-600f6a77e811\" class=\"plotly-graph-div\" style=\"height:750px; width:1450px;\"></div>            <script type=\"text/javascript\">                require([\"plotly\"], function(Plotly) {                    window.PLOTLYENV=window.PLOTLYENV || {};                                    if (document.getElementById(\"c4732ae4-0054-4b0e-a6a4-600f6a77e811\")) {                    Plotly.newPlot(                        \"c4732ae4-0054-4b0e-a6a4-600f6a77e811\",                        [{\"alignmentgroup\":\"True\",\"hovertemplate\":\"Transfer=Unity_Transfer<br>Classification=%{x}<br>Ratio=%{y}<extra></extra>\",\"legendgroup\":\"Unity_Transfer\",\"marker\":{\"color\":\"#FF5E5E\",\"pattern\":{\"shape\":\"\"}},\"name\":\"Unity_Transfer\",\"offsetgroup\":\"Unity_Transfer\",\"orientation\":\"v\",\"showlegend\":true,\"textposition\":\"inside\",\"x\":[\"RURAL\",\"SEMI URBAN\",\"URBAN\"],\"xaxis\":\"x\",\"y\":[1.369,1.452,1.608],\"yaxis\":\"y\",\"type\":\"bar\",\"texttemplate\":\"%{y:.2f}\"},{\"alignmentgroup\":\"True\",\"hovertemplate\":\"Transfer=PN_Transfer<br>Classification=%{x}<br>Ratio=%{y}<extra></extra>\",\"legendgroup\":\"PN_Transfer\",\"marker\":{\"color\":\"#65D25C\",\"pattern\":{\"shape\":\"\"}},\"name\":\"PN_Transfer\",\"offsetgroup\":\"PN_Transfer\",\"orientation\":\"v\",\"showlegend\":true,\"textposition\":\"inside\",\"x\":[\"RURAL\",\"SEMI URBAN\",\"URBAN\"],\"xaxis\":\"x\",\"y\":[0.339,0.225,0.165],\"yaxis\":\"y\",\"type\":\"bar\",\"texttemplate\":\"%{y:.2f}\"},{\"alignmentgroup\":\"True\",\"hovertemplate\":\"Transfer=No_Turnout<br>Classification=%{x}<br>Ratio=%{y}<extra></extra>\",\"legendgroup\":\"No_Turnout\",\"marker\":{\"color\":\"grey\",\"pattern\":{\"shape\":\"\"}},\"name\":\"No_Turnout\",\"offsetgroup\":\"No_Turnout\",\"orientation\":\"v\",\"showlegend\":true,\"textposition\":\"inside\",\"x\":[\"RURAL\",\"SEMI URBAN\",\"URBAN\"],\"xaxis\":\"x\",\"y\":[0.291,0.322,0.227],\"yaxis\":\"y\",\"type\":\"bar\",\"texttemplate\":\"%{y:.2f}\"}],                        {\"template\":{\"data\":{\"barpolar\":[{\"marker\":{\"line\":{\"color\":\"white\",\"width\":0.5},\"pattern\":{\"fillmode\":\"overlay\",\"size\":10,\"solidity\":0.2}},\"type\":\"barpolar\"}],\"bar\":[{\"error_x\":{\"color\":\"#2a3f5f\"},\"error_y\":{\"color\":\"#2a3f5f\"},\"marker\":{\"line\":{\"color\":\"white\",\"width\":0.5},\"pattern\":{\"fillmode\":\"overlay\",\"size\":10,\"solidity\":0.2}},\"type\":\"bar\"}],\"carpet\":[{\"aaxis\":{\"endlinecolor\":\"#2a3f5f\",\"gridcolor\":\"#C8D4E3\",\"linecolor\":\"#C8D4E3\",\"minorgridcolor\":\"#C8D4E3\",\"startlinecolor\":\"#2a3f5f\"},\"baxis\":{\"endlinecolor\":\"#2a3f5f\",\"gridcolor\":\"#C8D4E3\",\"linecolor\":\"#C8D4E3\",\"minorgridcolor\":\"#C8D4E3\",\"startlinecolor\":\"#2a3f5f\"},\"type\":\"carpet\"}],\"choropleth\":[{\"colorbar\":{\"outlinewidth\":0,\"ticks\":\"\"},\"type\":\"choropleth\"}],\"contourcarpet\":[{\"colorbar\":{\"outlinewidth\":0,\"ticks\":\"\"},\"type\":\"contourcarpet\"}],\"contour\":[{\"colorbar\":{\"outlinewidth\":0,\"ticks\":\"\"},\"colorscale\":[[0.0,\"#0d0887\"],[0.1111111111111111,\"#46039f\"],[0.2222222222222222,\"#7201a8\"],[0.3333333333333333,\"#9c179e\"],[0.4444444444444444,\"#bd3786\"],[0.5555555555555556,\"#d8576b\"],[0.6666666666666666,\"#ed7953\"],[0.7777777777777778,\"#fb9f3a\"],[0.8888888888888888,\"#fdca26\"],[1.0,\"#f0f921\"]],\"type\":\"contour\"}],\"heatmapgl\":[{\"colorbar\":{\"outlinewidth\":0,\"ticks\":\"\"},\"colorscale\":[[0.0,\"#0d0887\"],[0.1111111111111111,\"#46039f\"],[0.2222222222222222,\"#7201a8\"],[0.3333333333333333,\"#9c179e\"],[0.4444444444444444,\"#bd3786\"],[0.5555555555555556,\"#d8576b\"],[0.6666666666666666,\"#ed7953\"],[0.7777777777777778,\"#fb9f3a\"],[0.8888888888888888,\"#fdca26\"],[1.0,\"#f0f921\"]],\"type\":\"heatmapgl\"}],\"heatmap\":[{\"colorbar\":{\"outlinewidth\":0,\"ticks\":\"\"},\"colorscale\":[[0.0,\"#0d0887\"],[0.1111111111111111,\"#46039f\"],[0.2222222222222222,\"#7201a8\"],[0.3333333333333333,\"#9c179e\"],[0.4444444444444444,\"#bd3786\"],[0.5555555555555556,\"#d8576b\"],[0.6666666666666666,\"#ed7953\"],[0.7777777777777778,\"#fb9f3a\"],[0.8888888888888888,\"#fdca26\"],[1.0,\"#f0f921\"]],\"type\":\"heatmap\"}],\"histogram2dcontour\":[{\"colorbar\":{\"outlinewidth\":0,\"ticks\":\"\"},\"colorscale\":[[0.0,\"#0d0887\"],[0.1111111111111111,\"#46039f\"],[0.2222222222222222,\"#7201a8\"],[0.3333333333333333,\"#9c179e\"],[0.4444444444444444,\"#bd3786\"],[0.5555555555555556,\"#d8576b\"],[0.6666666666666666,\"#ed7953\"],[0.7777777777777778,\"#fb9f3a\"],[0.8888888888888888,\"#fdca26\"],[1.0,\"#f0f921\"]],\"type\":\"histogram2dcontour\"}],\"histogram2d\":[{\"colorbar\":{\"outlinewidth\":0,\"ticks\":\"\"},\"colorscale\":[[0.0,\"#0d0887\"],[0.1111111111111111,\"#46039f\"],[0.2222222222222222,\"#7201a8\"],[0.3333333333333333,\"#9c179e\"],[0.4444444444444444,\"#bd3786\"],[0.5555555555555556,\"#d8576b\"],[0.6666666666666666,\"#ed7953\"],[0.7777777777777778,\"#fb9f3a\"],[0.8888888888888888,\"#fdca26\"],[1.0,\"#f0f921\"]],\"type\":\"histogram2d\"}],\"histogram\":[{\"marker\":{\"pattern\":{\"fillmode\":\"overlay\",\"size\":10,\"solidity\":0.2}},\"type\":\"histogram\"}],\"mesh3d\":[{\"colorbar\":{\"outlinewidth\":0,\"ticks\":\"\"},\"type\":\"mesh3d\"}],\"parcoords\":[{\"line\":{\"colorbar\":{\"outlinewidth\":0,\"ticks\":\"\"}},\"type\":\"parcoords\"}],\"pie\":[{\"automargin\":true,\"type\":\"pie\"}],\"scatter3d\":[{\"line\":{\"colorbar\":{\"outlinewidth\":0,\"ticks\":\"\"}},\"marker\":{\"colorbar\":{\"outlinewidth\":0,\"ticks\":\"\"}},\"type\":\"scatter3d\"}],\"scattercarpet\":[{\"marker\":{\"colorbar\":{\"outlinewidth\":0,\"ticks\":\"\"}},\"type\":\"scattercarpet\"}],\"scattergeo\":[{\"marker\":{\"colorbar\":{\"outlinewidth\":0,\"ticks\":\"\"}},\"type\":\"scattergeo\"}],\"scattergl\":[{\"marker\":{\"colorbar\":{\"outlinewidth\":0,\"ticks\":\"\"}},\"type\":\"scattergl\"}],\"scattermapbox\":[{\"marker\":{\"colorbar\":{\"outlinewidth\":0,\"ticks\":\"\"}},\"type\":\"scattermapbox\"}],\"scatterpolargl\":[{\"marker\":{\"colorbar\":{\"outlinewidth\":0,\"ticks\":\"\"}},\"type\":\"scatterpolargl\"}],\"scatterpolar\":[{\"marker\":{\"colorbar\":{\"outlinewidth\":0,\"ticks\":\"\"}},\"type\":\"scatterpolar\"}],\"scatter\":[{\"fillpattern\":{\"fillmode\":\"overlay\",\"size\":10,\"solidity\":0.2},\"type\":\"scatter\"}],\"scatterternary\":[{\"marker\":{\"colorbar\":{\"outlinewidth\":0,\"ticks\":\"\"}},\"type\":\"scatterternary\"}],\"surface\":[{\"colorbar\":{\"outlinewidth\":0,\"ticks\":\"\"},\"colorscale\":[[0.0,\"#0d0887\"],[0.1111111111111111,\"#46039f\"],[0.2222222222222222,\"#7201a8\"],[0.3333333333333333,\"#9c179e\"],[0.4444444444444444,\"#bd3786\"],[0.5555555555555556,\"#d8576b\"],[0.6666666666666666,\"#ed7953\"],[0.7777777777777778,\"#fb9f3a\"],[0.8888888888888888,\"#fdca26\"],[1.0,\"#f0f921\"]],\"type\":\"surface\"}],\"table\":[{\"cells\":{\"fill\":{\"color\":\"#EBF0F8\"},\"line\":{\"color\":\"white\"}},\"header\":{\"fill\":{\"color\":\"#C8D4E3\"},\"line\":{\"color\":\"white\"}},\"type\":\"table\"}]},\"layout\":{\"annotationdefaults\":{\"arrowcolor\":\"#2a3f5f\",\"arrowhead\":0,\"arrowwidth\":1},\"autotypenumbers\":\"strict\",\"coloraxis\":{\"colorbar\":{\"outlinewidth\":0,\"ticks\":\"\"}},\"colorscale\":{\"diverging\":[[0,\"#8e0152\"],[0.1,\"#c51b7d\"],[0.2,\"#de77ae\"],[0.3,\"#f1b6da\"],[0.4,\"#fde0ef\"],[0.5,\"#f7f7f7\"],[0.6,\"#e6f5d0\"],[0.7,\"#b8e186\"],[0.8,\"#7fbc41\"],[0.9,\"#4d9221\"],[1,\"#276419\"]],\"sequential\":[[0.0,\"#0d0887\"],[0.1111111111111111,\"#46039f\"],[0.2222222222222222,\"#7201a8\"],[0.3333333333333333,\"#9c179e\"],[0.4444444444444444,\"#bd3786\"],[0.5555555555555556,\"#d8576b\"],[0.6666666666666666,\"#ed7953\"],[0.7777777777777778,\"#fb9f3a\"],[0.8888888888888888,\"#fdca26\"],[1.0,\"#f0f921\"]],\"sequentialminus\":[[0.0,\"#0d0887\"],[0.1111111111111111,\"#46039f\"],[0.2222222222222222,\"#7201a8\"],[0.3333333333333333,\"#9c179e\"],[0.4444444444444444,\"#bd3786\"],[0.5555555555555556,\"#d8576b\"],[0.6666666666666666,\"#ed7953\"],[0.7777777777777778,\"#fb9f3a\"],[0.8888888888888888,\"#fdca26\"],[1.0,\"#f0f921\"]]},\"colorway\":[\"#636efa\",\"#EF553B\",\"#00cc96\",\"#ab63fa\",\"#FFA15A\",\"#19d3f3\",\"#FF6692\",\"#B6E880\",\"#FF97FF\",\"#FECB52\"],\"font\":{\"color\":\"#2a3f5f\"},\"geo\":{\"bgcolor\":\"white\",\"lakecolor\":\"white\",\"landcolor\":\"white\",\"showlakes\":true,\"showland\":true,\"subunitcolor\":\"#C8D4E3\"},\"hoverlabel\":{\"align\":\"left\"},\"hovermode\":\"closest\",\"mapbox\":{\"style\":\"light\"},\"paper_bgcolor\":\"white\",\"plot_bgcolor\":\"white\",\"polar\":{\"angularaxis\":{\"gridcolor\":\"#EBF0F8\",\"linecolor\":\"#EBF0F8\",\"ticks\":\"\"},\"bgcolor\":\"white\",\"radialaxis\":{\"gridcolor\":\"#EBF0F8\",\"linecolor\":\"#EBF0F8\",\"ticks\":\"\"}},\"scene\":{\"xaxis\":{\"backgroundcolor\":\"white\",\"gridcolor\":\"#DFE8F3\",\"gridwidth\":2,\"linecolor\":\"#EBF0F8\",\"showbackground\":true,\"ticks\":\"\",\"zerolinecolor\":\"#EBF0F8\"},\"yaxis\":{\"backgroundcolor\":\"white\",\"gridcolor\":\"#DFE8F3\",\"gridwidth\":2,\"linecolor\":\"#EBF0F8\",\"showbackground\":true,\"ticks\":\"\",\"zerolinecolor\":\"#EBF0F8\"},\"zaxis\":{\"backgroundcolor\":\"white\",\"gridcolor\":\"#DFE8F3\",\"gridwidth\":2,\"linecolor\":\"#EBF0F8\",\"showbackground\":true,\"ticks\":\"\",\"zerolinecolor\":\"#EBF0F8\"}},\"shapedefaults\":{\"line\":{\"color\":\"#2a3f5f\"}},\"ternary\":{\"aaxis\":{\"gridcolor\":\"#DFE8F3\",\"linecolor\":\"#A2B1C6\",\"ticks\":\"\"},\"baxis\":{\"gridcolor\":\"#DFE8F3\",\"linecolor\":\"#A2B1C6\",\"ticks\":\"\"},\"bgcolor\":\"white\",\"caxis\":{\"gridcolor\":\"#DFE8F3\",\"linecolor\":\"#A2B1C6\",\"ticks\":\"\"}},\"title\":{\"x\":0.05},\"xaxis\":{\"automargin\":true,\"gridcolor\":\"#EBF0F8\",\"linecolor\":\"#EBF0F8\",\"ticks\":\"\",\"title\":{\"standoff\":15},\"zerolinecolor\":\"#EBF0F8\",\"zerolinewidth\":2},\"yaxis\":{\"automargin\":true,\"gridcolor\":\"#EBF0F8\",\"linecolor\":\"#EBF0F8\",\"ticks\":\"\",\"title\":{\"standoff\":15},\"zerolinecolor\":\"#EBF0F8\",\"zerolinewidth\":2}}},\"xaxis\":{\"anchor\":\"y\",\"domain\":[0.0,1.0],\"title\":{\"text\":\"Classification\"},\"categoryorder\":\"array\",\"categoryarray\":[\"SELANGOR\",\"NEGERI SEMBILAN\",\"PULAU PINANG\",\"KEDAH\",\"KELANTAN\",\"TERENGGANU\"]},\"yaxis\":{\"anchor\":\"x\",\"domain\":[0.0,1.0],\"title\":{\"text\":\"Ratio\"}},\"legend\":{\"title\":{},\"tracegroupgap\":0,\"orientation\":\"h\",\"yanchor\":\"top\",\"y\":1.05,\"xanchor\":\"center\",\"x\":0.5},\"margin\":{\"t\":60},\"barmode\":\"relative\",\"title\":{\"text\":\"Vote Transferability\"},\"height\":750,\"width\":1450},                        {\"displayModeBar\": false, \"responsive\": true}                    ).then(function(){\n",
       "                            \n",
       "var gd = document.getElementById('c4732ae4-0054-4b0e-a6a4-600f6a77e811');\n",
       "var x = new MutationObserver(function (mutations, observer) {{\n",
       "        var display = window.getComputedStyle(gd).display;\n",
       "        if (!display || display === 'none') {{\n",
       "            console.log([gd, 'removed!']);\n",
       "            Plotly.purge(gd);\n",
       "            observer.disconnect();\n",
       "        }}\n",
       "}});\n",
       "\n",
       "// Listen for the removal of the full notebook cells\n",
       "var notebookContainer = gd.closest('#notebook-container');\n",
       "if (notebookContainer) {{\n",
       "    x.observe(notebookContainer, {childList: true});\n",
       "}}\n",
       "\n",
       "// Listen for the clearing of the current output cell\n",
       "var outputEl = gd.closest('.output');\n",
       "if (outputEl) {{\n",
       "    x.observe(outputEl, {childList: true});\n",
       "}}\n",
       "\n",
       "                        })                };                });            </script>        </div>"
      ]
     },
     "metadata": {},
     "output_type": "display_data"
    }
   ],
   "source": [
    "grp_df2 = compute_transfer(xdf, groupby='Classification')\n",
    "\n",
    "display(grp_df2.style.format(\"{:,}\", ['GE15_Total', 'PRN_Total']).format(\"{:.2f}\", ['Unity_Transfer', 'PN_Transfer', 'No_Turnout']))\n",
    "long_df = grp_df2[['Unity_Transfer', 'PN_Transfer', 'No_Turnout']].reset_index().melt(id_vars='Classification')\n",
    "long_df.columns = ['Classification', 'Transfer', 'Ratio']\n",
    "\n",
    "color_mapping = {\n",
    "    'Unity_Transfer': '#FF5E5E',  # Darker pastel red\n",
    "    'PN_Transfer': '#65D25C',     # Darker pastel green\n",
    "    'No_Turnout': 'grey'\n",
    "}\n",
    "# Create a stacked bar plot using Plotly\n",
    "fig = px.bar(long_df, x='Classification', y='Ratio', color='Transfer', barmode='relative', color_discrete_map=color_mapping)\n",
    "fig.update_traces(texttemplate='%{y:.2f}', textposition='inside',)\n",
    "\n",
    "custom_order = ['SELANGOR', 'NEGERI SEMBILAN', 'PULAU PINANG', 'KEDAH', 'KELANTAN', 'TERENGGANU']\n",
    "fig.update_layout(title='Vote Transferability',\n",
    "    xaxis_title='Classification',\n",
    "    yaxis_title='Ratio',\n",
    "    height=750, width=1450,template='plotly_white', xaxis=dict(categoryorder='array', categoryarray=custom_order),\n",
    "                      legend=dict(title=None,orientation='h', yanchor='top', y=1.05, xanchor='center', x=0.5)  # Centered legend at the top\n",
    "                 \n",
    "                 )\n",
    "fig.show(config={'displayModeBar': False} )\n",
    "          "
   ]
  },
  {
   "cell_type": "code",
   "execution_count": 315,
   "id": "d9b09e3b-3eea-4000-9a7a-467bf27a312b",
   "metadata": {
    "tags": []
   },
   "outputs": [
    {
     "data": {
      "text/html": [
       "<style type=\"text/css\">\n",
       "</style>\n",
       "<table id=\"T_ea55b\">\n",
       "  <thead>\n",
       "    <tr>\n",
       "      <th class=\"blank level0\" >&nbsp;</th>\n",
       "      <th id=\"T_ea55b_level0_col0\" class=\"col_heading level0 col0\" >GE15_Total</th>\n",
       "      <th id=\"T_ea55b_level0_col1\" class=\"col_heading level0 col1\" >PRN_Total</th>\n",
       "      <th id=\"T_ea55b_level0_col2\" class=\"col_heading level0 col2\" >Unity_Transfer</th>\n",
       "      <th id=\"T_ea55b_level0_col3\" class=\"col_heading level0 col3\" >PN_Transfer</th>\n",
       "      <th id=\"T_ea55b_level0_col4\" class=\"col_heading level0 col4\" >No_Turnout</th>\n",
       "    </tr>\n",
       "    <tr>\n",
       "      <th class=\"index_name level0\" >GE15_STATE</th>\n",
       "      <th class=\"blank col0\" >&nbsp;</th>\n",
       "      <th class=\"blank col1\" >&nbsp;</th>\n",
       "      <th class=\"blank col2\" >&nbsp;</th>\n",
       "      <th class=\"blank col3\" >&nbsp;</th>\n",
       "      <th class=\"blank col4\" >&nbsp;</th>\n",
       "    </tr>\n",
       "  </thead>\n",
       "  <tbody>\n",
       "    <tr>\n",
       "      <th id=\"T_ea55b_level0_row0\" class=\"row_heading level0 row0\" >KEDAH</th>\n",
       "      <td id=\"T_ea55b_row0_col0\" class=\"data row0 col0\" >331,671</td>\n",
       "      <td id=\"T_ea55b_row0_col1\" class=\"data row0 col1\" >320,330</td>\n",
       "      <td id=\"T_ea55b_row0_col2\" class=\"data row0 col2\" >1.17</td>\n",
       "      <td id=\"T_ea55b_row0_col3\" class=\"data row0 col3\" >0.65</td>\n",
       "      <td id=\"T_ea55b_row0_col4\" class=\"data row0 col4\" >0.18</td>\n",
       "    </tr>\n",
       "    <tr>\n",
       "      <th id=\"T_ea55b_level0_row1\" class=\"row_heading level0 row1\" >KELANTAN</th>\n",
       "      <td id=\"T_ea55b_row1_col0\" class=\"data row1 col0\" >155,266</td>\n",
       "      <td id=\"T_ea55b_row1_col1\" class=\"data row1 col1\" >133,351</td>\n",
       "      <td id=\"T_ea55b_row1_col2\" class=\"data row1 col2\" >1.52</td>\n",
       "      <td id=\"T_ea55b_row1_col3\" class=\"data row1 col3\" >-0.21</td>\n",
       "      <td id=\"T_ea55b_row1_col4\" class=\"data row1 col4\" >0.69</td>\n",
       "    </tr>\n",
       "    <tr>\n",
       "      <th id=\"T_ea55b_level0_row2\" class=\"row_heading level0 row2\" >NEGERI SEMBILAN</th>\n",
       "      <td id=\"T_ea55b_row2_col0\" class=\"data row2 col0\" >93,004</td>\n",
       "      <td id=\"T_ea55b_row2_col1\" class=\"data row2 col1\" >82,578</td>\n",
       "      <td id=\"T_ea55b_row2_col2\" class=\"data row2 col2\" >1.29</td>\n",
       "      <td id=\"T_ea55b_row2_col3\" class=\"data row2 col3\" >0.42</td>\n",
       "      <td id=\"T_ea55b_row2_col4\" class=\"data row2 col4\" >0.29</td>\n",
       "    </tr>\n",
       "    <tr>\n",
       "      <th id=\"T_ea55b_level0_row3\" class=\"row_heading level0 row3\" >SELANGOR</th>\n",
       "      <td id=\"T_ea55b_row3_col0\" class=\"data row3 col0\" >86,759</td>\n",
       "      <td id=\"T_ea55b_row3_col1\" class=\"data row3 col1\" >85,565</td>\n",
       "      <td id=\"T_ea55b_row3_col2\" class=\"data row3 col2\" >1.45</td>\n",
       "      <td id=\"T_ea55b_row3_col3\" class=\"data row3 col3\" >0.50</td>\n",
       "      <td id=\"T_ea55b_row3_col4\" class=\"data row3 col4\" >0.05</td>\n",
       "    </tr>\n",
       "    <tr>\n",
       "      <th id=\"T_ea55b_level0_row4\" class=\"row_heading level0 row4\" >TERENGGANU</th>\n",
       "      <td id=\"T_ea55b_row4_col0\" class=\"data row4 col0\" >156,455</td>\n",
       "      <td id=\"T_ea55b_row4_col1\" class=\"data row4 col1\" >147,025</td>\n",
       "      <td id=\"T_ea55b_row4_col2\" class=\"data row4 col2\" >1.63</td>\n",
       "      <td id=\"T_ea55b_row4_col3\" class=\"data row4 col3\" >0.07</td>\n",
       "      <td id=\"T_ea55b_row4_col4\" class=\"data row4 col4\" >0.30</td>\n",
       "    </tr>\n",
       "  </tbody>\n",
       "</table>\n"
      ],
      "text/plain": [
       "<pandas.io.formats.style.Styler at 0x1dbe8e69bd0>"
      ]
     },
     "metadata": {},
     "output_type": "display_data"
    },
    {
     "data": {
      "application/vnd.plotly.v1+json": {
       "config": {
        "displayModeBar": false,
        "plotlyServerURL": "https://plot.ly"
       },
       "data": [
        {
         "alignmentgroup": "True",
         "hovertemplate": "Transfer=Unity_Transfer<br>State=%{x}<br>Ratio=%{y}<extra></extra>",
         "legendgroup": "Unity_Transfer",
         "marker": {
          "color": "#FF5E5E",
          "pattern": {
           "shape": ""
          }
         },
         "name": "Unity_Transfer",
         "offsetgroup": "Unity_Transfer",
         "orientation": "v",
         "showlegend": true,
         "textposition": "inside",
         "texttemplate": "%{y:.2f}",
         "type": "bar",
         "x": [
          "KEDAH",
          "KELANTAN",
          "NEGERI SEMBILAN",
          "SELANGOR",
          "TERENGGANU"
         ],
         "xaxis": "x",
         "y": [
          1.171,
          1.517,
          1.294,
          1.451,
          1.63
         ],
         "yaxis": "y"
        },
        {
         "alignmentgroup": "True",
         "hovertemplate": "Transfer=PN_Transfer<br>State=%{x}<br>Ratio=%{y}<extra></extra>",
         "legendgroup": "PN_Transfer",
         "marker": {
          "color": "#65D25C",
          "pattern": {
           "shape": ""
          }
         },
         "name": "PN_Transfer",
         "offsetgroup": "PN_Transfer",
         "orientation": "v",
         "showlegend": true,
         "textposition": "inside",
         "texttemplate": "%{y:.2f}",
         "type": "bar",
         "x": [
          "KEDAH",
          "KELANTAN",
          "NEGERI SEMBILAN",
          "SELANGOR",
          "TERENGGANU"
         ],
         "xaxis": "x",
         "y": [
          0.646,
          -0.206,
          0.416,
          0.502,
          0.07
         ],
         "yaxis": "y"
        },
        {
         "alignmentgroup": "True",
         "hovertemplate": "Transfer=No_Turnout<br>State=%{x}<br>Ratio=%{y}<extra></extra>",
         "legendgroup": "No_Turnout",
         "marker": {
          "color": "grey",
          "pattern": {
           "shape": ""
          }
         },
         "name": "No_Turnout",
         "offsetgroup": "No_Turnout",
         "orientation": "v",
         "showlegend": true,
         "textposition": "inside",
         "texttemplate": "%{y:.2f}",
         "type": "bar",
         "x": [
          "KEDAH",
          "KELANTAN",
          "NEGERI SEMBILAN",
          "SELANGOR",
          "TERENGGANU"
         ],
         "xaxis": "x",
         "y": [
          0.183,
          0.689,
          0.29,
          0.047,
          0.3
         ],
         "yaxis": "y"
        }
       ],
       "layout": {
        "barmode": "relative",
        "height": 750,
        "legend": {
         "orientation": "h",
         "title": {},
         "tracegroupgap": 0,
         "x": 0.5,
         "xanchor": "center",
         "y": 1.05,
         "yanchor": "top"
        },
        "margin": {
         "t": 60
        },
        "template": {
         "data": {
          "bar": [
           {
            "error_x": {
             "color": "#2a3f5f"
            },
            "error_y": {
             "color": "#2a3f5f"
            },
            "marker": {
             "line": {
              "color": "white",
              "width": 0.5
             },
             "pattern": {
              "fillmode": "overlay",
              "size": 10,
              "solidity": 0.2
             }
            },
            "type": "bar"
           }
          ],
          "barpolar": [
           {
            "marker": {
             "line": {
              "color": "white",
              "width": 0.5
             },
             "pattern": {
              "fillmode": "overlay",
              "size": 10,
              "solidity": 0.2
             }
            },
            "type": "barpolar"
           }
          ],
          "carpet": [
           {
            "aaxis": {
             "endlinecolor": "#2a3f5f",
             "gridcolor": "#C8D4E3",
             "linecolor": "#C8D4E3",
             "minorgridcolor": "#C8D4E3",
             "startlinecolor": "#2a3f5f"
            },
            "baxis": {
             "endlinecolor": "#2a3f5f",
             "gridcolor": "#C8D4E3",
             "linecolor": "#C8D4E3",
             "minorgridcolor": "#C8D4E3",
             "startlinecolor": "#2a3f5f"
            },
            "type": "carpet"
           }
          ],
          "choropleth": [
           {
            "colorbar": {
             "outlinewidth": 0,
             "ticks": ""
            },
            "type": "choropleth"
           }
          ],
          "contour": [
           {
            "colorbar": {
             "outlinewidth": 0,
             "ticks": ""
            },
            "colorscale": [
             [
              0,
              "#0d0887"
             ],
             [
              0.1111111111111111,
              "#46039f"
             ],
             [
              0.2222222222222222,
              "#7201a8"
             ],
             [
              0.3333333333333333,
              "#9c179e"
             ],
             [
              0.4444444444444444,
              "#bd3786"
             ],
             [
              0.5555555555555556,
              "#d8576b"
             ],
             [
              0.6666666666666666,
              "#ed7953"
             ],
             [
              0.7777777777777778,
              "#fb9f3a"
             ],
             [
              0.8888888888888888,
              "#fdca26"
             ],
             [
              1,
              "#f0f921"
             ]
            ],
            "type": "contour"
           }
          ],
          "contourcarpet": [
           {
            "colorbar": {
             "outlinewidth": 0,
             "ticks": ""
            },
            "type": "contourcarpet"
           }
          ],
          "heatmap": [
           {
            "colorbar": {
             "outlinewidth": 0,
             "ticks": ""
            },
            "colorscale": [
             [
              0,
              "#0d0887"
             ],
             [
              0.1111111111111111,
              "#46039f"
             ],
             [
              0.2222222222222222,
              "#7201a8"
             ],
             [
              0.3333333333333333,
              "#9c179e"
             ],
             [
              0.4444444444444444,
              "#bd3786"
             ],
             [
              0.5555555555555556,
              "#d8576b"
             ],
             [
              0.6666666666666666,
              "#ed7953"
             ],
             [
              0.7777777777777778,
              "#fb9f3a"
             ],
             [
              0.8888888888888888,
              "#fdca26"
             ],
             [
              1,
              "#f0f921"
             ]
            ],
            "type": "heatmap"
           }
          ],
          "heatmapgl": [
           {
            "colorbar": {
             "outlinewidth": 0,
             "ticks": ""
            },
            "colorscale": [
             [
              0,
              "#0d0887"
             ],
             [
              0.1111111111111111,
              "#46039f"
             ],
             [
              0.2222222222222222,
              "#7201a8"
             ],
             [
              0.3333333333333333,
              "#9c179e"
             ],
             [
              0.4444444444444444,
              "#bd3786"
             ],
             [
              0.5555555555555556,
              "#d8576b"
             ],
             [
              0.6666666666666666,
              "#ed7953"
             ],
             [
              0.7777777777777778,
              "#fb9f3a"
             ],
             [
              0.8888888888888888,
              "#fdca26"
             ],
             [
              1,
              "#f0f921"
             ]
            ],
            "type": "heatmapgl"
           }
          ],
          "histogram": [
           {
            "marker": {
             "pattern": {
              "fillmode": "overlay",
              "size": 10,
              "solidity": 0.2
             }
            },
            "type": "histogram"
           }
          ],
          "histogram2d": [
           {
            "colorbar": {
             "outlinewidth": 0,
             "ticks": ""
            },
            "colorscale": [
             [
              0,
              "#0d0887"
             ],
             [
              0.1111111111111111,
              "#46039f"
             ],
             [
              0.2222222222222222,
              "#7201a8"
             ],
             [
              0.3333333333333333,
              "#9c179e"
             ],
             [
              0.4444444444444444,
              "#bd3786"
             ],
             [
              0.5555555555555556,
              "#d8576b"
             ],
             [
              0.6666666666666666,
              "#ed7953"
             ],
             [
              0.7777777777777778,
              "#fb9f3a"
             ],
             [
              0.8888888888888888,
              "#fdca26"
             ],
             [
              1,
              "#f0f921"
             ]
            ],
            "type": "histogram2d"
           }
          ],
          "histogram2dcontour": [
           {
            "colorbar": {
             "outlinewidth": 0,
             "ticks": ""
            },
            "colorscale": [
             [
              0,
              "#0d0887"
             ],
             [
              0.1111111111111111,
              "#46039f"
             ],
             [
              0.2222222222222222,
              "#7201a8"
             ],
             [
              0.3333333333333333,
              "#9c179e"
             ],
             [
              0.4444444444444444,
              "#bd3786"
             ],
             [
              0.5555555555555556,
              "#d8576b"
             ],
             [
              0.6666666666666666,
              "#ed7953"
             ],
             [
              0.7777777777777778,
              "#fb9f3a"
             ],
             [
              0.8888888888888888,
              "#fdca26"
             ],
             [
              1,
              "#f0f921"
             ]
            ],
            "type": "histogram2dcontour"
           }
          ],
          "mesh3d": [
           {
            "colorbar": {
             "outlinewidth": 0,
             "ticks": ""
            },
            "type": "mesh3d"
           }
          ],
          "parcoords": [
           {
            "line": {
             "colorbar": {
              "outlinewidth": 0,
              "ticks": ""
             }
            },
            "type": "parcoords"
           }
          ],
          "pie": [
           {
            "automargin": true,
            "type": "pie"
           }
          ],
          "scatter": [
           {
            "fillpattern": {
             "fillmode": "overlay",
             "size": 10,
             "solidity": 0.2
            },
            "type": "scatter"
           }
          ],
          "scatter3d": [
           {
            "line": {
             "colorbar": {
              "outlinewidth": 0,
              "ticks": ""
             }
            },
            "marker": {
             "colorbar": {
              "outlinewidth": 0,
              "ticks": ""
             }
            },
            "type": "scatter3d"
           }
          ],
          "scattercarpet": [
           {
            "marker": {
             "colorbar": {
              "outlinewidth": 0,
              "ticks": ""
             }
            },
            "type": "scattercarpet"
           }
          ],
          "scattergeo": [
           {
            "marker": {
             "colorbar": {
              "outlinewidth": 0,
              "ticks": ""
             }
            },
            "type": "scattergeo"
           }
          ],
          "scattergl": [
           {
            "marker": {
             "colorbar": {
              "outlinewidth": 0,
              "ticks": ""
             }
            },
            "type": "scattergl"
           }
          ],
          "scattermapbox": [
           {
            "marker": {
             "colorbar": {
              "outlinewidth": 0,
              "ticks": ""
             }
            },
            "type": "scattermapbox"
           }
          ],
          "scatterpolar": [
           {
            "marker": {
             "colorbar": {
              "outlinewidth": 0,
              "ticks": ""
             }
            },
            "type": "scatterpolar"
           }
          ],
          "scatterpolargl": [
           {
            "marker": {
             "colorbar": {
              "outlinewidth": 0,
              "ticks": ""
             }
            },
            "type": "scatterpolargl"
           }
          ],
          "scatterternary": [
           {
            "marker": {
             "colorbar": {
              "outlinewidth": 0,
              "ticks": ""
             }
            },
            "type": "scatterternary"
           }
          ],
          "surface": [
           {
            "colorbar": {
             "outlinewidth": 0,
             "ticks": ""
            },
            "colorscale": [
             [
              0,
              "#0d0887"
             ],
             [
              0.1111111111111111,
              "#46039f"
             ],
             [
              0.2222222222222222,
              "#7201a8"
             ],
             [
              0.3333333333333333,
              "#9c179e"
             ],
             [
              0.4444444444444444,
              "#bd3786"
             ],
             [
              0.5555555555555556,
              "#d8576b"
             ],
             [
              0.6666666666666666,
              "#ed7953"
             ],
             [
              0.7777777777777778,
              "#fb9f3a"
             ],
             [
              0.8888888888888888,
              "#fdca26"
             ],
             [
              1,
              "#f0f921"
             ]
            ],
            "type": "surface"
           }
          ],
          "table": [
           {
            "cells": {
             "fill": {
              "color": "#EBF0F8"
             },
             "line": {
              "color": "white"
             }
            },
            "header": {
             "fill": {
              "color": "#C8D4E3"
             },
             "line": {
              "color": "white"
             }
            },
            "type": "table"
           }
          ]
         },
         "layout": {
          "annotationdefaults": {
           "arrowcolor": "#2a3f5f",
           "arrowhead": 0,
           "arrowwidth": 1
          },
          "autotypenumbers": "strict",
          "coloraxis": {
           "colorbar": {
            "outlinewidth": 0,
            "ticks": ""
           }
          },
          "colorscale": {
           "diverging": [
            [
             0,
             "#8e0152"
            ],
            [
             0.1,
             "#c51b7d"
            ],
            [
             0.2,
             "#de77ae"
            ],
            [
             0.3,
             "#f1b6da"
            ],
            [
             0.4,
             "#fde0ef"
            ],
            [
             0.5,
             "#f7f7f7"
            ],
            [
             0.6,
             "#e6f5d0"
            ],
            [
             0.7,
             "#b8e186"
            ],
            [
             0.8,
             "#7fbc41"
            ],
            [
             0.9,
             "#4d9221"
            ],
            [
             1,
             "#276419"
            ]
           ],
           "sequential": [
            [
             0,
             "#0d0887"
            ],
            [
             0.1111111111111111,
             "#46039f"
            ],
            [
             0.2222222222222222,
             "#7201a8"
            ],
            [
             0.3333333333333333,
             "#9c179e"
            ],
            [
             0.4444444444444444,
             "#bd3786"
            ],
            [
             0.5555555555555556,
             "#d8576b"
            ],
            [
             0.6666666666666666,
             "#ed7953"
            ],
            [
             0.7777777777777778,
             "#fb9f3a"
            ],
            [
             0.8888888888888888,
             "#fdca26"
            ],
            [
             1,
             "#f0f921"
            ]
           ],
           "sequentialminus": [
            [
             0,
             "#0d0887"
            ],
            [
             0.1111111111111111,
             "#46039f"
            ],
            [
             0.2222222222222222,
             "#7201a8"
            ],
            [
             0.3333333333333333,
             "#9c179e"
            ],
            [
             0.4444444444444444,
             "#bd3786"
            ],
            [
             0.5555555555555556,
             "#d8576b"
            ],
            [
             0.6666666666666666,
             "#ed7953"
            ],
            [
             0.7777777777777778,
             "#fb9f3a"
            ],
            [
             0.8888888888888888,
             "#fdca26"
            ],
            [
             1,
             "#f0f921"
            ]
           ]
          },
          "colorway": [
           "#636efa",
           "#EF553B",
           "#00cc96",
           "#ab63fa",
           "#FFA15A",
           "#19d3f3",
           "#FF6692",
           "#B6E880",
           "#FF97FF",
           "#FECB52"
          ],
          "font": {
           "color": "#2a3f5f"
          },
          "geo": {
           "bgcolor": "white",
           "lakecolor": "white",
           "landcolor": "white",
           "showlakes": true,
           "showland": true,
           "subunitcolor": "#C8D4E3"
          },
          "hoverlabel": {
           "align": "left"
          },
          "hovermode": "closest",
          "mapbox": {
           "style": "light"
          },
          "paper_bgcolor": "white",
          "plot_bgcolor": "white",
          "polar": {
           "angularaxis": {
            "gridcolor": "#EBF0F8",
            "linecolor": "#EBF0F8",
            "ticks": ""
           },
           "bgcolor": "white",
           "radialaxis": {
            "gridcolor": "#EBF0F8",
            "linecolor": "#EBF0F8",
            "ticks": ""
           }
          },
          "scene": {
           "xaxis": {
            "backgroundcolor": "white",
            "gridcolor": "#DFE8F3",
            "gridwidth": 2,
            "linecolor": "#EBF0F8",
            "showbackground": true,
            "ticks": "",
            "zerolinecolor": "#EBF0F8"
           },
           "yaxis": {
            "backgroundcolor": "white",
            "gridcolor": "#DFE8F3",
            "gridwidth": 2,
            "linecolor": "#EBF0F8",
            "showbackground": true,
            "ticks": "",
            "zerolinecolor": "#EBF0F8"
           },
           "zaxis": {
            "backgroundcolor": "white",
            "gridcolor": "#DFE8F3",
            "gridwidth": 2,
            "linecolor": "#EBF0F8",
            "showbackground": true,
            "ticks": "",
            "zerolinecolor": "#EBF0F8"
           }
          },
          "shapedefaults": {
           "line": {
            "color": "#2a3f5f"
           }
          },
          "ternary": {
           "aaxis": {
            "gridcolor": "#DFE8F3",
            "linecolor": "#A2B1C6",
            "ticks": ""
           },
           "baxis": {
            "gridcolor": "#DFE8F3",
            "linecolor": "#A2B1C6",
            "ticks": ""
           },
           "bgcolor": "white",
           "caxis": {
            "gridcolor": "#DFE8F3",
            "linecolor": "#A2B1C6",
            "ticks": ""
           }
          },
          "title": {
           "x": 0.05
          },
          "xaxis": {
           "automargin": true,
           "gridcolor": "#EBF0F8",
           "linecolor": "#EBF0F8",
           "ticks": "",
           "title": {
            "standoff": 15
           },
           "zerolinecolor": "#EBF0F8",
           "zerolinewidth": 2
          },
          "yaxis": {
           "automargin": true,
           "gridcolor": "#EBF0F8",
           "linecolor": "#EBF0F8",
           "ticks": "",
           "title": {
            "standoff": 15
           },
           "zerolinecolor": "#EBF0F8",
           "zerolinewidth": 2
          }
         }
        },
        "title": {
         "text": "Vote Transferability (RURAL)"
        },
        "width": 1450,
        "xaxis": {
         "anchor": "y",
         "autorange": true,
         "categoryarray": [
          "SELANGOR",
          "NEGERI SEMBILAN",
          "PULAU PINANG",
          "KEDAH",
          "KELANTAN",
          "TERENGGANU"
         ],
         "categoryorder": "array",
         "domain": [
          0,
          1
         ],
         "range": [
          -0.5,
          5.5
         ],
         "title": {
          "text": "State"
         },
         "type": "category"
        },
        "yaxis": {
         "anchor": "x",
         "autorange": true,
         "domain": [
          0,
          1
         ],
         "range": [
          -0.33999999999999997,
          2.34
         ],
         "title": {
          "text": "Ratio"
         },
         "type": "linear"
        }
       }
      },
      "image/png": "[encoded data removed]",
      "text/html": [
       "<div>                            <div id=\"801925f6-5b05-4266-9021-072d81692ef9\" class=\"plotly-graph-div\" style=\"height:750px; width:1450px;\"></div>            <script type=\"text/javascript\">                require([\"plotly\"], function(Plotly) {                    window.PLOTLYENV=window.PLOTLYENV || {};                                    if (document.getElementById(\"801925f6-5b05-4266-9021-072d81692ef9\")) {                    Plotly.newPlot(                        \"801925f6-5b05-4266-9021-072d81692ef9\",                        [{\"alignmentgroup\":\"True\",\"hovertemplate\":\"Transfer=Unity_Transfer<br>State=%{x}<br>Ratio=%{y}<extra></extra>\",\"legendgroup\":\"Unity_Transfer\",\"marker\":{\"color\":\"#FF5E5E\",\"pattern\":{\"shape\":\"\"}},\"name\":\"Unity_Transfer\",\"offsetgroup\":\"Unity_Transfer\",\"orientation\":\"v\",\"showlegend\":true,\"textposition\":\"inside\",\"x\":[\"KEDAH\",\"KELANTAN\",\"NEGERI SEMBILAN\",\"SELANGOR\",\"TERENGGANU\"],\"xaxis\":\"x\",\"y\":[1.171,1.517,1.294,1.451,1.63],\"yaxis\":\"y\",\"type\":\"bar\",\"texttemplate\":\"%{y:.2f}\"},{\"alignmentgroup\":\"True\",\"hovertemplate\":\"Transfer=PN_Transfer<br>State=%{x}<br>Ratio=%{y}<extra></extra>\",\"legendgroup\":\"PN_Transfer\",\"marker\":{\"color\":\"#65D25C\",\"pattern\":{\"shape\":\"\"}},\"name\":\"PN_Transfer\",\"offsetgroup\":\"PN_Transfer\",\"orientation\":\"v\",\"showlegend\":true,\"textposition\":\"inside\",\"x\":[\"KEDAH\",\"KELANTAN\",\"NEGERI SEMBILAN\",\"SELANGOR\",\"TERENGGANU\"],\"xaxis\":\"x\",\"y\":[0.646,-0.206,0.416,0.502,0.07],\"yaxis\":\"y\",\"type\":\"bar\",\"texttemplate\":\"%{y:.2f}\"},{\"alignmentgroup\":\"True\",\"hovertemplate\":\"Transfer=No_Turnout<br>State=%{x}<br>Ratio=%{y}<extra></extra>\",\"legendgroup\":\"No_Turnout\",\"marker\":{\"color\":\"grey\",\"pattern\":{\"shape\":\"\"}},\"name\":\"No_Turnout\",\"offsetgroup\":\"No_Turnout\",\"orientation\":\"v\",\"showlegend\":true,\"textposition\":\"inside\",\"x\":[\"KEDAH\",\"KELANTAN\",\"NEGERI SEMBILAN\",\"SELANGOR\",\"TERENGGANU\"],\"xaxis\":\"x\",\"y\":[0.183,0.689,0.29,0.047,0.3],\"yaxis\":\"y\",\"type\":\"bar\",\"texttemplate\":\"%{y:.2f}\"}],                        {\"template\":{\"data\":{\"barpolar\":[{\"marker\":{\"line\":{\"color\":\"white\",\"width\":0.5},\"pattern\":{\"fillmode\":\"overlay\",\"size\":10,\"solidity\":0.2}},\"type\":\"barpolar\"}],\"bar\":[{\"error_x\":{\"color\":\"#2a3f5f\"},\"error_y\":{\"color\":\"#2a3f5f\"},\"marker\":{\"line\":{\"color\":\"white\",\"width\":0.5},\"pattern\":{\"fillmode\":\"overlay\",\"size\":10,\"solidity\":0.2}},\"type\":\"bar\"}],\"carpet\":[{\"aaxis\":{\"endlinecolor\":\"#2a3f5f\",\"gridcolor\":\"#C8D4E3\",\"linecolor\":\"#C8D4E3\",\"minorgridcolor\":\"#C8D4E3\",\"startlinecolor\":\"#2a3f5f\"},\"baxis\":{\"endlinecolor\":\"#2a3f5f\",\"gridcolor\":\"#C8D4E3\",\"linecolor\":\"#C8D4E3\",\"minorgridcolor\":\"#C8D4E3\",\"startlinecolor\":\"#2a3f5f\"},\"type\":\"carpet\"}],\"choropleth\":[{\"colorbar\":{\"outlinewidth\":0,\"ticks\":\"\"},\"type\":\"choropleth\"}],\"contourcarpet\":[{\"colorbar\":{\"outlinewidth\":0,\"ticks\":\"\"},\"type\":\"contourcarpet\"}],\"contour\":[{\"colorbar\":{\"outlinewidth\":0,\"ticks\":\"\"},\"colorscale\":[[0.0,\"#0d0887\"],[0.1111111111111111,\"#46039f\"],[0.2222222222222222,\"#7201a8\"],[0.3333333333333333,\"#9c179e\"],[0.4444444444444444,\"#bd3786\"],[0.5555555555555556,\"#d8576b\"],[0.6666666666666666,\"#ed7953\"],[0.7777777777777778,\"#fb9f3a\"],[0.8888888888888888,\"#fdca26\"],[1.0,\"#f0f921\"]],\"type\":\"contour\"}],\"heatmapgl\":[{\"colorbar\":{\"outlinewidth\":0,\"ticks\":\"\"},\"colorscale\":[[0.0,\"#0d0887\"],[0.1111111111111111,\"#46039f\"],[0.2222222222222222,\"#7201a8\"],[0.3333333333333333,\"#9c179e\"],[0.4444444444444444,\"#bd3786\"],[0.5555555555555556,\"#d8576b\"],[0.6666666666666666,\"#ed7953\"],[0.7777777777777778,\"#fb9f3a\"],[0.8888888888888888,\"#fdca26\"],[1.0,\"#f0f921\"]],\"type\":\"heatmapgl\"}],\"heatmap\":[{\"colorbar\":{\"outlinewidth\":0,\"ticks\":\"\"},\"colorscale\":[[0.0,\"#0d0887\"],[0.1111111111111111,\"#46039f\"],[0.2222222222222222,\"#7201a8\"],[0.3333333333333333,\"#9c179e\"],[0.4444444444444444,\"#bd3786\"],[0.5555555555555556,\"#d8576b\"],[0.6666666666666666,\"#ed7953\"],[0.7777777777777778,\"#fb9f3a\"],[0.8888888888888888,\"#fdca26\"],[1.0,\"#f0f921\"]],\"type\":\"heatmap\"}],\"histogram2dcontour\":[{\"colorbar\":{\"outlinewidth\":0,\"ticks\":\"\"},\"colorscale\":[[0.0,\"#0d0887\"],[0.1111111111111111,\"#46039f\"],[0.2222222222222222,\"#7201a8\"],[0.3333333333333333,\"#9c179e\"],[0.4444444444444444,\"#bd3786\"],[0.5555555555555556,\"#d8576b\"],[0.6666666666666666,\"#ed7953\"],[0.7777777777777778,\"#fb9f3a\"],[0.8888888888888888,\"#fdca26\"],[1.0,\"#f0f921\"]],\"type\":\"histogram2dcontour\"}],\"histogram2d\":[{\"colorbar\":{\"outlinewidth\":0,\"ticks\":\"\"},\"colorscale\":[[0.0,\"#0d0887\"],[0.1111111111111111,\"#46039f\"],[0.2222222222222222,\"#7201a8\"],[0.3333333333333333,\"#9c179e\"],[0.4444444444444444,\"#bd3786\"],[0.5555555555555556,\"#d8576b\"],[0.6666666666666666,\"#ed7953\"],[0.7777777777777778,\"#fb9f3a\"],[0.8888888888888888,\"#fdca26\"],[1.0,\"#f0f921\"]],\"type\":\"histogram2d\"}],\"histogram\":[{\"marker\":{\"pattern\":{\"fillmode\":\"overlay\",\"size\":10,\"solidity\":0.2}},\"type\":\"histogram\"}],\"mesh3d\":[{\"colorbar\":{\"outlinewidth\":0,\"ticks\":\"\"},\"type\":\"mesh3d\"}],\"parcoords\":[{\"line\":{\"colorbar\":{\"outlinewidth\":0,\"ticks\":\"\"}},\"type\":\"parcoords\"}],\"pie\":[{\"automargin\":true,\"type\":\"pie\"}],\"scatter3d\":[{\"line\":{\"colorbar\":{\"outlinewidth\":0,\"ticks\":\"\"}},\"marker\":{\"colorbar\":{\"outlinewidth\":0,\"ticks\":\"\"}},\"type\":\"scatter3d\"}],\"scattercarpet\":[{\"marker\":{\"colorbar\":{\"outlinewidth\":0,\"ticks\":\"\"}},\"type\":\"scattercarpet\"}],\"scattergeo\":[{\"marker\":{\"colorbar\":{\"outlinewidth\":0,\"ticks\":\"\"}},\"type\":\"scattergeo\"}],\"scattergl\":[{\"marker\":{\"colorbar\":{\"outlinewidth\":0,\"ticks\":\"\"}},\"type\":\"scattergl\"}],\"scattermapbox\":[{\"marker\":{\"colorbar\":{\"outlinewidth\":0,\"ticks\":\"\"}},\"type\":\"scattermapbox\"}],\"scatterpolargl\":[{\"marker\":{\"colorbar\":{\"outlinewidth\":0,\"ticks\":\"\"}},\"type\":\"scatterpolargl\"}],\"scatterpolar\":[{\"marker\":{\"colorbar\":{\"outlinewidth\":0,\"ticks\":\"\"}},\"type\":\"scatterpolar\"}],\"scatter\":[{\"fillpattern\":{\"fillmode\":\"overlay\",\"size\":10,\"solidity\":0.2},\"type\":\"scatter\"}],\"scatterternary\":[{\"marker\":{\"colorbar\":{\"outlinewidth\":0,\"ticks\":\"\"}},\"type\":\"scatterternary\"}],\"surface\":[{\"colorbar\":{\"outlinewidth\":0,\"ticks\":\"\"},\"colorscale\":[[0.0,\"#0d0887\"],[0.1111111111111111,\"#46039f\"],[0.2222222222222222,\"#7201a8\"],[0.3333333333333333,\"#9c179e\"],[0.4444444444444444,\"#bd3786\"],[0.5555555555555556,\"#d8576b\"],[0.6666666666666666,\"#ed7953\"],[0.7777777777777778,\"#fb9f3a\"],[0.8888888888888888,\"#fdca26\"],[1.0,\"#f0f921\"]],\"type\":\"surface\"}],\"table\":[{\"cells\":{\"fill\":{\"color\":\"#EBF0F8\"},\"line\":{\"color\":\"white\"}},\"header\":{\"fill\":{\"color\":\"#C8D4E3\"},\"line\":{\"color\":\"white\"}},\"type\":\"table\"}]},\"layout\":{\"annotationdefaults\":{\"arrowcolor\":\"#2a3f5f\",\"arrowhead\":0,\"arrowwidth\":1},\"autotypenumbers\":\"strict\",\"coloraxis\":{\"colorbar\":{\"outlinewidth\":0,\"ticks\":\"\"}},\"colorscale\":{\"diverging\":[[0,\"#8e0152\"],[0.1,\"#c51b7d\"],[0.2,\"#de77ae\"],[0.3,\"#f1b6da\"],[0.4,\"#fde0ef\"],[0.5,\"#f7f7f7\"],[0.6,\"#e6f5d0\"],[0.7,\"#b8e186\"],[0.8,\"#7fbc41\"],[0.9,\"#4d9221\"],[1,\"#276419\"]],\"sequential\":[[0.0,\"#0d0887\"],[0.1111111111111111,\"#46039f\"],[0.2222222222222222,\"#7201a8\"],[0.3333333333333333,\"#9c179e\"],[0.4444444444444444,\"#bd3786\"],[0.5555555555555556,\"#d8576b\"],[0.6666666666666666,\"#ed7953\"],[0.7777777777777778,\"#fb9f3a\"],[0.8888888888888888,\"#fdca26\"],[1.0,\"#f0f921\"]],\"sequentialminus\":[[0.0,\"#0d0887\"],[0.1111111111111111,\"#46039f\"],[0.2222222222222222,\"#7201a8\"],[0.3333333333333333,\"#9c179e\"],[0.4444444444444444,\"#bd3786\"],[0.5555555555555556,\"#d8576b\"],[0.6666666666666666,\"#ed7953\"],[0.7777777777777778,\"#fb9f3a\"],[0.8888888888888888,\"#fdca26\"],[1.0,\"#f0f921\"]]},\"colorway\":[\"#636efa\",\"#EF553B\",\"#00cc96\",\"#ab63fa\",\"#FFA15A\",\"#19d3f3\",\"#FF6692\",\"#B6E880\",\"#FF97FF\",\"#FECB52\"],\"font\":{\"color\":\"#2a3f5f\"},\"geo\":{\"bgcolor\":\"white\",\"lakecolor\":\"white\",\"landcolor\":\"white\",\"showlakes\":true,\"showland\":true,\"subunitcolor\":\"#C8D4E3\"},\"hoverlabel\":{\"align\":\"left\"},\"hovermode\":\"closest\",\"mapbox\":{\"style\":\"light\"},\"paper_bgcolor\":\"white\",\"plot_bgcolor\":\"white\",\"polar\":{\"angularaxis\":{\"gridcolor\":\"#EBF0F8\",\"linecolor\":\"#EBF0F8\",\"ticks\":\"\"},\"bgcolor\":\"white\",\"radialaxis\":{\"gridcolor\":\"#EBF0F8\",\"linecolor\":\"#EBF0F8\",\"ticks\":\"\"}},\"scene\":{\"xaxis\":{\"backgroundcolor\":\"white\",\"gridcolor\":\"#DFE8F3\",\"gridwidth\":2,\"linecolor\":\"#EBF0F8\",\"showbackground\":true,\"ticks\":\"\",\"zerolinecolor\":\"#EBF0F8\"},\"yaxis\":{\"backgroundcolor\":\"white\",\"gridcolor\":\"#DFE8F3\",\"gridwidth\":2,\"linecolor\":\"#EBF0F8\",\"showbackground\":true,\"ticks\":\"\",\"zerolinecolor\":\"#EBF0F8\"},\"zaxis\":{\"backgroundcolor\":\"white\",\"gridcolor\":\"#DFE8F3\",\"gridwidth\":2,\"linecolor\":\"#EBF0F8\",\"showbackground\":true,\"ticks\":\"\",\"zerolinecolor\":\"#EBF0F8\"}},\"shapedefaults\":{\"line\":{\"color\":\"#2a3f5f\"}},\"ternary\":{\"aaxis\":{\"gridcolor\":\"#DFE8F3\",\"linecolor\":\"#A2B1C6\",\"ticks\":\"\"},\"baxis\":{\"gridcolor\":\"#DFE8F3\",\"linecolor\":\"#A2B1C6\",\"ticks\":\"\"},\"bgcolor\":\"white\",\"caxis\":{\"gridcolor\":\"#DFE8F3\",\"linecolor\":\"#A2B1C6\",\"ticks\":\"\"}},\"title\":{\"x\":0.05},\"xaxis\":{\"automargin\":true,\"gridcolor\":\"#EBF0F8\",\"linecolor\":\"#EBF0F8\",\"ticks\":\"\",\"title\":{\"standoff\":15},\"zerolinecolor\":\"#EBF0F8\",\"zerolinewidth\":2},\"yaxis\":{\"automargin\":true,\"gridcolor\":\"#EBF0F8\",\"linecolor\":\"#EBF0F8\",\"ticks\":\"\",\"title\":{\"standoff\":15},\"zerolinecolor\":\"#EBF0F8\",\"zerolinewidth\":2}}},\"xaxis\":{\"anchor\":\"y\",\"domain\":[0.0,1.0],\"title\":{\"text\":\"State\"},\"categoryorder\":\"array\",\"categoryarray\":[\"SELANGOR\",\"NEGERI SEMBILAN\",\"PULAU PINANG\",\"KEDAH\",\"KELANTAN\",\"TERENGGANU\"]},\"yaxis\":{\"anchor\":\"x\",\"domain\":[0.0,1.0],\"title\":{\"text\":\"Ratio\"}},\"legend\":{\"title\":{},\"tracegroupgap\":0,\"orientation\":\"h\",\"yanchor\":\"top\",\"y\":1.05,\"xanchor\":\"center\",\"x\":0.5},\"margin\":{\"t\":60},\"barmode\":\"relative\",\"title\":{\"text\":\"Vote Transferability (RURAL)\"},\"height\":750,\"width\":1450},                        {\"displayModeBar\": false, \"responsive\": true}                    ).then(function(){\n",
       "                            \n",
       "var gd = document.getElementById('801925f6-5b05-4266-9021-072d81692ef9');\n",
       "var x = new MutationObserver(function (mutations, observer) {{\n",
       "        var display = window.getComputedStyle(gd).display;\n",
       "        if (!display || display === 'none') {{\n",
       "            console.log([gd, 'removed!']);\n",
       "            Plotly.purge(gd);\n",
       "            observer.disconnect();\n",
       "        }}\n",
       "}});\n",
       "\n",
       "// Listen for the removal of the full notebook cells\n",
       "var notebookContainer = gd.closest('#notebook-container');\n",
       "if (notebookContainer) {{\n",
       "    x.observe(notebookContainer, {childList: true});\n",
       "}}\n",
       "\n",
       "// Listen for the clearing of the current output cell\n",
       "var outputEl = gd.closest('.output');\n",
       "if (outputEl) {{\n",
       "    x.observe(outputEl, {childList: true});\n",
       "}}\n",
       "\n",
       "                        })                };                });            </script>        </div>"
      ]
     },
     "metadata": {},
     "output_type": "display_data"
    }
   ],
   "source": [
    "rc = 'RURAL'\n",
    "grp_df3 = compute_transfer(xdf.query(f'Classification==\"{rc}\"'), groupby=['GE15_STATE'])\n",
    "\n",
    "display(grp_df3.style.format(\"{:,}\", ['GE15_Total', 'PRN_Total']).format(\"{:.2f}\", ['Unity_Transfer', 'PN_Transfer', 'No_Turnout']))\n",
    "long_df = grp_df3[['Unity_Transfer', 'PN_Transfer', 'No_Turnout']].reset_index().melt(id_vars='GE15_STATE')\n",
    "long_df.columns = ['State', 'Transfer', 'Ratio']\n",
    "\n",
    "color_mapping = {\n",
    "    'Unity_Transfer': '#FF5E5E',  # Darker pastel red\n",
    "    'PN_Transfer': '#65D25C',     # Darker pastel green\n",
    "    'No_Turnout': 'grey'\n",
    "}\n",
    "# Create a stacked bar plot using Plotly\n",
    "fig = px.bar(long_df, x='State', y='Ratio', color='Transfer', barmode='relative', color_discrete_map=color_mapping)\n",
    "fig.update_traces(texttemplate='%{y:.2f}', textposition='inside',)\n",
    "\n",
    "custom_order = ['SELANGOR', 'NEGERI SEMBILAN', 'PULAU PINANG', 'KEDAH', 'KELANTAN', 'TERENGGANU']\n",
    "fig.update_layout(title=f'Vote Transferability ({rc})',\n",
    "    xaxis_title='State',\n",
    "    yaxis_title='Ratio',\n",
    "    height=750, width=1450,template='plotly_white', xaxis=dict(categoryorder='array', categoryarray=custom_order),\n",
    "                      legend=dict(title=None,orientation='h', yanchor='top', y=1.05, xanchor='center', x=0.5)  # Centered legend at the top\n",
    "                 \n",
    "                 )\n",
    "fig.show(config={'displayModeBar': False} )\n",
    "          "
   ]
  },
  {
   "cell_type": "code",
   "execution_count": 317,
   "id": "9750be4c-3107-4dac-b110-57fab6218d6f",
   "metadata": {
    "tags": []
   },
   "outputs": [
    {
     "data": {
      "text/plain": [
       "array(['SEMI URBAN', 'RURAL', 'URBAN'], dtype=object)"
      ]
     },
     "execution_count": 317,
     "metadata": {},
     "output_type": "execute_result"
    }
   ],
   "source": [
    "xdf['Classification'].unique()"
   ]
  },
  {
   "cell_type": "code",
   "execution_count": 318,
   "id": "6fdebdb5-e0a8-4e71-9e24-120b0febf512",
   "metadata": {
    "tags": []
   },
   "outputs": [
    {
     "data": {
      "text/html": [
       "<style type=\"text/css\">\n",
       "</style>\n",
       "<table id=\"T_03556\">\n",
       "  <thead>\n",
       "    <tr>\n",
       "      <th class=\"blank level0\" >&nbsp;</th>\n",
       "      <th id=\"T_03556_level0_col0\" class=\"col_heading level0 col0\" >GE15_Total</th>\n",
       "      <th id=\"T_03556_level0_col1\" class=\"col_heading level0 col1\" >PRN_Total</th>\n",
       "      <th id=\"T_03556_level0_col2\" class=\"col_heading level0 col2\" >Unity_Transfer</th>\n",
       "      <th id=\"T_03556_level0_col3\" class=\"col_heading level0 col3\" >PN_Transfer</th>\n",
       "      <th id=\"T_03556_level0_col4\" class=\"col_heading level0 col4\" >No_Turnout</th>\n",
       "    </tr>\n",
       "    <tr>\n",
       "      <th class=\"index_name level0\" >GE15_STATE</th>\n",
       "      <th class=\"blank col0\" >&nbsp;</th>\n",
       "      <th class=\"blank col1\" >&nbsp;</th>\n",
       "      <th class=\"blank col2\" >&nbsp;</th>\n",
       "      <th class=\"blank col3\" >&nbsp;</th>\n",
       "      <th class=\"blank col4\" >&nbsp;</th>\n",
       "    </tr>\n",
       "  </thead>\n",
       "  <tbody>\n",
       "    <tr>\n",
       "      <th id=\"T_03556_level0_row0\" class=\"row_heading level0 row0\" >KEDAH</th>\n",
       "      <td id=\"T_03556_row0_col0\" class=\"data row0 col0\" >648,518</td>\n",
       "      <td id=\"T_03556_row0_col1\" class=\"data row0 col1\" >627,633</td>\n",
       "      <td id=\"T_03556_row0_col2\" class=\"data row0 col2\" >1.40</td>\n",
       "      <td id=\"T_03556_row0_col3\" class=\"data row0 col3\" >0.45</td>\n",
       "      <td id=\"T_03556_row0_col4\" class=\"data row0 col4\" >0.15</td>\n",
       "    </tr>\n",
       "    <tr>\n",
       "      <th id=\"T_03556_level0_row1\" class=\"row_heading level0 row1\" >KELANTAN</th>\n",
       "      <td id=\"T_03556_row1_col0\" class=\"data row1 col0\" >675,491</td>\n",
       "      <td id=\"T_03556_row1_col1\" class=\"data row1 col1\" >574,421</td>\n",
       "      <td id=\"T_03556_row1_col2\" class=\"data row1 col2\" >1.44</td>\n",
       "      <td id=\"T_03556_row1_col3\" class=\"data row1 col3\" >-0.32</td>\n",
       "      <td id=\"T_03556_row1_col4\" class=\"data row1 col4\" >0.87</td>\n",
       "    </tr>\n",
       "    <tr>\n",
       "      <th id=\"T_03556_level0_row2\" class=\"row_heading level0 row2\" >NEGERI SEMBILAN</th>\n",
       "      <td id=\"T_03556_row2_col0\" class=\"data row2 col0\" >318,517</td>\n",
       "      <td id=\"T_03556_row2_col1\" class=\"data row2 col1\" >281,393</td>\n",
       "      <td id=\"T_03556_row2_col2\" class=\"data row2 col2\" >1.31</td>\n",
       "      <td id=\"T_03556_row2_col3\" class=\"data row2 col3\" >0.39</td>\n",
       "      <td id=\"T_03556_row2_col4\" class=\"data row2 col4\" >0.30</td>\n",
       "    </tr>\n",
       "    <tr>\n",
       "      <th id=\"T_03556_level0_row3\" class=\"row_heading level0 row3\" >PULAU PINANG</th>\n",
       "      <td id=\"T_03556_row3_col0\" class=\"data row3 col0\" >262,635</td>\n",
       "      <td id=\"T_03556_row3_col1\" class=\"data row3 col1\" >260,133</td>\n",
       "      <td id=\"T_03556_row3_col2\" class=\"data row3 col2\" >1.57</td>\n",
       "      <td id=\"T_03556_row3_col3\" class=\"data row3 col3\" >0.40</td>\n",
       "      <td id=\"T_03556_row3_col4\" class=\"data row3 col4\" >0.03</td>\n",
       "    </tr>\n",
       "    <tr>\n",
       "      <th id=\"T_03556_level0_row4\" class=\"row_heading level0 row4\" >SELANGOR</th>\n",
       "      <td id=\"T_03556_row4_col0\" class=\"data row4 col0\" >511,944</td>\n",
       "      <td id=\"T_03556_row4_col1\" class=\"data row4 col1\" >477,103</td>\n",
       "      <td id=\"T_03556_row4_col2\" class=\"data row4 col2\" >1.50</td>\n",
       "      <td id=\"T_03556_row4_col3\" class=\"data row4 col3\" >0.29</td>\n",
       "      <td id=\"T_03556_row4_col4\" class=\"data row4 col4\" >0.22</td>\n",
       "    </tr>\n",
       "    <tr>\n",
       "      <th id=\"T_03556_level0_row5\" class=\"row_heading level0 row5\" >TERENGGANU</th>\n",
       "      <td id=\"T_03556_row5_col0\" class=\"data row5 col0\" >396,683</td>\n",
       "      <td id=\"T_03556_row5_col1\" class=\"data row5 col1\" >370,506</td>\n",
       "      <td id=\"T_03556_row5_col2\" class=\"data row5 col2\" >1.58</td>\n",
       "      <td id=\"T_03556_row5_col3\" class=\"data row5 col3\" >0.07</td>\n",
       "      <td id=\"T_03556_row5_col4\" class=\"data row5 col4\" >0.35</td>\n",
       "    </tr>\n",
       "  </tbody>\n",
       "</table>\n"
      ],
      "text/plain": [
       "<pandas.io.formats.style.Styler at 0x1dbe8c22080>"
      ]
     },
     "metadata": {},
     "output_type": "display_data"
    },
    {
     "data": {
      "application/vnd.plotly.v1+json": {
       "config": {
        "displayModeBar": false,
        "plotlyServerURL": "https://plot.ly"
       },
       "data": [
        {
         "alignmentgroup": "True",
         "hovertemplate": "Transfer=Unity_Transfer<br>State=%{x}<br>Ratio=%{y}<extra></extra>",
         "legendgroup": "Unity_Transfer",
         "marker": {
          "color": "#FF5E5E",
          "pattern": {
           "shape": ""
          }
         },
         "name": "Unity_Transfer",
         "offsetgroup": "Unity_Transfer",
         "orientation": "v",
         "showlegend": true,
         "textposition": "inside",
         "texttemplate": "%{y:.2f}",
         "type": "bar",
         "x": [
          "KEDAH",
          "KELANTAN",
          "NEGERI SEMBILAN",
          "PULAU PINANG",
          "SELANGOR",
          "TERENGGANU"
         ],
         "xaxis": "x",
         "y": [
          1.4,
          1.443,
          1.31,
          1.571,
          1.497,
          1.58
         ],
         "yaxis": "y"
        },
        {
         "alignmentgroup": "True",
         "hovertemplate": "Transfer=PN_Transfer<br>State=%{x}<br>Ratio=%{y}<extra></extra>",
         "legendgroup": "PN_Transfer",
         "marker": {
          "color": "#65D25C",
          "pattern": {
           "shape": ""
          }
         },
         "name": "PN_Transfer",
         "offsetgroup": "PN_Transfer",
         "orientation": "v",
         "showlegend": true,
         "textposition": "inside",
         "texttemplate": "%{y:.2f}",
         "type": "bar",
         "x": [
          "KEDAH",
          "KELANTAN",
          "NEGERI SEMBILAN",
          "PULAU PINANG",
          "SELANGOR",
          "TERENGGANU"
         ],
         "xaxis": "x",
         "y": [
          0.45,
          -0.317,
          0.389,
          0.396,
          0.286,
          0.068
         ],
         "yaxis": "y"
        },
        {
         "alignmentgroup": "True",
         "hovertemplate": "Transfer=No_Turnout<br>State=%{x}<br>Ratio=%{y}<extra></extra>",
         "legendgroup": "No_Turnout",
         "marker": {
          "color": "grey",
          "pattern": {
           "shape": ""
          }
         },
         "name": "No_Turnout",
         "offsetgroup": "No_Turnout",
         "orientation": "v",
         "showlegend": true,
         "textposition": "inside",
         "texttemplate": "%{y:.2f}",
         "type": "bar",
         "x": [
          "KEDAH",
          "KELANTAN",
          "NEGERI SEMBILAN",
          "PULAU PINANG",
          "SELANGOR",
          "TERENGGANU"
         ],
         "xaxis": "x",
         "y": [
          0.15,
          0.874,
          0.301,
          0.032,
          0.217,
          0.352
         ],
         "yaxis": "y"
        }
       ],
       "layout": {
        "barmode": "relative",
        "height": 750,
        "legend": {
         "orientation": "h",
         "title": {},
         "tracegroupgap": 0,
         "x": 0.5,
         "xanchor": "center",
         "y": 1.05,
         "yanchor": "top"
        },
        "margin": {
         "t": 60
        },
        "template": {
         "data": {
          "bar": [
           {
            "error_x": {
             "color": "#2a3f5f"
            },
            "error_y": {
             "color": "#2a3f5f"
            },
            "marker": {
             "line": {
              "color": "white",
              "width": 0.5
             },
             "pattern": {
              "fillmode": "overlay",
              "size": 10,
              "solidity": 0.2
             }
            },
            "type": "bar"
           }
          ],
          "barpolar": [
           {
            "marker": {
             "line": {
              "color": "white",
              "width": 0.5
             },
             "pattern": {
              "fillmode": "overlay",
              "size": 10,
              "solidity": 0.2
             }
            },
            "type": "barpolar"
           }
          ],
          "carpet": [
           {
            "aaxis": {
             "endlinecolor": "#2a3f5f",
             "gridcolor": "#C8D4E3",
             "linecolor": "#C8D4E3",
             "minorgridcolor": "#C8D4E3",
             "startlinecolor": "#2a3f5f"
            },
            "baxis": {
             "endlinecolor": "#2a3f5f",
             "gridcolor": "#C8D4E3",
             "linecolor": "#C8D4E3",
             "minorgridcolor": "#C8D4E3",
             "startlinecolor": "#2a3f5f"
            },
            "type": "carpet"
           }
          ],
          "choropleth": [
           {
            "colorbar": {
             "outlinewidth": 0,
             "ticks": ""
            },
            "type": "choropleth"
           }
          ],
          "contour": [
           {
            "colorbar": {
             "outlinewidth": 0,
             "ticks": ""
            },
            "colorscale": [
             [
              0,
              "#0d0887"
             ],
             [
              0.1111111111111111,
              "#46039f"
             ],
             [
              0.2222222222222222,
              "#7201a8"
             ],
             [
              0.3333333333333333,
              "#9c179e"
             ],
             [
              0.4444444444444444,
              "#bd3786"
             ],
             [
              0.5555555555555556,
              "#d8576b"
             ],
             [
              0.6666666666666666,
              "#ed7953"
             ],
             [
              0.7777777777777778,
              "#fb9f3a"
             ],
             [
              0.8888888888888888,
              "#fdca26"
             ],
             [
              1,
              "#f0f921"
             ]
            ],
            "type": "contour"
           }
          ],
          "contourcarpet": [
           {
            "colorbar": {
             "outlinewidth": 0,
             "ticks": ""
            },
            "type": "contourcarpet"
           }
          ],
          "heatmap": [
           {
            "colorbar": {
             "outlinewidth": 0,
             "ticks": ""
            },
            "colorscale": [
             [
              0,
              "#0d0887"
             ],
             [
              0.1111111111111111,
              "#46039f"
             ],
             [
              0.2222222222222222,
              "#7201a8"
             ],
             [
              0.3333333333333333,
              "#9c179e"
             ],
             [
              0.4444444444444444,
              "#bd3786"
             ],
             [
              0.5555555555555556,
              "#d8576b"
             ],
             [
              0.6666666666666666,
              "#ed7953"
             ],
             [
              0.7777777777777778,
              "#fb9f3a"
             ],
             [
              0.8888888888888888,
              "#fdca26"
             ],
             [
              1,
              "#f0f921"
             ]
            ],
            "type": "heatmap"
           }
          ],
          "heatmapgl": [
           {
            "colorbar": {
             "outlinewidth": 0,
             "ticks": ""
            },
            "colorscale": [
             [
              0,
              "#0d0887"
             ],
             [
              0.1111111111111111,
              "#46039f"
             ],
             [
              0.2222222222222222,
              "#7201a8"
             ],
             [
              0.3333333333333333,
              "#9c179e"
             ],
             [
              0.4444444444444444,
              "#bd3786"
             ],
             [
              0.5555555555555556,
              "#d8576b"
             ],
             [
              0.6666666666666666,
              "#ed7953"
             ],
             [
              0.7777777777777778,
              "#fb9f3a"
             ],
             [
              0.8888888888888888,
              "#fdca26"
             ],
             [
              1,
              "#f0f921"
             ]
            ],
            "type": "heatmapgl"
           }
          ],
          "histogram": [
           {
            "marker": {
             "pattern": {
              "fillmode": "overlay",
              "size": 10,
              "solidity": 0.2
             }
            },
            "type": "histogram"
           }
          ],
          "histogram2d": [
           {
            "colorbar": {
             "outlinewidth": 0,
             "ticks": ""
            },
            "colorscale": [
             [
              0,
              "#0d0887"
             ],
             [
              0.1111111111111111,
              "#46039f"
             ],
             [
              0.2222222222222222,
              "#7201a8"
             ],
             [
              0.3333333333333333,
              "#9c179e"
             ],
             [
              0.4444444444444444,
              "#bd3786"
             ],
             [
              0.5555555555555556,
              "#d8576b"
             ],
             [
              0.6666666666666666,
              "#ed7953"
             ],
             [
              0.7777777777777778,
              "#fb9f3a"
             ],
             [
              0.8888888888888888,
              "#fdca26"
             ],
             [
              1,
              "#f0f921"
             ]
            ],
            "type": "histogram2d"
           }
          ],
          "histogram2dcontour": [
           {
            "colorbar": {
             "outlinewidth": 0,
             "ticks": ""
            },
            "colorscale": [
             [
              0,
              "#0d0887"
             ],
             [
              0.1111111111111111,
              "#46039f"
             ],
             [
              0.2222222222222222,
              "#7201a8"
             ],
             [
              0.3333333333333333,
              "#9c179e"
             ],
             [
              0.4444444444444444,
              "#bd3786"
             ],
             [
              0.5555555555555556,
              "#d8576b"
             ],
             [
              0.6666666666666666,
              "#ed7953"
             ],
             [
              0.7777777777777778,
              "#fb9f3a"
             ],
             [
              0.8888888888888888,
              "#fdca26"
             ],
             [
              1,
              "#f0f921"
             ]
            ],
            "type": "histogram2dcontour"
           }
          ],
          "mesh3d": [
           {
            "colorbar": {
             "outlinewidth": 0,
             "ticks": ""
            },
            "type": "mesh3d"
           }
          ],
          "parcoords": [
           {
            "line": {
             "colorbar": {
              "outlinewidth": 0,
              "ticks": ""
             }
            },
            "type": "parcoords"
           }
          ],
          "pie": [
           {
            "automargin": true,
            "type": "pie"
           }
          ],
          "scatter": [
           {
            "fillpattern": {
             "fillmode": "overlay",
             "size": 10,
             "solidity": 0.2
            },
            "type": "scatter"
           }
          ],
          "scatter3d": [
           {
            "line": {
             "colorbar": {
              "outlinewidth": 0,
              "ticks": ""
             }
            },
            "marker": {
             "colorbar": {
              "outlinewidth": 0,
              "ticks": ""
             }
            },
            "type": "scatter3d"
           }
          ],
          "scattercarpet": [
           {
            "marker": {
             "colorbar": {
              "outlinewidth": 0,
              "ticks": ""
             }
            },
            "type": "scattercarpet"
           }
          ],
          "scattergeo": [
           {
            "marker": {
             "colorbar": {
              "outlinewidth": 0,
              "ticks": ""
             }
            },
            "type": "scattergeo"
           }
          ],
          "scattergl": [
           {
            "marker": {
             "colorbar": {
              "outlinewidth": 0,
              "ticks": ""
             }
            },
            "type": "scattergl"
           }
          ],
          "scattermapbox": [
           {
            "marker": {
             "colorbar": {
              "outlinewidth": 0,
              "ticks": ""
             }
            },
            "type": "scattermapbox"
           }
          ],
          "scatterpolar": [
           {
            "marker": {
             "colorbar": {
              "outlinewidth": 0,
              "ticks": ""
             }
            },
            "type": "scatterpolar"
           }
          ],
          "scatterpolargl": [
           {
            "marker": {
             "colorbar": {
              "outlinewidth": 0,
              "ticks": ""
             }
            },
            "type": "scatterpolargl"
           }
          ],
          "scatterternary": [
           {
            "marker": {
             "colorbar": {
              "outlinewidth": 0,
              "ticks": ""
             }
            },
            "type": "scatterternary"
           }
          ],
          "surface": [
           {
            "colorbar": {
             "outlinewidth": 0,
             "ticks": ""
            },
            "colorscale": [
             [
              0,
              "#0d0887"
             ],
             [
              0.1111111111111111,
              "#46039f"
             ],
             [
              0.2222222222222222,
              "#7201a8"
             ],
             [
              0.3333333333333333,
              "#9c179e"
             ],
             [
              0.4444444444444444,
              "#bd3786"
             ],
             [
              0.5555555555555556,
              "#d8576b"
             ],
             [
              0.6666666666666666,
              "#ed7953"
             ],
             [
              0.7777777777777778,
              "#fb9f3a"
             ],
             [
              0.8888888888888888,
              "#fdca26"
             ],
             [
              1,
              "#f0f921"
             ]
            ],
            "type": "surface"
           }
          ],
          "table": [
           {
            "cells": {
             "fill": {
              "color": "#EBF0F8"
             },
             "line": {
              "color": "white"
             }
            },
            "header": {
             "fill": {
              "color": "#C8D4E3"
             },
             "line": {
              "color": "white"
             }
            },
            "type": "table"
           }
          ]
         },
         "layout": {
          "annotationdefaults": {
           "arrowcolor": "#2a3f5f",
           "arrowhead": 0,
           "arrowwidth": 1
          },
          "autotypenumbers": "strict",
          "coloraxis": {
           "colorbar": {
            "outlinewidth": 0,
            "ticks": ""
           }
          },
          "colorscale": {
           "diverging": [
            [
             0,
             "#8e0152"
            ],
            [
             0.1,
             "#c51b7d"
            ],
            [
             0.2,
             "#de77ae"
            ],
            [
             0.3,
             "#f1b6da"
            ],
            [
             0.4,
             "#fde0ef"
            ],
            [
             0.5,
             "#f7f7f7"
            ],
            [
             0.6,
             "#e6f5d0"
            ],
            [
             0.7,
             "#b8e186"
            ],
            [
             0.8,
             "#7fbc41"
            ],
            [
             0.9,
             "#4d9221"
            ],
            [
             1,
             "#276419"
            ]
           ],
           "sequential": [
            [
             0,
             "#0d0887"
            ],
            [
             0.1111111111111111,
             "#46039f"
            ],
            [
             0.2222222222222222,
             "#7201a8"
            ],
            [
             0.3333333333333333,
             "#9c179e"
            ],
            [
             0.4444444444444444,
             "#bd3786"
            ],
            [
             0.5555555555555556,
             "#d8576b"
            ],
            [
             0.6666666666666666,
             "#ed7953"
            ],
            [
             0.7777777777777778,
             "#fb9f3a"
            ],
            [
             0.8888888888888888,
             "#fdca26"
            ],
            [
             1,
             "#f0f921"
            ]
           ],
           "sequentialminus": [
            [
             0,
             "#0d0887"
            ],
            [
             0.1111111111111111,
             "#46039f"
            ],
            [
             0.2222222222222222,
             "#7201a8"
            ],
            [
             0.3333333333333333,
             "#9c179e"
            ],
            [
             0.4444444444444444,
             "#bd3786"
            ],
            [
             0.5555555555555556,
             "#d8576b"
            ],
            [
             0.6666666666666666,
             "#ed7953"
            ],
            [
             0.7777777777777778,
             "#fb9f3a"
            ],
            [
             0.8888888888888888,
             "#fdca26"
            ],
            [
             1,
             "#f0f921"
            ]
           ]
          },
          "colorway": [
           "#636efa",
           "#EF553B",
           "#00cc96",
           "#ab63fa",
           "#FFA15A",
           "#19d3f3",
           "#FF6692",
           "#B6E880",
           "#FF97FF",
           "#FECB52"
          ],
          "font": {
           "color": "#2a3f5f"
          },
          "geo": {
           "bgcolor": "white",
           "lakecolor": "white",
           "landcolor": "white",
           "showlakes": true,
           "showland": true,
           "subunitcolor": "#C8D4E3"
          },
          "hoverlabel": {
           "align": "left"
          },
          "hovermode": "closest",
          "mapbox": {
           "style": "light"
          },
          "paper_bgcolor": "white",
          "plot_bgcolor": "white",
          "polar": {
           "angularaxis": {
            "gridcolor": "#EBF0F8",
            "linecolor": "#EBF0F8",
            "ticks": ""
           },
           "bgcolor": "white",
           "radialaxis": {
            "gridcolor": "#EBF0F8",
            "linecolor": "#EBF0F8",
            "ticks": ""
           }
          },
          "scene": {
           "xaxis": {
            "backgroundcolor": "white",
            "gridcolor": "#DFE8F3",
            "gridwidth": 2,
            "linecolor": "#EBF0F8",
            "showbackground": true,
            "ticks": "",
            "zerolinecolor": "#EBF0F8"
           },
           "yaxis": {
            "backgroundcolor": "white",
            "gridcolor": "#DFE8F3",
            "gridwidth": 2,
            "linecolor": "#EBF0F8",
            "showbackground": true,
            "ticks": "",
            "zerolinecolor": "#EBF0F8"
           },
           "zaxis": {
            "backgroundcolor": "white",
            "gridcolor": "#DFE8F3",
            "gridwidth": 2,
            "linecolor": "#EBF0F8",
            "showbackground": true,
            "ticks": "",
            "zerolinecolor": "#EBF0F8"
           }
          },
          "shapedefaults": {
           "line": {
            "color": "#2a3f5f"
           }
          },
          "ternary": {
           "aaxis": {
            "gridcolor": "#DFE8F3",
            "linecolor": "#A2B1C6",
            "ticks": ""
           },
           "baxis": {
            "gridcolor": "#DFE8F3",
            "linecolor": "#A2B1C6",
            "ticks": ""
           },
           "bgcolor": "white",
           "caxis": {
            "gridcolor": "#DFE8F3",
            "linecolor": "#A2B1C6",
            "ticks": ""
           }
          },
          "title": {
           "x": 0.05
          },
          "xaxis": {
           "automargin": true,
           "gridcolor": "#EBF0F8",
           "linecolor": "#EBF0F8",
           "ticks": "",
           "title": {
            "standoff": 15
           },
           "zerolinecolor": "#EBF0F8",
           "zerolinewidth": 2
          },
          "yaxis": {
           "automargin": true,
           "gridcolor": "#EBF0F8",
           "linecolor": "#EBF0F8",
           "ticks": "",
           "title": {
            "standoff": 15
           },
           "zerolinecolor": "#EBF0F8",
           "zerolinewidth": 2
          }
         }
        },
        "title": {
         "text": "Vote Transferability (SEMI URBAN)"
        },
        "width": 1450,
        "xaxis": {
         "anchor": "y",
         "autorange": true,
         "categoryarray": [
          "SELANGOR",
          "NEGERI SEMBILAN",
          "PULAU PINANG",
          "KEDAH",
          "KELANTAN",
          "TERENGGANU"
         ],
         "categoryorder": "array",
         "domain": [
          0,
          1
         ],
         "range": [
          -0.5,
          5.5
         ],
         "title": {
          "text": "State"
         },
         "type": "category"
        },
        "yaxis": {
         "anchor": "x",
         "autorange": true,
         "domain": [
          0,
          1
         ],
         "range": [
          -0.4633333333333334,
          2.4633333333333334
         ],
         "title": {
          "text": "Ratio"
         },
         "type": "linear"
        }
       }
      },
      "image/png": "[encoded data removed]",
      "text/html": [
       "<div>                            <div id=\"59698745-8c46-466e-a543-e3328e7c50e3\" class=\"plotly-graph-div\" style=\"height:750px; width:1450px;\"></div>            <script type=\"text/javascript\">                require([\"plotly\"], function(Plotly) {                    window.PLOTLYENV=window.PLOTLYENV || {};                                    if (document.getElementById(\"59698745-8c46-466e-a543-e3328e7c50e3\")) {                    Plotly.newPlot(                        \"59698745-8c46-466e-a543-e3328e7c50e3\",                        [{\"alignmentgroup\":\"True\",\"hovertemplate\":\"Transfer=Unity_Transfer<br>State=%{x}<br>Ratio=%{y}<extra></extra>\",\"legendgroup\":\"Unity_Transfer\",\"marker\":{\"color\":\"#FF5E5E\",\"pattern\":{\"shape\":\"\"}},\"name\":\"Unity_Transfer\",\"offsetgroup\":\"Unity_Transfer\",\"orientation\":\"v\",\"showlegend\":true,\"textposition\":\"inside\",\"x\":[\"KEDAH\",\"KELANTAN\",\"NEGERI SEMBILAN\",\"PULAU PINANG\",\"SELANGOR\",\"TERENGGANU\"],\"xaxis\":\"x\",\"y\":[1.4,1.443,1.31,1.571,1.497,1.58],\"yaxis\":\"y\",\"type\":\"bar\",\"texttemplate\":\"%{y:.2f}\"},{\"alignmentgroup\":\"True\",\"hovertemplate\":\"Transfer=PN_Transfer<br>State=%{x}<br>Ratio=%{y}<extra></extra>\",\"legendgroup\":\"PN_Transfer\",\"marker\":{\"color\":\"#65D25C\",\"pattern\":{\"shape\":\"\"}},\"name\":\"PN_Transfer\",\"offsetgroup\":\"PN_Transfer\",\"orientation\":\"v\",\"showlegend\":true,\"textposition\":\"inside\",\"x\":[\"KEDAH\",\"KELANTAN\",\"NEGERI SEMBILAN\",\"PULAU PINANG\",\"SELANGOR\",\"TERENGGANU\"],\"xaxis\":\"x\",\"y\":[0.45,-0.317,0.389,0.396,0.286,0.068],\"yaxis\":\"y\",\"type\":\"bar\",\"texttemplate\":\"%{y:.2f}\"},{\"alignmentgroup\":\"True\",\"hovertemplate\":\"Transfer=No_Turnout<br>State=%{x}<br>Ratio=%{y}<extra></extra>\",\"legendgroup\":\"No_Turnout\",\"marker\":{\"color\":\"grey\",\"pattern\":{\"shape\":\"\"}},\"name\":\"No_Turnout\",\"offsetgroup\":\"No_Turnout\",\"orientation\":\"v\",\"showlegend\":true,\"textposition\":\"inside\",\"x\":[\"KEDAH\",\"KELANTAN\",\"NEGERI SEMBILAN\",\"PULAU PINANG\",\"SELANGOR\",\"TERENGGANU\"],\"xaxis\":\"x\",\"y\":[0.15,0.874,0.301,0.032,0.217,0.352],\"yaxis\":\"y\",\"type\":\"bar\",\"texttemplate\":\"%{y:.2f}\"}],                        {\"template\":{\"data\":{\"barpolar\":[{\"marker\":{\"line\":{\"color\":\"white\",\"width\":0.5},\"pattern\":{\"fillmode\":\"overlay\",\"size\":10,\"solidity\":0.2}},\"type\":\"barpolar\"}],\"bar\":[{\"error_x\":{\"color\":\"#2a3f5f\"},\"error_y\":{\"color\":\"#2a3f5f\"},\"marker\":{\"line\":{\"color\":\"white\",\"width\":0.5},\"pattern\":{\"fillmode\":\"overlay\",\"size\":10,\"solidity\":0.2}},\"type\":\"bar\"}],\"carpet\":[{\"aaxis\":{\"endlinecolor\":\"#2a3f5f\",\"gridcolor\":\"#C8D4E3\",\"linecolor\":\"#C8D4E3\",\"minorgridcolor\":\"#C8D4E3\",\"startlinecolor\":\"#2a3f5f\"},\"baxis\":{\"endlinecolor\":\"#2a3f5f\",\"gridcolor\":\"#C8D4E3\",\"linecolor\":\"#C8D4E3\",\"minorgridcolor\":\"#C8D4E3\",\"startlinecolor\":\"#2a3f5f\"},\"type\":\"carpet\"}],\"choropleth\":[{\"colorbar\":{\"outlinewidth\":0,\"ticks\":\"\"},\"type\":\"choropleth\"}],\"contourcarpet\":[{\"colorbar\":{\"outlinewidth\":0,\"ticks\":\"\"},\"type\":\"contourcarpet\"}],\"contour\":[{\"colorbar\":{\"outlinewidth\":0,\"ticks\":\"\"},\"colorscale\":[[0.0,\"#0d0887\"],[0.1111111111111111,\"#46039f\"],[0.2222222222222222,\"#7201a8\"],[0.3333333333333333,\"#9c179e\"],[0.4444444444444444,\"#bd3786\"],[0.5555555555555556,\"#d8576b\"],[0.6666666666666666,\"#ed7953\"],[0.7777777777777778,\"#fb9f3a\"],[0.8888888888888888,\"#fdca26\"],[1.0,\"#f0f921\"]],\"type\":\"contour\"}],\"heatmapgl\":[{\"colorbar\":{\"outlinewidth\":0,\"ticks\":\"\"},\"colorscale\":[[0.0,\"#0d0887\"],[0.1111111111111111,\"#46039f\"],[0.2222222222222222,\"#7201a8\"],[0.3333333333333333,\"#9c179e\"],[0.4444444444444444,\"#bd3786\"],[0.5555555555555556,\"#d8576b\"],[0.6666666666666666,\"#ed7953\"],[0.7777777777777778,\"#fb9f3a\"],[0.8888888888888888,\"#fdca26\"],[1.0,\"#f0f921\"]],\"type\":\"heatmapgl\"}],\"heatmap\":[{\"colorbar\":{\"outlinewidth\":0,\"ticks\":\"\"},\"colorscale\":[[0.0,\"#0d0887\"],[0.1111111111111111,\"#46039f\"],[0.2222222222222222,\"#7201a8\"],[0.3333333333333333,\"#9c179e\"],[0.4444444444444444,\"#bd3786\"],[0.5555555555555556,\"#d8576b\"],[0.6666666666666666,\"#ed7953\"],[0.7777777777777778,\"#fb9f3a\"],[0.8888888888888888,\"#fdca26\"],[1.0,\"#f0f921\"]],\"type\":\"heatmap\"}],\"histogram2dcontour\":[{\"colorbar\":{\"outlinewidth\":0,\"ticks\":\"\"},\"colorscale\":[[0.0,\"#0d0887\"],[0.1111111111111111,\"#46039f\"],[0.2222222222222222,\"#7201a8\"],[0.3333333333333333,\"#9c179e\"],[0.4444444444444444,\"#bd3786\"],[0.5555555555555556,\"#d8576b\"],[0.6666666666666666,\"#ed7953\"],[0.7777777777777778,\"#fb9f3a\"],[0.8888888888888888,\"#fdca26\"],[1.0,\"#f0f921\"]],\"type\":\"histogram2dcontour\"}],\"histogram2d\":[{\"colorbar\":{\"outlinewidth\":0,\"ticks\":\"\"},\"colorscale\":[[0.0,\"#0d0887\"],[0.1111111111111111,\"#46039f\"],[0.2222222222222222,\"#7201a8\"],[0.3333333333333333,\"#9c179e\"],[0.4444444444444444,\"#bd3786\"],[0.5555555555555556,\"#d8576b\"],[0.6666666666666666,\"#ed7953\"],[0.7777777777777778,\"#fb9f3a\"],[0.8888888888888888,\"#fdca26\"],[1.0,\"#f0f921\"]],\"type\":\"histogram2d\"}],\"histogram\":[{\"marker\":{\"pattern\":{\"fillmode\":\"overlay\",\"size\":10,\"solidity\":0.2}},\"type\":\"histogram\"}],\"mesh3d\":[{\"colorbar\":{\"outlinewidth\":0,\"ticks\":\"\"},\"type\":\"mesh3d\"}],\"parcoords\":[{\"line\":{\"colorbar\":{\"outlinewidth\":0,\"ticks\":\"\"}},\"type\":\"parcoords\"}],\"pie\":[{\"automargin\":true,\"type\":\"pie\"}],\"scatter3d\":[{\"line\":{\"colorbar\":{\"outlinewidth\":0,\"ticks\":\"\"}},\"marker\":{\"colorbar\":{\"outlinewidth\":0,\"ticks\":\"\"}},\"type\":\"scatter3d\"}],\"scattercarpet\":[{\"marker\":{\"colorbar\":{\"outlinewidth\":0,\"ticks\":\"\"}},\"type\":\"scattercarpet\"}],\"scattergeo\":[{\"marker\":{\"colorbar\":{\"outlinewidth\":0,\"ticks\":\"\"}},\"type\":\"scattergeo\"}],\"scattergl\":[{\"marker\":{\"colorbar\":{\"outlinewidth\":0,\"ticks\":\"\"}},\"type\":\"scattergl\"}],\"scattermapbox\":[{\"marker\":{\"colorbar\":{\"outlinewidth\":0,\"ticks\":\"\"}},\"type\":\"scattermapbox\"}],\"scatterpolargl\":[{\"marker\":{\"colorbar\":{\"outlinewidth\":0,\"ticks\":\"\"}},\"type\":\"scatterpolargl\"}],\"scatterpolar\":[{\"marker\":{\"colorbar\":{\"outlinewidth\":0,\"ticks\":\"\"}},\"type\":\"scatterpolar\"}],\"scatter\":[{\"fillpattern\":{\"fillmode\":\"overlay\",\"size\":10,\"solidity\":0.2},\"type\":\"scatter\"}],\"scatterternary\":[{\"marker\":{\"colorbar\":{\"outlinewidth\":0,\"ticks\":\"\"}},\"type\":\"scatterternary\"}],\"surface\":[{\"colorbar\":{\"outlinewidth\":0,\"ticks\":\"\"},\"colorscale\":[[0.0,\"#0d0887\"],[0.1111111111111111,\"#46039f\"],[0.2222222222222222,\"#7201a8\"],[0.3333333333333333,\"#9c179e\"],[0.4444444444444444,\"#bd3786\"],[0.5555555555555556,\"#d8576b\"],[0.6666666666666666,\"#ed7953\"],[0.7777777777777778,\"#fb9f3a\"],[0.8888888888888888,\"#fdca26\"],[1.0,\"#f0f921\"]],\"type\":\"surface\"}],\"table\":[{\"cells\":{\"fill\":{\"color\":\"#EBF0F8\"},\"line\":{\"color\":\"white\"}},\"header\":{\"fill\":{\"color\":\"#C8D4E3\"},\"line\":{\"color\":\"white\"}},\"type\":\"table\"}]},\"layout\":{\"annotationdefaults\":{\"arrowcolor\":\"#2a3f5f\",\"arrowhead\":0,\"arrowwidth\":1},\"autotypenumbers\":\"strict\",\"coloraxis\":{\"colorbar\":{\"outlinewidth\":0,\"ticks\":\"\"}},\"colorscale\":{\"diverging\":[[0,\"#8e0152\"],[0.1,\"#c51b7d\"],[0.2,\"#de77ae\"],[0.3,\"#f1b6da\"],[0.4,\"#fde0ef\"],[0.5,\"#f7f7f7\"],[0.6,\"#e6f5d0\"],[0.7,\"#b8e186\"],[0.8,\"#7fbc41\"],[0.9,\"#4d9221\"],[1,\"#276419\"]],\"sequential\":[[0.0,\"#0d0887\"],[0.1111111111111111,\"#46039f\"],[0.2222222222222222,\"#7201a8\"],[0.3333333333333333,\"#9c179e\"],[0.4444444444444444,\"#bd3786\"],[0.5555555555555556,\"#d8576b\"],[0.6666666666666666,\"#ed7953\"],[0.7777777777777778,\"#fb9f3a\"],[0.8888888888888888,\"#fdca26\"],[1.0,\"#f0f921\"]],\"sequentialminus\":[[0.0,\"#0d0887\"],[0.1111111111111111,\"#46039f\"],[0.2222222222222222,\"#7201a8\"],[0.3333333333333333,\"#9c179e\"],[0.4444444444444444,\"#bd3786\"],[0.5555555555555556,\"#d8576b\"],[0.6666666666666666,\"#ed7953\"],[0.7777777777777778,\"#fb9f3a\"],[0.8888888888888888,\"#fdca26\"],[1.0,\"#f0f921\"]]},\"colorway\":[\"#636efa\",\"#EF553B\",\"#00cc96\",\"#ab63fa\",\"#FFA15A\",\"#19d3f3\",\"#FF6692\",\"#B6E880\",\"#FF97FF\",\"#FECB52\"],\"font\":{\"color\":\"#2a3f5f\"},\"geo\":{\"bgcolor\":\"white\",\"lakecolor\":\"white\",\"landcolor\":\"white\",\"showlakes\":true,\"showland\":true,\"subunitcolor\":\"#C8D4E3\"},\"hoverlabel\":{\"align\":\"left\"},\"hovermode\":\"closest\",\"mapbox\":{\"style\":\"light\"},\"paper_bgcolor\":\"white\",\"plot_bgcolor\":\"white\",\"polar\":{\"angularaxis\":{\"gridcolor\":\"#EBF0F8\",\"linecolor\":\"#EBF0F8\",\"ticks\":\"\"},\"bgcolor\":\"white\",\"radialaxis\":{\"gridcolor\":\"#EBF0F8\",\"linecolor\":\"#EBF0F8\",\"ticks\":\"\"}},\"scene\":{\"xaxis\":{\"backgroundcolor\":\"white\",\"gridcolor\":\"#DFE8F3\",\"gridwidth\":2,\"linecolor\":\"#EBF0F8\",\"showbackground\":true,\"ticks\":\"\",\"zerolinecolor\":\"#EBF0F8\"},\"yaxis\":{\"backgroundcolor\":\"white\",\"gridcolor\":\"#DFE8F3\",\"gridwidth\":2,\"linecolor\":\"#EBF0F8\",\"showbackground\":true,\"ticks\":\"\",\"zerolinecolor\":\"#EBF0F8\"},\"zaxis\":{\"backgroundcolor\":\"white\",\"gridcolor\":\"#DFE8F3\",\"gridwidth\":2,\"linecolor\":\"#EBF0F8\",\"showbackground\":true,\"ticks\":\"\",\"zerolinecolor\":\"#EBF0F8\"}},\"shapedefaults\":{\"line\":{\"color\":\"#2a3f5f\"}},\"ternary\":{\"aaxis\":{\"gridcolor\":\"#DFE8F3\",\"linecolor\":\"#A2B1C6\",\"ticks\":\"\"},\"baxis\":{\"gridcolor\":\"#DFE8F3\",\"linecolor\":\"#A2B1C6\",\"ticks\":\"\"},\"bgcolor\":\"white\",\"caxis\":{\"gridcolor\":\"#DFE8F3\",\"linecolor\":\"#A2B1C6\",\"ticks\":\"\"}},\"title\":{\"x\":0.05},\"xaxis\":{\"automargin\":true,\"gridcolor\":\"#EBF0F8\",\"linecolor\":\"#EBF0F8\",\"ticks\":\"\",\"title\":{\"standoff\":15},\"zerolinecolor\":\"#EBF0F8\",\"zerolinewidth\":2},\"yaxis\":{\"automargin\":true,\"gridcolor\":\"#EBF0F8\",\"linecolor\":\"#EBF0F8\",\"ticks\":\"\",\"title\":{\"standoff\":15},\"zerolinecolor\":\"#EBF0F8\",\"zerolinewidth\":2}}},\"xaxis\":{\"anchor\":\"y\",\"domain\":[0.0,1.0],\"title\":{\"text\":\"State\"},\"categoryorder\":\"array\",\"categoryarray\":[\"SELANGOR\",\"NEGERI SEMBILAN\",\"PULAU PINANG\",\"KEDAH\",\"KELANTAN\",\"TERENGGANU\"]},\"yaxis\":{\"anchor\":\"x\",\"domain\":[0.0,1.0],\"title\":{\"text\":\"Ratio\"}},\"legend\":{\"title\":{},\"tracegroupgap\":0,\"orientation\":\"h\",\"yanchor\":\"top\",\"y\":1.05,\"xanchor\":\"center\",\"x\":0.5},\"margin\":{\"t\":60},\"barmode\":\"relative\",\"title\":{\"text\":\"Vote Transferability (SEMI URBAN)\"},\"height\":750,\"width\":1450},                        {\"displayModeBar\": false, \"responsive\": true}                    ).then(function(){\n",
       "                            \n",
       "var gd = document.getElementById('59698745-8c46-466e-a543-e3328e7c50e3');\n",
       "var x = new MutationObserver(function (mutations, observer) {{\n",
       "        var display = window.getComputedStyle(gd).display;\n",
       "        if (!display || display === 'none') {{\n",
       "            console.log([gd, 'removed!']);\n",
       "            Plotly.purge(gd);\n",
       "            observer.disconnect();\n",
       "        }}\n",
       "}});\n",
       "\n",
       "// Listen for the removal of the full notebook cells\n",
       "var notebookContainer = gd.closest('#notebook-container');\n",
       "if (notebookContainer) {{\n",
       "    x.observe(notebookContainer, {childList: true});\n",
       "}}\n",
       "\n",
       "// Listen for the clearing of the current output cell\n",
       "var outputEl = gd.closest('.output');\n",
       "if (outputEl) {{\n",
       "    x.observe(outputEl, {childList: true});\n",
       "}}\n",
       "\n",
       "                        })                };                });            </script>        </div>"
      ]
     },
     "metadata": {},
     "output_type": "display_data"
    }
   ],
   "source": [
    "rc = 'SEMI URBAN'\n",
    "grp_df3 = compute_transfer(xdf.query(f'Classification==\"{rc}\"'), groupby=['GE15_STATE'])\n",
    "\n",
    "display(grp_df3.style.format(\"{:,}\", ['GE15_Total', 'PRN_Total']).format(\"{:.2f}\", ['Unity_Transfer', 'PN_Transfer', 'No_Turnout']))\n",
    "long_df = grp_df3[['Unity_Transfer', 'PN_Transfer', 'No_Turnout']].reset_index().melt(id_vars='GE15_STATE')\n",
    "long_df.columns = ['State', 'Transfer', 'Ratio']\n",
    "\n",
    "color_mapping = {\n",
    "    'Unity_Transfer': '#FF5E5E',  # Darker pastel red\n",
    "    'PN_Transfer': '#65D25C',     # Darker pastel green\n",
    "    'No_Turnout': 'grey'\n",
    "}\n",
    "# Create a stacked bar plot using Plotly\n",
    "fig = px.bar(long_df, x='State', y='Ratio', color='Transfer', barmode='relative', color_discrete_map=color_mapping)\n",
    "fig.update_traces(texttemplate='%{y:.2f}', textposition='inside',)\n",
    "\n",
    "custom_order = ['SELANGOR', 'NEGERI SEMBILAN', 'PULAU PINANG', 'KEDAH', 'KELANTAN', 'TERENGGANU']\n",
    "fig.update_layout(title=f'Vote Transferability ({rc})',\n",
    "    xaxis_title='State',\n",
    "    yaxis_title='Ratio',\n",
    "    height=750, width=1450,template='plotly_white', xaxis=dict(categoryorder='array', categoryarray=custom_order),\n",
    "                      legend=dict(title=None,orientation='h', yanchor='top', y=1.05, xanchor='center', x=0.5)  # Centered legend at the top\n",
    "                 \n",
    "                 )\n",
    "fig.show(config={'displayModeBar': False} )\n",
    "          "
   ]
  },
  {
   "cell_type": "code",
   "execution_count": 319,
   "id": "f8410128-8f7c-4682-8b6f-db9ee267a51c",
   "metadata": {
    "tags": []
   },
   "outputs": [
    {
     "data": {
      "text/html": [
       "<style type=\"text/css\">\n",
       "</style>\n",
       "<table id=\"T_ba107\">\n",
       "  <thead>\n",
       "    <tr>\n",
       "      <th class=\"blank level0\" >&nbsp;</th>\n",
       "      <th id=\"T_ba107_level0_col0\" class=\"col_heading level0 col0\" >GE15_Total</th>\n",
       "      <th id=\"T_ba107_level0_col1\" class=\"col_heading level0 col1\" >PRN_Total</th>\n",
       "      <th id=\"T_ba107_level0_col2\" class=\"col_heading level0 col2\" >Unity_Transfer</th>\n",
       "      <th id=\"T_ba107_level0_col3\" class=\"col_heading level0 col3\" >PN_Transfer</th>\n",
       "      <th id=\"T_ba107_level0_col4\" class=\"col_heading level0 col4\" >No_Turnout</th>\n",
       "    </tr>\n",
       "    <tr>\n",
       "      <th class=\"index_name level0\" >GE15_STATE</th>\n",
       "      <th class=\"blank col0\" >&nbsp;</th>\n",
       "      <th class=\"blank col1\" >&nbsp;</th>\n",
       "      <th class=\"blank col2\" >&nbsp;</th>\n",
       "      <th class=\"blank col3\" >&nbsp;</th>\n",
       "      <th class=\"blank col4\" >&nbsp;</th>\n",
       "    </tr>\n",
       "  </thead>\n",
       "  <tbody>\n",
       "    <tr>\n",
       "      <th id=\"T_ba107_level0_row0\" class=\"row_heading level0 row0\" >KEDAH</th>\n",
       "      <td id=\"T_ba107_row0_col0\" class=\"data row0 col0\" >201,407</td>\n",
       "      <td id=\"T_ba107_row0_col1\" class=\"data row0 col1\" >196,639</td>\n",
       "      <td id=\"T_ba107_row0_col2\" class=\"data row0 col2\" >1.44</td>\n",
       "      <td id=\"T_ba107_row0_col3\" class=\"data row0 col3\" >0.48</td>\n",
       "      <td id=\"T_ba107_row0_col4\" class=\"data row0 col4\" >0.08</td>\n",
       "    </tr>\n",
       "    <tr>\n",
       "      <th id=\"T_ba107_level0_row1\" class=\"row_heading level0 row1\" >KELANTAN</th>\n",
       "      <td id=\"T_ba107_row1_col0\" class=\"data row1 col0\" >154,245</td>\n",
       "      <td id=\"T_ba107_row1_col1\" class=\"data row1 col1\" >135,951</td>\n",
       "      <td id=\"T_ba107_row1_col2\" class=\"data row1 col2\" >1.54</td>\n",
       "      <td id=\"T_ba107_row1_col3\" class=\"data row1 col3\" >-0.17</td>\n",
       "      <td id=\"T_ba107_row1_col4\" class=\"data row1 col4\" >0.63</td>\n",
       "    </tr>\n",
       "    <tr>\n",
       "      <th id=\"T_ba107_level0_row2\" class=\"row_heading level0 row2\" >NEGERI SEMBILAN</th>\n",
       "      <td id=\"T_ba107_row2_col0\" class=\"data row2 col0\" >241,271</td>\n",
       "      <td id=\"T_ba107_row2_col1\" class=\"data row2 col1\" >210,060</td>\n",
       "      <td id=\"T_ba107_row2_col2\" class=\"data row2 col2\" >1.55</td>\n",
       "      <td id=\"T_ba107_row2_col3\" class=\"data row2 col3\" >0.12</td>\n",
       "      <td id=\"T_ba107_row2_col4\" class=\"data row2 col4\" >0.33</td>\n",
       "    </tr>\n",
       "    <tr>\n",
       "      <th id=\"T_ba107_level0_row3\" class=\"row_heading level0 row3\" >PULAU PINANG</th>\n",
       "      <td id=\"T_ba107_row3_col0\" class=\"data row3 col0\" >658,967</td>\n",
       "      <td id=\"T_ba107_row3_col1\" class=\"data row3 col1\" >616,668</td>\n",
       "      <td id=\"T_ba107_row3_col2\" class=\"data row3 col2\" >1.72</td>\n",
       "      <td id=\"T_ba107_row3_col3\" class=\"data row3 col3\" >0.12</td>\n",
       "      <td id=\"T_ba107_row3_col4\" class=\"data row3 col4\" >0.16</td>\n",
       "    </tr>\n",
       "    <tr>\n",
       "      <th id=\"T_ba107_level0_row4\" class=\"row_heading level0 row4\" >SELANGOR</th>\n",
       "      <td id=\"T_ba107_row4_col0\" class=\"data row4 col0\" >2,265,439</td>\n",
       "      <td id=\"T_ba107_row4_col1\" class=\"data row4 col1\" >2,071,695</td>\n",
       "      <td id=\"T_ba107_row4_col2\" class=\"data row4 col2\" >1.60</td>\n",
       "      <td id=\"T_ba107_row4_col3\" class=\"data row4 col3\" >0.17</td>\n",
       "      <td id=\"T_ba107_row4_col4\" class=\"data row4 col4\" >0.23</td>\n",
       "    </tr>\n",
       "    <tr>\n",
       "      <th id=\"T_ba107_level0_row5\" class=\"row_heading level0 row5\" >TERENGGANU</th>\n",
       "      <td id=\"T_ba107_row5_col0\" class=\"data row5 col0\" >183,408</td>\n",
       "      <td id=\"T_ba107_row5_col1\" class=\"data row5 col1\" >172,584</td>\n",
       "      <td id=\"T_ba107_row5_col2\" class=\"data row5 col2\" >1.53</td>\n",
       "      <td id=\"T_ba107_row5_col3\" class=\"data row5 col3\" >0.12</td>\n",
       "      <td id=\"T_ba107_row5_col4\" class=\"data row5 col4\" >0.34</td>\n",
       "    </tr>\n",
       "  </tbody>\n",
       "</table>\n"
      ],
      "text/plain": [
       "<pandas.io.formats.style.Styler at 0x1dbe2d43d90>"
      ]
     },
     "metadata": {},
     "output_type": "display_data"
    },
    {
     "data": {
      "application/vnd.plotly.v1+json": {
       "config": {
        "displayModeBar": false,
        "plotlyServerURL": "https://plot.ly"
       },
       "data": [
        {
         "alignmentgroup": "True",
         "hovertemplate": "Transfer=Unity_Transfer<br>State=%{x}<br>Ratio=%{y}<extra></extra>",
         "legendgroup": "Unity_Transfer",
         "marker": {
          "color": "#FF5E5E",
          "pattern": {
           "shape": ""
          }
         },
         "name": "Unity_Transfer",
         "offsetgroup": "Unity_Transfer",
         "orientation": "v",
         "showlegend": true,
         "textposition": "inside",
         "texttemplate": "%{y:.2f}",
         "type": "bar",
         "x": [
          "KEDAH",
          "KELANTAN",
          "NEGERI SEMBILAN",
          "PULAU PINANG",
          "SELANGOR",
          "TERENGGANU"
         ],
         "xaxis": "x",
         "y": [
          1.441,
          1.542,
          1.549,
          1.719,
          1.596,
          1.535
         ],
         "yaxis": "y"
        },
        {
         "alignmentgroup": "True",
         "hovertemplate": "Transfer=PN_Transfer<br>State=%{x}<br>Ratio=%{y}<extra></extra>",
         "legendgroup": "PN_Transfer",
         "marker": {
          "color": "#65D25C",
          "pattern": {
           "shape": ""
          }
         },
         "name": "PN_Transfer",
         "offsetgroup": "PN_Transfer",
         "orientation": "v",
         "showlegend": true,
         "textposition": "inside",
         "texttemplate": "%{y:.2f}",
         "type": "bar",
         "x": [
          "KEDAH",
          "KELANTAN",
          "NEGERI SEMBILAN",
          "PULAU PINANG",
          "SELANGOR",
          "TERENGGANU"
         ],
         "xaxis": "x",
         "y": [
          0.476,
          -0.168,
          0.122,
          0.125,
          0.174,
          0.125
         ],
         "yaxis": "y"
        },
        {
         "alignmentgroup": "True",
         "hovertemplate": "Transfer=No_Turnout<br>State=%{x}<br>Ratio=%{y}<extra></extra>",
         "legendgroup": "No_Turnout",
         "marker": {
          "color": "grey",
          "pattern": {
           "shape": ""
          }
         },
         "name": "No_Turnout",
         "offsetgroup": "No_Turnout",
         "orientation": "v",
         "showlegend": true,
         "textposition": "inside",
         "texttemplate": "%{y:.2f}",
         "type": "bar",
         "x": [
          "KEDAH",
          "KELANTAN",
          "NEGERI SEMBILAN",
          "PULAU PINANG",
          "SELANGOR",
          "TERENGGANU"
         ],
         "xaxis": "x",
         "y": [
          0.083,
          0.626,
          0.33,
          0.156,
          0.23,
          0.34
         ],
         "yaxis": "y"
        }
       ],
       "layout": {
        "barmode": "relative",
        "height": 750,
        "legend": {
         "orientation": "h",
         "title": {},
         "tracegroupgap": 0,
         "x": 0.5,
         "xanchor": "center",
         "y": 1.05,
         "yanchor": "top"
        },
        "margin": {
         "t": 60
        },
        "template": {
         "data": {
          "bar": [
           {
            "error_x": {
             "color": "#2a3f5f"
            },
            "error_y": {
             "color": "#2a3f5f"
            },
            "marker": {
             "line": {
              "color": "white",
              "width": 0.5
             },
             "pattern": {
              "fillmode": "overlay",
              "size": 10,
              "solidity": 0.2
             }
            },
            "type": "bar"
           }
          ],
          "barpolar": [
           {
            "marker": {
             "line": {
              "color": "white",
              "width": 0.5
             },
             "pattern": {
              "fillmode": "overlay",
              "size": 10,
              "solidity": 0.2
             }
            },
            "type": "barpolar"
           }
          ],
          "carpet": [
           {
            "aaxis": {
             "endlinecolor": "#2a3f5f",
             "gridcolor": "#C8D4E3",
             "linecolor": "#C8D4E3",
             "minorgridcolor": "#C8D4E3",
             "startlinecolor": "#2a3f5f"
            },
            "baxis": {
             "endlinecolor": "#2a3f5f",
             "gridcolor": "#C8D4E3",
             "linecolor": "#C8D4E3",
             "minorgridcolor": "#C8D4E3",
             "startlinecolor": "#2a3f5f"
            },
            "type": "carpet"
           }
          ],
          "choropleth": [
           {
            "colorbar": {
             "outlinewidth": 0,
             "ticks": ""
            },
            "type": "choropleth"
           }
          ],
          "contour": [
           {
            "colorbar": {
             "outlinewidth": 0,
             "ticks": ""
            },
            "colorscale": [
             [
              0,
              "#0d0887"
             ],
             [
              0.1111111111111111,
              "#46039f"
             ],
             [
              0.2222222222222222,
              "#7201a8"
             ],
             [
              0.3333333333333333,
              "#9c179e"
             ],
             [
              0.4444444444444444,
              "#bd3786"
             ],
             [
              0.5555555555555556,
              "#d8576b"
             ],
             [
              0.6666666666666666,
              "#ed7953"
             ],
             [
              0.7777777777777778,
              "#fb9f3a"
             ],
             [
              0.8888888888888888,
              "#fdca26"
             ],
             [
              1,
              "#f0f921"
             ]
            ],
            "type": "contour"
           }
          ],
          "contourcarpet": [
           {
            "colorbar": {
             "outlinewidth": 0,
             "ticks": ""
            },
            "type": "contourcarpet"
           }
          ],
          "heatmap": [
           {
            "colorbar": {
             "outlinewidth": 0,
             "ticks": ""
            },
            "colorscale": [
             [
              0,
              "#0d0887"
             ],
             [
              0.1111111111111111,
              "#46039f"
             ],
             [
              0.2222222222222222,
              "#7201a8"
             ],
             [
              0.3333333333333333,
              "#9c179e"
             ],
             [
              0.4444444444444444,
              "#bd3786"
             ],
             [
              0.5555555555555556,
              "#d8576b"
             ],
             [
              0.6666666666666666,
              "#ed7953"
             ],
             [
              0.7777777777777778,
              "#fb9f3a"
             ],
             [
              0.8888888888888888,
              "#fdca26"
             ],
             [
              1,
              "#f0f921"
             ]
            ],
            "type": "heatmap"
           }
          ],
          "heatmapgl": [
           {
            "colorbar": {
             "outlinewidth": 0,
             "ticks": ""
            },
            "colorscale": [
             [
              0,
              "#0d0887"
             ],
             [
              0.1111111111111111,
              "#46039f"
             ],
             [
              0.2222222222222222,
              "#7201a8"
             ],
             [
              0.3333333333333333,
              "#9c179e"
             ],
             [
              0.4444444444444444,
              "#bd3786"
             ],
             [
              0.5555555555555556,
              "#d8576b"
             ],
             [
              0.6666666666666666,
              "#ed7953"
             ],
             [
              0.7777777777777778,
              "#fb9f3a"
             ],
             [
              0.8888888888888888,
              "#fdca26"
             ],
             [
              1,
              "#f0f921"
             ]
            ],
            "type": "heatmapgl"
           }
          ],
          "histogram": [
           {
            "marker": {
             "pattern": {
              "fillmode": "overlay",
              "size": 10,
              "solidity": 0.2
             }
            },
            "type": "histogram"
           }
          ],
          "histogram2d": [
           {
            "colorbar": {
             "outlinewidth": 0,
             "ticks": ""
            },
            "colorscale": [
             [
              0,
              "#0d0887"
             ],
             [
              0.1111111111111111,
              "#46039f"
             ],
             [
              0.2222222222222222,
              "#7201a8"
             ],
             [
              0.3333333333333333,
              "#9c179e"
             ],
             [
              0.4444444444444444,
              "#bd3786"
             ],
             [
              0.5555555555555556,
              "#d8576b"
             ],
             [
              0.6666666666666666,
              "#ed7953"
             ],
             [
              0.7777777777777778,
              "#fb9f3a"
             ],
             [
              0.8888888888888888,
              "#fdca26"
             ],
             [
              1,
              "#f0f921"
             ]
            ],
            "type": "histogram2d"
           }
          ],
          "histogram2dcontour": [
           {
            "colorbar": {
             "outlinewidth": 0,
             "ticks": ""
            },
            "colorscale": [
             [
              0,
              "#0d0887"
             ],
             [
              0.1111111111111111,
              "#46039f"
             ],
             [
              0.2222222222222222,
              "#7201a8"
             ],
             [
              0.3333333333333333,
              "#9c179e"
             ],
             [
              0.4444444444444444,
              "#bd3786"
             ],
             [
              0.5555555555555556,
              "#d8576b"
             ],
             [
              0.6666666666666666,
              "#ed7953"
             ],
             [
              0.7777777777777778,
              "#fb9f3a"
             ],
             [
              0.8888888888888888,
              "#fdca26"
             ],
             [
              1,
              "#f0f921"
             ]
            ],
            "type": "histogram2dcontour"
           }
          ],
          "mesh3d": [
           {
            "colorbar": {
             "outlinewidth": 0,
             "ticks": ""
            },
            "type": "mesh3d"
           }
          ],
          "parcoords": [
           {
            "line": {
             "colorbar": {
              "outlinewidth": 0,
              "ticks": ""
             }
            },
            "type": "parcoords"
           }
          ],
          "pie": [
           {
            "automargin": true,
            "type": "pie"
           }
          ],
          "scatter": [
           {
            "fillpattern": {
             "fillmode": "overlay",
             "size": 10,
             "solidity": 0.2
            },
            "type": "scatter"
           }
          ],
          "scatter3d": [
           {
            "line": {
             "colorbar": {
              "outlinewidth": 0,
              "ticks": ""
             }
            },
            "marker": {
             "colorbar": {
              "outlinewidth": 0,
              "ticks": ""
             }
            },
            "type": "scatter3d"
           }
          ],
          "scattercarpet": [
           {
            "marker": {
             "colorbar": {
              "outlinewidth": 0,
              "ticks": ""
             }
            },
            "type": "scattercarpet"
           }
          ],
          "scattergeo": [
           {
            "marker": {
             "colorbar": {
              "outlinewidth": 0,
              "ticks": ""
             }
            },
            "type": "scattergeo"
           }
          ],
          "scattergl": [
           {
            "marker": {
             "colorbar": {
              "outlinewidth": 0,
              "ticks": ""
             }
            },
            "type": "scattergl"
           }
          ],
          "scattermapbox": [
           {
            "marker": {
             "colorbar": {
              "outlinewidth": 0,
              "ticks": ""
             }
            },
            "type": "scattermapbox"
           }
          ],
          "scatterpolar": [
           {
            "marker": {
             "colorbar": {
              "outlinewidth": 0,
              "ticks": ""
             }
            },
            "type": "scatterpolar"
           }
          ],
          "scatterpolargl": [
           {
            "marker": {
             "colorbar": {
              "outlinewidth": 0,
              "ticks": ""
             }
            },
            "type": "scatterpolargl"
           }
          ],
          "scatterternary": [
           {
            "marker": {
             "colorbar": {
              "outlinewidth": 0,
              "ticks": ""
             }
            },
            "type": "scatterternary"
           }
          ],
          "surface": [
           {
            "colorbar": {
             "outlinewidth": 0,
             "ticks": ""
            },
            "colorscale": [
             [
              0,
              "#0d0887"
             ],
             [
              0.1111111111111111,
              "#46039f"
             ],
             [
              0.2222222222222222,
              "#7201a8"
             ],
             [
              0.3333333333333333,
              "#9c179e"
             ],
             [
              0.4444444444444444,
              "#bd3786"
             ],
             [
              0.5555555555555556,
              "#d8576b"
             ],
             [
              0.6666666666666666,
              "#ed7953"
             ],
             [
              0.7777777777777778,
              "#fb9f3a"
             ],
             [
              0.8888888888888888,
              "#fdca26"
             ],
             [
              1,
              "#f0f921"
             ]
            ],
            "type": "surface"
           }
          ],
          "table": [
           {
            "cells": {
             "fill": {
              "color": "#EBF0F8"
             },
             "line": {
              "color": "white"
             }
            },
            "header": {
             "fill": {
              "color": "#C8D4E3"
             },
             "line": {
              "color": "white"
             }
            },
            "type": "table"
           }
          ]
         },
         "layout": {
          "annotationdefaults": {
           "arrowcolor": "#2a3f5f",
           "arrowhead": 0,
           "arrowwidth": 1
          },
          "autotypenumbers": "strict",
          "coloraxis": {
           "colorbar": {
            "outlinewidth": 0,
            "ticks": ""
           }
          },
          "colorscale": {
           "diverging": [
            [
             0,
             "#8e0152"
            ],
            [
             0.1,
             "#c51b7d"
            ],
            [
             0.2,
             "#de77ae"
            ],
            [
             0.3,
             "#f1b6da"
            ],
            [
             0.4,
             "#fde0ef"
            ],
            [
             0.5,
             "#f7f7f7"
            ],
            [
             0.6,
             "#e6f5d0"
            ],
            [
             0.7,
             "#b8e186"
            ],
            [
             0.8,
             "#7fbc41"
            ],
            [
             0.9,
             "#4d9221"
            ],
            [
             1,
             "#276419"
            ]
           ],
           "sequential": [
            [
             0,
             "#0d0887"
            ],
            [
             0.1111111111111111,
             "#46039f"
            ],
            [
             0.2222222222222222,
             "#7201a8"
            ],
            [
             0.3333333333333333,
             "#9c179e"
            ],
            [
             0.4444444444444444,
             "#bd3786"
            ],
            [
             0.5555555555555556,
             "#d8576b"
            ],
            [
             0.6666666666666666,
             "#ed7953"
            ],
            [
             0.7777777777777778,
             "#fb9f3a"
            ],
            [
             0.8888888888888888,
             "#fdca26"
            ],
            [
             1,
             "#f0f921"
            ]
           ],
           "sequentialminus": [
            [
             0,
             "#0d0887"
            ],
            [
             0.1111111111111111,
             "#46039f"
            ],
            [
             0.2222222222222222,
             "#7201a8"
            ],
            [
             0.3333333333333333,
             "#9c179e"
            ],
            [
             0.4444444444444444,
             "#bd3786"
            ],
            [
             0.5555555555555556,
             "#d8576b"
            ],
            [
             0.6666666666666666,
             "#ed7953"
            ],
            [
             0.7777777777777778,
             "#fb9f3a"
            ],
            [
             0.8888888888888888,
             "#fdca26"
            ],
            [
             1,
             "#f0f921"
            ]
           ]
          },
          "colorway": [
           "#636efa",
           "#EF553B",
           "#00cc96",
           "#ab63fa",
           "#FFA15A",
           "#19d3f3",
           "#FF6692",
           "#B6E880",
           "#FF97FF",
           "#FECB52"
          ],
          "font": {
           "color": "#2a3f5f"
          },
          "geo": {
           "bgcolor": "white",
           "lakecolor": "white",
           "landcolor": "white",
           "showlakes": true,
           "showland": true,
           "subunitcolor": "#C8D4E3"
          },
          "hoverlabel": {
           "align": "left"
          },
          "hovermode": "closest",
          "mapbox": {
           "style": "light"
          },
          "paper_bgcolor": "white",
          "plot_bgcolor": "white",
          "polar": {
           "angularaxis": {
            "gridcolor": "#EBF0F8",
            "linecolor": "#EBF0F8",
            "ticks": ""
           },
           "bgcolor": "white",
           "radialaxis": {
            "gridcolor": "#EBF0F8",
            "linecolor": "#EBF0F8",
            "ticks": ""
           }
          },
          "scene": {
           "xaxis": {
            "backgroundcolor": "white",
            "gridcolor": "#DFE8F3",
            "gridwidth": 2,
            "linecolor": "#EBF0F8",
            "showbackground": true,
            "ticks": "",
            "zerolinecolor": "#EBF0F8"
           },
           "yaxis": {
            "backgroundcolor": "white",
            "gridcolor": "#DFE8F3",
            "gridwidth": 2,
            "linecolor": "#EBF0F8",
            "showbackground": true,
            "ticks": "",
            "zerolinecolor": "#EBF0F8"
           },
           "zaxis": {
            "backgroundcolor": "white",
            "gridcolor": "#DFE8F3",
            "gridwidth": 2,
            "linecolor": "#EBF0F8",
            "showbackground": true,
            "ticks": "",
            "zerolinecolor": "#EBF0F8"
           }
          },
          "shapedefaults": {
           "line": {
            "color": "#2a3f5f"
           }
          },
          "ternary": {
           "aaxis": {
            "gridcolor": "#DFE8F3",
            "linecolor": "#A2B1C6",
            "ticks": ""
           },
           "baxis": {
            "gridcolor": "#DFE8F3",
            "linecolor": "#A2B1C6",
            "ticks": ""
           },
           "bgcolor": "white",
           "caxis": {
            "gridcolor": "#DFE8F3",
            "linecolor": "#A2B1C6",
            "ticks": ""
           }
          },
          "title": {
           "x": 0.05
          },
          "xaxis": {
           "automargin": true,
           "gridcolor": "#EBF0F8",
           "linecolor": "#EBF0F8",
           "ticks": "",
           "title": {
            "standoff": 15
           },
           "zerolinecolor": "#EBF0F8",
           "zerolinewidth": 2
          },
          "yaxis": {
           "automargin": true,
           "gridcolor": "#EBF0F8",
           "linecolor": "#EBF0F8",
           "ticks": "",
           "title": {
            "standoff": 15
           },
           "zerolinecolor": "#EBF0F8",
           "zerolinewidth": 2
          }
         }
        },
        "title": {
         "text": "Vote Transferability (URBAN)"
        },
        "width": 1450,
        "xaxis": {
         "anchor": "y",
         "autorange": true,
         "categoryarray": [
          "SELANGOR",
          "NEGERI SEMBILAN",
          "PULAU PINANG",
          "KEDAH",
          "KELANTAN",
          "TERENGGANU"
         ],
         "categoryorder": "array",
         "domain": [
          0,
          1
         ],
         "range": [
          -0.5,
          5.5
         ],
         "title": {
          "text": "State"
         },
         "type": "category"
        },
        "yaxis": {
         "anchor": "x",
         "autorange": true,
         "domain": [
          0,
          1
         ],
         "range": [
          -0.2977777777777778,
          2.297777777777778
         ],
         "title": {
          "text": "Ratio"
         },
         "type": "linear"
        }
       }
      },
      "image/png": "[encoded data removed]",
      "text/html": [
       "<div>                            <div id=\"2ffe1fc5-6a64-421d-bc81-87b58f14994e\" class=\"plotly-graph-div\" style=\"height:750px; width:1450px;\"></div>            <script type=\"text/javascript\">                require([\"plotly\"], function(Plotly) {                    window.PLOTLYENV=window.PLOTLYENV || {};                                    if (document.getElementById(\"2ffe1fc5-6a64-421d-bc81-87b58f14994e\")) {                    Plotly.newPlot(                        \"2ffe1fc5-6a64-421d-bc81-87b58f14994e\",                        [{\"alignmentgroup\":\"True\",\"hovertemplate\":\"Transfer=Unity_Transfer<br>State=%{x}<br>Ratio=%{y}<extra></extra>\",\"legendgroup\":\"Unity_Transfer\",\"marker\":{\"color\":\"#FF5E5E\",\"pattern\":{\"shape\":\"\"}},\"name\":\"Unity_Transfer\",\"offsetgroup\":\"Unity_Transfer\",\"orientation\":\"v\",\"showlegend\":true,\"textposition\":\"inside\",\"x\":[\"KEDAH\",\"KELANTAN\",\"NEGERI SEMBILAN\",\"PULAU PINANG\",\"SELANGOR\",\"TERENGGANU\"],\"xaxis\":\"x\",\"y\":[1.441,1.542,1.549,1.719,1.596,1.535],\"yaxis\":\"y\",\"type\":\"bar\",\"texttemplate\":\"%{y:.2f}\"},{\"alignmentgroup\":\"True\",\"hovertemplate\":\"Transfer=PN_Transfer<br>State=%{x}<br>Ratio=%{y}<extra></extra>\",\"legendgroup\":\"PN_Transfer\",\"marker\":{\"color\":\"#65D25C\",\"pattern\":{\"shape\":\"\"}},\"name\":\"PN_Transfer\",\"offsetgroup\":\"PN_Transfer\",\"orientation\":\"v\",\"showlegend\":true,\"textposition\":\"inside\",\"x\":[\"KEDAH\",\"KELANTAN\",\"NEGERI SEMBILAN\",\"PULAU PINANG\",\"SELANGOR\",\"TERENGGANU\"],\"xaxis\":\"x\",\"y\":[0.476,-0.168,0.122,0.125,0.174,0.125],\"yaxis\":\"y\",\"type\":\"bar\",\"texttemplate\":\"%{y:.2f}\"},{\"alignmentgroup\":\"True\",\"hovertemplate\":\"Transfer=No_Turnout<br>State=%{x}<br>Ratio=%{y}<extra></extra>\",\"legendgroup\":\"No_Turnout\",\"marker\":{\"color\":\"grey\",\"pattern\":{\"shape\":\"\"}},\"name\":\"No_Turnout\",\"offsetgroup\":\"No_Turnout\",\"orientation\":\"v\",\"showlegend\":true,\"textposition\":\"inside\",\"x\":[\"KEDAH\",\"KELANTAN\",\"NEGERI SEMBILAN\",\"PULAU PINANG\",\"SELANGOR\",\"TERENGGANU\"],\"xaxis\":\"x\",\"y\":[0.083,0.626,0.33,0.156,0.23,0.34],\"yaxis\":\"y\",\"type\":\"bar\",\"texttemplate\":\"%{y:.2f}\"}],                        {\"template\":{\"data\":{\"barpolar\":[{\"marker\":{\"line\":{\"color\":\"white\",\"width\":0.5},\"pattern\":{\"fillmode\":\"overlay\",\"size\":10,\"solidity\":0.2}},\"type\":\"barpolar\"}],\"bar\":[{\"error_x\":{\"color\":\"#2a3f5f\"},\"error_y\":{\"color\":\"#2a3f5f\"},\"marker\":{\"line\":{\"color\":\"white\",\"width\":0.5},\"pattern\":{\"fillmode\":\"overlay\",\"size\":10,\"solidity\":0.2}},\"type\":\"bar\"}],\"carpet\":[{\"aaxis\":{\"endlinecolor\":\"#2a3f5f\",\"gridcolor\":\"#C8D4E3\",\"linecolor\":\"#C8D4E3\",\"minorgridcolor\":\"#C8D4E3\",\"startlinecolor\":\"#2a3f5f\"},\"baxis\":{\"endlinecolor\":\"#2a3f5f\",\"gridcolor\":\"#C8D4E3\",\"linecolor\":\"#C8D4E3\",\"minorgridcolor\":\"#C8D4E3\",\"startlinecolor\":\"#2a3f5f\"},\"type\":\"carpet\"}],\"choropleth\":[{\"colorbar\":{\"outlinewidth\":0,\"ticks\":\"\"},\"type\":\"choropleth\"}],\"contourcarpet\":[{\"colorbar\":{\"outlinewidth\":0,\"ticks\":\"\"},\"type\":\"contourcarpet\"}],\"contour\":[{\"colorbar\":{\"outlinewidth\":0,\"ticks\":\"\"},\"colorscale\":[[0.0,\"#0d0887\"],[0.1111111111111111,\"#46039f\"],[0.2222222222222222,\"#7201a8\"],[0.3333333333333333,\"#9c179e\"],[0.4444444444444444,\"#bd3786\"],[0.5555555555555556,\"#d8576b\"],[0.6666666666666666,\"#ed7953\"],[0.7777777777777778,\"#fb9f3a\"],[0.8888888888888888,\"#fdca26\"],[1.0,\"#f0f921\"]],\"type\":\"contour\"}],\"heatmapgl\":[{\"colorbar\":{\"outlinewidth\":0,\"ticks\":\"\"},\"colorscale\":[[0.0,\"#0d0887\"],[0.1111111111111111,\"#46039f\"],[0.2222222222222222,\"#7201a8\"],[0.3333333333333333,\"#9c179e\"],[0.4444444444444444,\"#bd3786\"],[0.5555555555555556,\"#d8576b\"],[0.6666666666666666,\"#ed7953\"],[0.7777777777777778,\"#fb9f3a\"],[0.8888888888888888,\"#fdca26\"],[1.0,\"#f0f921\"]],\"type\":\"heatmapgl\"}],\"heatmap\":[{\"colorbar\":{\"outlinewidth\":0,\"ticks\":\"\"},\"colorscale\":[[0.0,\"#0d0887\"],[0.1111111111111111,\"#46039f\"],[0.2222222222222222,\"#7201a8\"],[0.3333333333333333,\"#9c179e\"],[0.4444444444444444,\"#bd3786\"],[0.5555555555555556,\"#d8576b\"],[0.6666666666666666,\"#ed7953\"],[0.7777777777777778,\"#fb9f3a\"],[0.8888888888888888,\"#fdca26\"],[1.0,\"#f0f921\"]],\"type\":\"heatmap\"}],\"histogram2dcontour\":[{\"colorbar\":{\"outlinewidth\":0,\"ticks\":\"\"},\"colorscale\":[[0.0,\"#0d0887\"],[0.1111111111111111,\"#46039f\"],[0.2222222222222222,\"#7201a8\"],[0.3333333333333333,\"#9c179e\"],[0.4444444444444444,\"#bd3786\"],[0.5555555555555556,\"#d8576b\"],[0.6666666666666666,\"#ed7953\"],[0.7777777777777778,\"#fb9f3a\"],[0.8888888888888888,\"#fdca26\"],[1.0,\"#f0f921\"]],\"type\":\"histogram2dcontour\"}],\"histogram2d\":[{\"colorbar\":{\"outlinewidth\":0,\"ticks\":\"\"},\"colorscale\":[[0.0,\"#0d0887\"],[0.1111111111111111,\"#46039f\"],[0.2222222222222222,\"#7201a8\"],[0.3333333333333333,\"#9c179e\"],[0.4444444444444444,\"#bd3786\"],[0.5555555555555556,\"#d8576b\"],[0.6666666666666666,\"#ed7953\"],[0.7777777777777778,\"#fb9f3a\"],[0.8888888888888888,\"#fdca26\"],[1.0,\"#f0f921\"]],\"type\":\"histogram2d\"}],\"histogram\":[{\"marker\":{\"pattern\":{\"fillmode\":\"overlay\",\"size\":10,\"solidity\":0.2}},\"type\":\"histogram\"}],\"mesh3d\":[{\"colorbar\":{\"outlinewidth\":0,\"ticks\":\"\"},\"type\":\"mesh3d\"}],\"parcoords\":[{\"line\":{\"colorbar\":{\"outlinewidth\":0,\"ticks\":\"\"}},\"type\":\"parcoords\"}],\"pie\":[{\"automargin\":true,\"type\":\"pie\"}],\"scatter3d\":[{\"line\":{\"colorbar\":{\"outlinewidth\":0,\"ticks\":\"\"}},\"marker\":{\"colorbar\":{\"outlinewidth\":0,\"ticks\":\"\"}},\"type\":\"scatter3d\"}],\"scattercarpet\":[{\"marker\":{\"colorbar\":{\"outlinewidth\":0,\"ticks\":\"\"}},\"type\":\"scattercarpet\"}],\"scattergeo\":[{\"marker\":{\"colorbar\":{\"outlinewidth\":0,\"ticks\":\"\"}},\"type\":\"scattergeo\"}],\"scattergl\":[{\"marker\":{\"colorbar\":{\"outlinewidth\":0,\"ticks\":\"\"}},\"type\":\"scattergl\"}],\"scattermapbox\":[{\"marker\":{\"colorbar\":{\"outlinewidth\":0,\"ticks\":\"\"}},\"type\":\"scattermapbox\"}],\"scatterpolargl\":[{\"marker\":{\"colorbar\":{\"outlinewidth\":0,\"ticks\":\"\"}},\"type\":\"scatterpolargl\"}],\"scatterpolar\":[{\"marker\":{\"colorbar\":{\"outlinewidth\":0,\"ticks\":\"\"}},\"type\":\"scatterpolar\"}],\"scatter\":[{\"fillpattern\":{\"fillmode\":\"overlay\",\"size\":10,\"solidity\":0.2},\"type\":\"scatter\"}],\"scatterternary\":[{\"marker\":{\"colorbar\":{\"outlinewidth\":0,\"ticks\":\"\"}},\"type\":\"scatterternary\"}],\"surface\":[{\"colorbar\":{\"outlinewidth\":0,\"ticks\":\"\"},\"colorscale\":[[0.0,\"#0d0887\"],[0.1111111111111111,\"#46039f\"],[0.2222222222222222,\"#7201a8\"],[0.3333333333333333,\"#9c179e\"],[0.4444444444444444,\"#bd3786\"],[0.5555555555555556,\"#d8576b\"],[0.6666666666666666,\"#ed7953\"],[0.7777777777777778,\"#fb9f3a\"],[0.8888888888888888,\"#fdca26\"],[1.0,\"#f0f921\"]],\"type\":\"surface\"}],\"table\":[{\"cells\":{\"fill\":{\"color\":\"#EBF0F8\"},\"line\":{\"color\":\"white\"}},\"header\":{\"fill\":{\"color\":\"#C8D4E3\"},\"line\":{\"color\":\"white\"}},\"type\":\"table\"}]},\"layout\":{\"annotationdefaults\":{\"arrowcolor\":\"#2a3f5f\",\"arrowhead\":0,\"arrowwidth\":1},\"autotypenumbers\":\"strict\",\"coloraxis\":{\"colorbar\":{\"outlinewidth\":0,\"ticks\":\"\"}},\"colorscale\":{\"diverging\":[[0,\"#8e0152\"],[0.1,\"#c51b7d\"],[0.2,\"#de77ae\"],[0.3,\"#f1b6da\"],[0.4,\"#fde0ef\"],[0.5,\"#f7f7f7\"],[0.6,\"#e6f5d0\"],[0.7,\"#b8e186\"],[0.8,\"#7fbc41\"],[0.9,\"#4d9221\"],[1,\"#276419\"]],\"sequential\":[[0.0,\"#0d0887\"],[0.1111111111111111,\"#46039f\"],[0.2222222222222222,\"#7201a8\"],[0.3333333333333333,\"#9c179e\"],[0.4444444444444444,\"#bd3786\"],[0.5555555555555556,\"#d8576b\"],[0.6666666666666666,\"#ed7953\"],[0.7777777777777778,\"#fb9f3a\"],[0.8888888888888888,\"#fdca26\"],[1.0,\"#f0f921\"]],\"sequentialminus\":[[0.0,\"#0d0887\"],[0.1111111111111111,\"#46039f\"],[0.2222222222222222,\"#7201a8\"],[0.3333333333333333,\"#9c179e\"],[0.4444444444444444,\"#bd3786\"],[0.5555555555555556,\"#d8576b\"],[0.6666666666666666,\"#ed7953\"],[0.7777777777777778,\"#fb9f3a\"],[0.8888888888888888,\"#fdca26\"],[1.0,\"#f0f921\"]]},\"colorway\":[\"#636efa\",\"#EF553B\",\"#00cc96\",\"#ab63fa\",\"#FFA15A\",\"#19d3f3\",\"#FF6692\",\"#B6E880\",\"#FF97FF\",\"#FECB52\"],\"font\":{\"color\":\"#2a3f5f\"},\"geo\":{\"bgcolor\":\"white\",\"lakecolor\":\"white\",\"landcolor\":\"white\",\"showlakes\":true,\"showland\":true,\"subunitcolor\":\"#C8D4E3\"},\"hoverlabel\":{\"align\":\"left\"},\"hovermode\":\"closest\",\"mapbox\":{\"style\":\"light\"},\"paper_bgcolor\":\"white\",\"plot_bgcolor\":\"white\",\"polar\":{\"angularaxis\":{\"gridcolor\":\"#EBF0F8\",\"linecolor\":\"#EBF0F8\",\"ticks\":\"\"},\"bgcolor\":\"white\",\"radialaxis\":{\"gridcolor\":\"#EBF0F8\",\"linecolor\":\"#EBF0F8\",\"ticks\":\"\"}},\"scene\":{\"xaxis\":{\"backgroundcolor\":\"white\",\"gridcolor\":\"#DFE8F3\",\"gridwidth\":2,\"linecolor\":\"#EBF0F8\",\"showbackground\":true,\"ticks\":\"\",\"zerolinecolor\":\"#EBF0F8\"},\"yaxis\":{\"backgroundcolor\":\"white\",\"gridcolor\":\"#DFE8F3\",\"gridwidth\":2,\"linecolor\":\"#EBF0F8\",\"showbackground\":true,\"ticks\":\"\",\"zerolinecolor\":\"#EBF0F8\"},\"zaxis\":{\"backgroundcolor\":\"white\",\"gridcolor\":\"#DFE8F3\",\"gridwidth\":2,\"linecolor\":\"#EBF0F8\",\"showbackground\":true,\"ticks\":\"\",\"zerolinecolor\":\"#EBF0F8\"}},\"shapedefaults\":{\"line\":{\"color\":\"#2a3f5f\"}},\"ternary\":{\"aaxis\":{\"gridcolor\":\"#DFE8F3\",\"linecolor\":\"#A2B1C6\",\"ticks\":\"\"},\"baxis\":{\"gridcolor\":\"#DFE8F3\",\"linecolor\":\"#A2B1C6\",\"ticks\":\"\"},\"bgcolor\":\"white\",\"caxis\":{\"gridcolor\":\"#DFE8F3\",\"linecolor\":\"#A2B1C6\",\"ticks\":\"\"}},\"title\":{\"x\":0.05},\"xaxis\":{\"automargin\":true,\"gridcolor\":\"#EBF0F8\",\"linecolor\":\"#EBF0F8\",\"ticks\":\"\",\"title\":{\"standoff\":15},\"zerolinecolor\":\"#EBF0F8\",\"zerolinewidth\":2},\"yaxis\":{\"automargin\":true,\"gridcolor\":\"#EBF0F8\",\"linecolor\":\"#EBF0F8\",\"ticks\":\"\",\"title\":{\"standoff\":15},\"zerolinecolor\":\"#EBF0F8\",\"zerolinewidth\":2}}},\"xaxis\":{\"anchor\":\"y\",\"domain\":[0.0,1.0],\"title\":{\"text\":\"State\"},\"categoryorder\":\"array\",\"categoryarray\":[\"SELANGOR\",\"NEGERI SEMBILAN\",\"PULAU PINANG\",\"KEDAH\",\"KELANTAN\",\"TERENGGANU\"]},\"yaxis\":{\"anchor\":\"x\",\"domain\":[0.0,1.0],\"title\":{\"text\":\"Ratio\"}},\"legend\":{\"title\":{},\"tracegroupgap\":0,\"orientation\":\"h\",\"yanchor\":\"top\",\"y\":1.05,\"xanchor\":\"center\",\"x\":0.5},\"margin\":{\"t\":60},\"barmode\":\"relative\",\"title\":{\"text\":\"Vote Transferability (URBAN)\"},\"height\":750,\"width\":1450},                        {\"displayModeBar\": false, \"responsive\": true}                    ).then(function(){\n",
       "                            \n",
       "var gd = document.getElementById('2ffe1fc5-6a64-421d-bc81-87b58f14994e');\n",
       "var x = new MutationObserver(function (mutations, observer) {{\n",
       "        var display = window.getComputedStyle(gd).display;\n",
       "        if (!display || display === 'none') {{\n",
       "            console.log([gd, 'removed!']);\n",
       "            Plotly.purge(gd);\n",
       "            observer.disconnect();\n",
       "        }}\n",
       "}});\n",
       "\n",
       "// Listen for the removal of the full notebook cells\n",
       "var notebookContainer = gd.closest('#notebook-container');\n",
       "if (notebookContainer) {{\n",
       "    x.observe(notebookContainer, {childList: true});\n",
       "}}\n",
       "\n",
       "// Listen for the clearing of the current output cell\n",
       "var outputEl = gd.closest('.output');\n",
       "if (outputEl) {{\n",
       "    x.observe(outputEl, {childList: true});\n",
       "}}\n",
       "\n",
       "                        })                };                });            </script>        </div>"
      ]
     },
     "metadata": {},
     "output_type": "display_data"
    }
   ],
   "source": [
    "rc = 'URBAN'\n",
    "grp_df3 = compute_transfer(xdf.query(f'Classification==\"{rc}\"'), groupby=['GE15_STATE'])\n",
    "\n",
    "display(grp_df3.style.format(\"{:,}\", ['GE15_Total', 'PRN_Total']).format(\"{:.2f}\", ['Unity_Transfer', 'PN_Transfer', 'No_Turnout']))\n",
    "long_df = grp_df3[['Unity_Transfer', 'PN_Transfer', 'No_Turnout']].reset_index().melt(id_vars='GE15_STATE')\n",
    "long_df.columns = ['State', 'Transfer', 'Ratio']\n",
    "\n",
    "color_mapping = {\n",
    "    'Unity_Transfer': '#FF5E5E',  # Darker pastel red\n",
    "    'PN_Transfer': '#65D25C',     # Darker pastel green\n",
    "    'No_Turnout': 'grey'\n",
    "}\n",
    "# Create a stacked bar plot using Plotly\n",
    "fig = px.bar(long_df, x='State', y='Ratio', color='Transfer', barmode='relative', color_discrete_map=color_mapping)\n",
    "fig.update_traces(texttemplate='%{y:.2f}', textposition='inside',)\n",
    "\n",
    "custom_order = ['SELANGOR', 'NEGERI SEMBILAN', 'PULAU PINANG', 'KEDAH', 'KELANTAN', 'TERENGGANU']\n",
    "fig.update_layout(title=f'Vote Transferability ({rc})',\n",
    "    xaxis_title='State',\n",
    "    yaxis_title='Ratio',\n",
    "    height=750, width=1450,template='plotly_white', xaxis=dict(categoryorder='array', categoryarray=custom_order),\n",
    "                      legend=dict(title=None,orientation='h', yanchor='top', y=1.05, xanchor='center', x=0.5)  # Centered legend at the top\n",
    "                 \n",
    "                 )\n",
    "fig.show(config={'displayModeBar': False} )\n",
    "          "
   ]
  },
  {
   "cell_type": "code",
   "execution_count": 320,
   "id": "66337b28-eacc-452b-836e-4d594f5fcbb5",
   "metadata": {
    "tags": []
   },
   "outputs": [
    {
     "data": {
      "text/html": [
       "<style type=\"text/css\">\n",
       "</style>\n",
       "<table id=\"T_70d3e\">\n",
       "  <thead>\n",
       "    <tr>\n",
       "      <th class=\"blank\" >&nbsp;</th>\n",
       "      <th class=\"blank level0\" >&nbsp;</th>\n",
       "      <th id=\"T_70d3e_level0_col0\" class=\"col_heading level0 col0\" >GE15_Total</th>\n",
       "      <th id=\"T_70d3e_level0_col1\" class=\"col_heading level0 col1\" >PRN_Total</th>\n",
       "      <th id=\"T_70d3e_level0_col2\" class=\"col_heading level0 col2\" >Unity_Transfer</th>\n",
       "      <th id=\"T_70d3e_level0_col3\" class=\"col_heading level0 col3\" >PN_Transfer</th>\n",
       "      <th id=\"T_70d3e_level0_col4\" class=\"col_heading level0 col4\" >No_Turnout</th>\n",
       "    </tr>\n",
       "    <tr>\n",
       "      <th class=\"index_name level0\" >Classification</th>\n",
       "      <th class=\"index_name level1\" >GE15_STATE</th>\n",
       "      <th class=\"blank col0\" >&nbsp;</th>\n",
       "      <th class=\"blank col1\" >&nbsp;</th>\n",
       "      <th class=\"blank col2\" >&nbsp;</th>\n",
       "      <th class=\"blank col3\" >&nbsp;</th>\n",
       "      <th class=\"blank col4\" >&nbsp;</th>\n",
       "    </tr>\n",
       "  </thead>\n",
       "  <tbody>\n",
       "    <tr>\n",
       "      <th id=\"T_70d3e_level0_row0\" class=\"row_heading level0 row0\" rowspan=\"5\">RURAL</th>\n",
       "      <th id=\"T_70d3e_level1_row0\" class=\"row_heading level1 row0\" >KEDAH</th>\n",
       "      <td id=\"T_70d3e_row0_col0\" class=\"data row0 col0\" >331,671</td>\n",
       "      <td id=\"T_70d3e_row0_col1\" class=\"data row0 col1\" >320,330</td>\n",
       "      <td id=\"T_70d3e_row0_col2\" class=\"data row0 col2\" >1.17</td>\n",
       "      <td id=\"T_70d3e_row0_col3\" class=\"data row0 col3\" >0.65</td>\n",
       "      <td id=\"T_70d3e_row0_col4\" class=\"data row0 col4\" >0.18</td>\n",
       "    </tr>\n",
       "    <tr>\n",
       "      <th id=\"T_70d3e_level1_row1\" class=\"row_heading level1 row1\" >KELANTAN</th>\n",
       "      <td id=\"T_70d3e_row1_col0\" class=\"data row1 col0\" >155,266</td>\n",
       "      <td id=\"T_70d3e_row1_col1\" class=\"data row1 col1\" >133,351</td>\n",
       "      <td id=\"T_70d3e_row1_col2\" class=\"data row1 col2\" >1.52</td>\n",
       "      <td id=\"T_70d3e_row1_col3\" class=\"data row1 col3\" >-0.21</td>\n",
       "      <td id=\"T_70d3e_row1_col4\" class=\"data row1 col4\" >0.69</td>\n",
       "    </tr>\n",
       "    <tr>\n",
       "      <th id=\"T_70d3e_level1_row2\" class=\"row_heading level1 row2\" >NEGERI SEMBILAN</th>\n",
       "      <td id=\"T_70d3e_row2_col0\" class=\"data row2 col0\" >93,004</td>\n",
       "      <td id=\"T_70d3e_row2_col1\" class=\"data row2 col1\" >82,578</td>\n",
       "      <td id=\"T_70d3e_row2_col2\" class=\"data row2 col2\" >1.29</td>\n",
       "      <td id=\"T_70d3e_row2_col3\" class=\"data row2 col3\" >0.42</td>\n",
       "      <td id=\"T_70d3e_row2_col4\" class=\"data row2 col4\" >0.29</td>\n",
       "    </tr>\n",
       "    <tr>\n",
       "      <th id=\"T_70d3e_level1_row3\" class=\"row_heading level1 row3\" >SELANGOR</th>\n",
       "      <td id=\"T_70d3e_row3_col0\" class=\"data row3 col0\" >86,759</td>\n",
       "      <td id=\"T_70d3e_row3_col1\" class=\"data row3 col1\" >85,565</td>\n",
       "      <td id=\"T_70d3e_row3_col2\" class=\"data row3 col2\" >1.45</td>\n",
       "      <td id=\"T_70d3e_row3_col3\" class=\"data row3 col3\" >0.50</td>\n",
       "      <td id=\"T_70d3e_row3_col4\" class=\"data row3 col4\" >0.05</td>\n",
       "    </tr>\n",
       "    <tr>\n",
       "      <th id=\"T_70d3e_level1_row4\" class=\"row_heading level1 row4\" >TERENGGANU</th>\n",
       "      <td id=\"T_70d3e_row4_col0\" class=\"data row4 col0\" >156,455</td>\n",
       "      <td id=\"T_70d3e_row4_col1\" class=\"data row4 col1\" >147,025</td>\n",
       "      <td id=\"T_70d3e_row4_col2\" class=\"data row4 col2\" >1.63</td>\n",
       "      <td id=\"T_70d3e_row4_col3\" class=\"data row4 col3\" >0.07</td>\n",
       "      <td id=\"T_70d3e_row4_col4\" class=\"data row4 col4\" >0.30</td>\n",
       "    </tr>\n",
       "    <tr>\n",
       "      <th id=\"T_70d3e_level0_row5\" class=\"row_heading level0 row5\" rowspan=\"6\">SEMI URBAN</th>\n",
       "      <th id=\"T_70d3e_level1_row5\" class=\"row_heading level1 row5\" >KEDAH</th>\n",
       "      <td id=\"T_70d3e_row5_col0\" class=\"data row5 col0\" >648,518</td>\n",
       "      <td id=\"T_70d3e_row5_col1\" class=\"data row5 col1\" >627,633</td>\n",
       "      <td id=\"T_70d3e_row5_col2\" class=\"data row5 col2\" >1.40</td>\n",
       "      <td id=\"T_70d3e_row5_col3\" class=\"data row5 col3\" >0.45</td>\n",
       "      <td id=\"T_70d3e_row5_col4\" class=\"data row5 col4\" >0.15</td>\n",
       "    </tr>\n",
       "    <tr>\n",
       "      <th id=\"T_70d3e_level1_row6\" class=\"row_heading level1 row6\" >KELANTAN</th>\n",
       "      <td id=\"T_70d3e_row6_col0\" class=\"data row6 col0\" >675,491</td>\n",
       "      <td id=\"T_70d3e_row6_col1\" class=\"data row6 col1\" >574,421</td>\n",
       "      <td id=\"T_70d3e_row6_col2\" class=\"data row6 col2\" >1.44</td>\n",
       "      <td id=\"T_70d3e_row6_col3\" class=\"data row6 col3\" >-0.32</td>\n",
       "      <td id=\"T_70d3e_row6_col4\" class=\"data row6 col4\" >0.87</td>\n",
       "    </tr>\n",
       "    <tr>\n",
       "      <th id=\"T_70d3e_level1_row7\" class=\"row_heading level1 row7\" >NEGERI SEMBILAN</th>\n",
       "      <td id=\"T_70d3e_row7_col0\" class=\"data row7 col0\" >318,517</td>\n",
       "      <td id=\"T_70d3e_row7_col1\" class=\"data row7 col1\" >281,393</td>\n",
       "      <td id=\"T_70d3e_row7_col2\" class=\"data row7 col2\" >1.31</td>\n",
       "      <td id=\"T_70d3e_row7_col3\" class=\"data row7 col3\" >0.39</td>\n",
       "      <td id=\"T_70d3e_row7_col4\" class=\"data row7 col4\" >0.30</td>\n",
       "    </tr>\n",
       "    <tr>\n",
       "      <th id=\"T_70d3e_level1_row8\" class=\"row_heading level1 row8\" >PULAU PINANG</th>\n",
       "      <td id=\"T_70d3e_row8_col0\" class=\"data row8 col0\" >262,635</td>\n",
       "      <td id=\"T_70d3e_row8_col1\" class=\"data row8 col1\" >260,133</td>\n",
       "      <td id=\"T_70d3e_row8_col2\" class=\"data row8 col2\" >1.57</td>\n",
       "      <td id=\"T_70d3e_row8_col3\" class=\"data row8 col3\" >0.40</td>\n",
       "      <td id=\"T_70d3e_row8_col4\" class=\"data row8 col4\" >0.03</td>\n",
       "    </tr>\n",
       "    <tr>\n",
       "      <th id=\"T_70d3e_level1_row9\" class=\"row_heading level1 row9\" >SELANGOR</th>\n",
       "      <td id=\"T_70d3e_row9_col0\" class=\"data row9 col0\" >511,944</td>\n",
       "      <td id=\"T_70d3e_row9_col1\" class=\"data row9 col1\" >477,103</td>\n",
       "      <td id=\"T_70d3e_row9_col2\" class=\"data row9 col2\" >1.50</td>\n",
       "      <td id=\"T_70d3e_row9_col3\" class=\"data row9 col3\" >0.29</td>\n",
       "      <td id=\"T_70d3e_row9_col4\" class=\"data row9 col4\" >0.22</td>\n",
       "    </tr>\n",
       "    <tr>\n",
       "      <th id=\"T_70d3e_level1_row10\" class=\"row_heading level1 row10\" >TERENGGANU</th>\n",
       "      <td id=\"T_70d3e_row10_col0\" class=\"data row10 col0\" >396,683</td>\n",
       "      <td id=\"T_70d3e_row10_col1\" class=\"data row10 col1\" >370,506</td>\n",
       "      <td id=\"T_70d3e_row10_col2\" class=\"data row10 col2\" >1.58</td>\n",
       "      <td id=\"T_70d3e_row10_col3\" class=\"data row10 col3\" >0.07</td>\n",
       "      <td id=\"T_70d3e_row10_col4\" class=\"data row10 col4\" >0.35</td>\n",
       "    </tr>\n",
       "    <tr>\n",
       "      <th id=\"T_70d3e_level0_row11\" class=\"row_heading level0 row11\" rowspan=\"6\">URBAN</th>\n",
       "      <th id=\"T_70d3e_level1_row11\" class=\"row_heading level1 row11\" >KEDAH</th>\n",
       "      <td id=\"T_70d3e_row11_col0\" class=\"data row11 col0\" >201,407</td>\n",
       "      <td id=\"T_70d3e_row11_col1\" class=\"data row11 col1\" >196,639</td>\n",
       "      <td id=\"T_70d3e_row11_col2\" class=\"data row11 col2\" >1.44</td>\n",
       "      <td id=\"T_70d3e_row11_col3\" class=\"data row11 col3\" >0.48</td>\n",
       "      <td id=\"T_70d3e_row11_col4\" class=\"data row11 col4\" >0.08</td>\n",
       "    </tr>\n",
       "    <tr>\n",
       "      <th id=\"T_70d3e_level1_row12\" class=\"row_heading level1 row12\" >KELANTAN</th>\n",
       "      <td id=\"T_70d3e_row12_col0\" class=\"data row12 col0\" >154,245</td>\n",
       "      <td id=\"T_70d3e_row12_col1\" class=\"data row12 col1\" >135,951</td>\n",
       "      <td id=\"T_70d3e_row12_col2\" class=\"data row12 col2\" >1.54</td>\n",
       "      <td id=\"T_70d3e_row12_col3\" class=\"data row12 col3\" >-0.17</td>\n",
       "      <td id=\"T_70d3e_row12_col4\" class=\"data row12 col4\" >0.63</td>\n",
       "    </tr>\n",
       "    <tr>\n",
       "      <th id=\"T_70d3e_level1_row13\" class=\"row_heading level1 row13\" >NEGERI SEMBILAN</th>\n",
       "      <td id=\"T_70d3e_row13_col0\" class=\"data row13 col0\" >241,271</td>\n",
       "      <td id=\"T_70d3e_row13_col1\" class=\"data row13 col1\" >210,060</td>\n",
       "      <td id=\"T_70d3e_row13_col2\" class=\"data row13 col2\" >1.55</td>\n",
       "      <td id=\"T_70d3e_row13_col3\" class=\"data row13 col3\" >0.12</td>\n",
       "      <td id=\"T_70d3e_row13_col4\" class=\"data row13 col4\" >0.33</td>\n",
       "    </tr>\n",
       "    <tr>\n",
       "      <th id=\"T_70d3e_level1_row14\" class=\"row_heading level1 row14\" >PULAU PINANG</th>\n",
       "      <td id=\"T_70d3e_row14_col0\" class=\"data row14 col0\" >658,967</td>\n",
       "      <td id=\"T_70d3e_row14_col1\" class=\"data row14 col1\" >616,668</td>\n",
       "      <td id=\"T_70d3e_row14_col2\" class=\"data row14 col2\" >1.72</td>\n",
       "      <td id=\"T_70d3e_row14_col3\" class=\"data row14 col3\" >0.12</td>\n",
       "      <td id=\"T_70d3e_row14_col4\" class=\"data row14 col4\" >0.16</td>\n",
       "    </tr>\n",
       "    <tr>\n",
       "      <th id=\"T_70d3e_level1_row15\" class=\"row_heading level1 row15\" >SELANGOR</th>\n",
       "      <td id=\"T_70d3e_row15_col0\" class=\"data row15 col0\" >2,265,439</td>\n",
       "      <td id=\"T_70d3e_row15_col1\" class=\"data row15 col1\" >2,071,695</td>\n",
       "      <td id=\"T_70d3e_row15_col2\" class=\"data row15 col2\" >1.60</td>\n",
       "      <td id=\"T_70d3e_row15_col3\" class=\"data row15 col3\" >0.17</td>\n",
       "      <td id=\"T_70d3e_row15_col4\" class=\"data row15 col4\" >0.23</td>\n",
       "    </tr>\n",
       "    <tr>\n",
       "      <th id=\"T_70d3e_level1_row16\" class=\"row_heading level1 row16\" >TERENGGANU</th>\n",
       "      <td id=\"T_70d3e_row16_col0\" class=\"data row16 col0\" >183,408</td>\n",
       "      <td id=\"T_70d3e_row16_col1\" class=\"data row16 col1\" >172,584</td>\n",
       "      <td id=\"T_70d3e_row16_col2\" class=\"data row16 col2\" >1.53</td>\n",
       "      <td id=\"T_70d3e_row16_col3\" class=\"data row16 col3\" >0.12</td>\n",
       "      <td id=\"T_70d3e_row16_col4\" class=\"data row16 col4\" >0.34</td>\n",
       "    </tr>\n",
       "  </tbody>\n",
       "</table>\n"
      ],
      "text/plain": [
       "<pandas.io.formats.style.Styler at 0x1dbe329c640>"
      ]
     },
     "metadata": {},
     "output_type": "display_data"
    }
   ],
   "source": [
    "grp_df3 = compute_transfer(xdf, groupby=['Classification', 'GE15_STATE'])\n",
    "display(grp_df3.style.format(\"{:,}\", ['GE15_Total', 'PRN_Total']).format(\"{:.2f}\", ['Unity_Transfer', 'PN_Transfer', 'No_Turnout']))"
   ]
  },
  {
   "cell_type": "code",
   "execution_count": 182,
   "id": "0204b9c6-c9d9-49fb-abdb-9fbe8a300bfc",
   "metadata": {
    "tags": []
   },
   "outputs": [
    {
     "data": {
      "text/html": [
       "<div>\n",
       "<style scoped>\n",
       "    .dataframe tbody tr th:only-of-type {\n",
       "        vertical-align: middle;\n",
       "    }\n",
       "\n",
       "    .dataframe tbody tr th {\n",
       "        vertical-align: top;\n",
       "    }\n",
       "\n",
       "    .dataframe thead th {\n",
       "        text-align: right;\n",
       "    }\n",
       "</style>\n",
       "<table border=\"1\" class=\"dataframe\">\n",
       "  <thead>\n",
       "    <tr style=\"text-align: right;\">\n",
       "      <th></th>\n",
       "      <th>GE15_BN VOTE</th>\n",
       "      <th>BN VOTE</th>\n",
       "      <th>GE15_PH VOTE</th>\n",
       "      <th>PH VOTE</th>\n",
       "      <th>GE15_PN VOTE</th>\n",
       "      <th>PN VOTE</th>\n",
       "      <th>GE15_Unity</th>\n",
       "      <th>PRN_Unity</th>\n",
       "      <th>GE15_Total</th>\n",
       "      <th>PRN_Total</th>\n",
       "      <th>Unity_Transfer_Ratio</th>\n",
       "      <th>PN_Transfer_Ratio</th>\n",
       "      <th>NoTurnout_Ratio</th>\n",
       "    </tr>\n",
       "    <tr>\n",
       "      <th>Classification</th>\n",
       "      <th></th>\n",
       "      <th></th>\n",
       "      <th></th>\n",
       "      <th></th>\n",
       "      <th></th>\n",
       "      <th></th>\n",
       "      <th></th>\n",
       "      <th></th>\n",
       "      <th></th>\n",
       "      <th></th>\n",
       "      <th></th>\n",
       "      <th></th>\n",
       "      <th></th>\n",
       "    </tr>\n",
       "  </thead>\n",
       "  <tbody>\n",
       "    <tr>\n",
       "      <th>RURAL</th>\n",
       "      <td>279135.0</td>\n",
       "      <td>188055.0</td>\n",
       "      <td>93512.0</td>\n",
       "      <td>67093.0</td>\n",
       "      <td>450508.0</td>\n",
       "      <td>513701</td>\n",
       "      <td>372647.0</td>\n",
       "      <td>255148.0</td>\n",
       "      <td>823155.0</td>\n",
       "      <td>768849.0</td>\n",
       "      <td>1.369382</td>\n",
       "      <td>0.339157</td>\n",
       "      <td>0.291461</td>\n",
       "    </tr>\n",
       "    <tr>\n",
       "      <th>SEMI URBAN</th>\n",
       "      <td>727860.0</td>\n",
       "      <td>530629.0</td>\n",
       "      <td>652913.0</td>\n",
       "      <td>471909.0</td>\n",
       "      <td>1433015.0</td>\n",
       "      <td>1588651</td>\n",
       "      <td>1380773.0</td>\n",
       "      <td>1002538.0</td>\n",
       "      <td>2813788.0</td>\n",
       "      <td>2591189.0</td>\n",
       "      <td>1.452140</td>\n",
       "      <td>0.225433</td>\n",
       "      <td>0.322427</td>\n",
       "    </tr>\n",
       "    <tr>\n",
       "      <th>URBAN</th>\n",
       "      <td>594101.0</td>\n",
       "      <td>199308.0</td>\n",
       "      <td>2058267.0</td>\n",
       "      <td>1933344.0</td>\n",
       "      <td>1052369.0</td>\n",
       "      <td>1270945</td>\n",
       "      <td>2652368.0</td>\n",
       "      <td>2132652.0</td>\n",
       "      <td>3704737.0</td>\n",
       "      <td>3403597.0</td>\n",
       "      <td>1.608112</td>\n",
       "      <td>0.164816</td>\n",
       "      <td>0.227073</td>\n",
       "    </tr>\n",
       "  </tbody>\n",
       "</table>\n",
       "</div>"
      ],
      "text/plain": [
       "                GE15_BN VOTE   BN VOTE  GE15_PH VOTE    PH VOTE  GE15_PN VOTE  \\\n",
       "Classification                                                                  \n",
       "RURAL               279135.0  188055.0       93512.0    67093.0      450508.0   \n",
       "SEMI URBAN          727860.0  530629.0      652913.0   471909.0     1433015.0   \n",
       "URBAN               594101.0  199308.0     2058267.0  1933344.0     1052369.0   \n",
       "\n",
       "                PN VOTE  GE15_Unity  PRN_Unity  GE15_Total  PRN_Total  \\\n",
       "Classification                                                          \n",
       "RURAL            513701    372647.0   255148.0    823155.0   768849.0   \n",
       "SEMI URBAN      1588651   1380773.0  1002538.0   2813788.0  2591189.0   \n",
       "URBAN           1270945   2652368.0  2132652.0   3704737.0  3403597.0   \n",
       "\n",
       "                Unity_Transfer_Ratio  PN_Transfer_Ratio  NoTurnout_Ratio  \n",
       "Classification                                                            \n",
       "RURAL                       1.369382           0.339157         0.291461  \n",
       "SEMI URBAN                  1.452140           0.225433         0.322427  \n",
       "URBAN                       1.608112           0.164816         0.227073  "
      ]
     },
     "execution_count": 182,
     "metadata": {},
     "output_type": "execute_result"
    }
   ],
   "source": [
    "# xdf[['BN VOTE', 'PH VOTE', 'PN VOTE', 'GE15_BN VOTE', 'GE15_PH VOTE', 'GE15_PN VOTE']].sum()\n",
    "# urban_df = xdf.groupby('Classification')[['TOTAL VALID VOTES', 'TOTAL ELECTORATE', 'BN VOTE', 'PH VOTE', 'PN VOTE', 'GE15_TOTAL VALID VOTES', 'GE15_TOTAL ELECTORATE', 'GE15_BN VOTE', 'GE15_PH VOTE', 'GE15_PN VOTE']].sum()\n",
    "# urban_df\n",
    "compute_transfer(xdf, groupby='Classification')"
   ]
  },
  {
   "cell_type": "code",
   "execution_count": 184,
   "id": "1988fad8-e8f6-4ec4-8a2a-ec73bb23d7db",
   "metadata": {
    "tags": []
   },
   "outputs": [
    {
     "data": {
      "text/html": [
       "<div>\n",
       "<style scoped>\n",
       "    .dataframe tbody tr th:only-of-type {\n",
       "        vertical-align: middle;\n",
       "    }\n",
       "\n",
       "    .dataframe tbody tr th {\n",
       "        vertical-align: top;\n",
       "    }\n",
       "\n",
       "    .dataframe thead th {\n",
       "        text-align: right;\n",
       "    }\n",
       "</style>\n",
       "<table border=\"1\" class=\"dataframe\">\n",
       "  <thead>\n",
       "    <tr style=\"text-align: right;\">\n",
       "      <th></th>\n",
       "      <th></th>\n",
       "      <th>GE15_BN VOTE</th>\n",
       "      <th>BN VOTE</th>\n",
       "      <th>GE15_PH VOTE</th>\n",
       "      <th>PH VOTE</th>\n",
       "      <th>GE15_PN VOTE</th>\n",
       "      <th>PN VOTE</th>\n",
       "      <th>GE15_Unity</th>\n",
       "      <th>PRN_Unity</th>\n",
       "      <th>GE15_Total</th>\n",
       "      <th>PRN_Total</th>\n",
       "      <th>Unity_Transfer_Ratio</th>\n",
       "      <th>PN_Transfer_Ratio</th>\n",
       "      <th>NoTurnout_Ratio</th>\n",
       "    </tr>\n",
       "    <tr>\n",
       "      <th>Classification</th>\n",
       "      <th>GE15_STATE</th>\n",
       "      <th></th>\n",
       "      <th></th>\n",
       "      <th></th>\n",
       "      <th></th>\n",
       "      <th></th>\n",
       "      <th></th>\n",
       "      <th></th>\n",
       "      <th></th>\n",
       "      <th></th>\n",
       "      <th></th>\n",
       "      <th></th>\n",
       "      <th></th>\n",
       "      <th></th>\n",
       "    </tr>\n",
       "  </thead>\n",
       "  <tbody>\n",
       "    <tr>\n",
       "      <th rowspan=\"5\" valign=\"top\">RURAL</th>\n",
       "      <th>KEDAH</th>\n",
       "      <td>94381.0</td>\n",
       "      <td>47969.0</td>\n",
       "      <td>29281.0</td>\n",
       "      <td>24432.0</td>\n",
       "      <td>208009.0</td>\n",
       "      <td>247929</td>\n",
       "      <td>123662.0</td>\n",
       "      <td>72401.0</td>\n",
       "      <td>331671.0</td>\n",
       "      <td>320330.0</td>\n",
       "      <td>1.170950</td>\n",
       "      <td>0.645631</td>\n",
       "      <td>0.183419</td>\n",
       "    </tr>\n",
       "    <tr>\n",
       "      <th>KELANTAN</th>\n",
       "      <td>53823.0</td>\n",
       "      <td>44873.0</td>\n",
       "      <td>9805.0</td>\n",
       "      <td>3404.0</td>\n",
       "      <td>91638.0</td>\n",
       "      <td>85074</td>\n",
       "      <td>63628.0</td>\n",
       "      <td>48277.0</td>\n",
       "      <td>155266.0</td>\n",
       "      <td>133351.0</td>\n",
       "      <td>1.517477</td>\n",
       "      <td>-0.206324</td>\n",
       "      <td>0.688848</td>\n",
       "    </tr>\n",
       "    <tr>\n",
       "      <th>NEGERI SEMBILAN</th>\n",
       "      <td>43228.0</td>\n",
       "      <td>29785.0</td>\n",
       "      <td>28620.0</td>\n",
       "      <td>16708.0</td>\n",
       "      <td>21156.0</td>\n",
       "      <td>36085</td>\n",
       "      <td>71848.0</td>\n",
       "      <td>46493.0</td>\n",
       "      <td>93004.0</td>\n",
       "      <td>82578.0</td>\n",
       "      <td>1.294204</td>\n",
       "      <td>0.415572</td>\n",
       "      <td>0.290224</td>\n",
       "    </tr>\n",
       "    <tr>\n",
       "      <th>SELANGOR</th>\n",
       "      <td>28791.0</td>\n",
       "      <td>16475.0</td>\n",
       "      <td>21941.0</td>\n",
       "      <td>20338.0</td>\n",
       "      <td>36027.0</td>\n",
       "      <td>48752</td>\n",
       "      <td>50732.0</td>\n",
       "      <td>36813.0</td>\n",
       "      <td>86759.0</td>\n",
       "      <td>85565.0</td>\n",
       "      <td>1.451273</td>\n",
       "      <td>0.501656</td>\n",
       "      <td>0.047071</td>\n",
       "    </tr>\n",
       "    <tr>\n",
       "      <th>TERENGGANU</th>\n",
       "      <td>58912.0</td>\n",
       "      <td>48953.0</td>\n",
       "      <td>3865.0</td>\n",
       "      <td>2211.0</td>\n",
       "      <td>93678.0</td>\n",
       "      <td>95861</td>\n",
       "      <td>62777.0</td>\n",
       "      <td>51164.0</td>\n",
       "      <td>156455.0</td>\n",
       "      <td>147025.0</td>\n",
       "      <td>1.630024</td>\n",
       "      <td>0.069548</td>\n",
       "      <td>0.300429</td>\n",
       "    </tr>\n",
       "    <tr>\n",
       "      <th rowspan=\"6\" valign=\"top\">SEMI URBAN</th>\n",
       "      <th>KEDAH</th>\n",
       "      <td>104651.0</td>\n",
       "      <td>59837.0</td>\n",
       "      <td>174107.0</td>\n",
       "      <td>135313.0</td>\n",
       "      <td>369760.0</td>\n",
       "      <td>432483</td>\n",
       "      <td>278758.0</td>\n",
       "      <td>195150.0</td>\n",
       "      <td>648518.0</td>\n",
       "      <td>627633.0</td>\n",
       "      <td>1.400139</td>\n",
       "      <td>0.450018</td>\n",
       "      <td>0.149843</td>\n",
       "    </tr>\n",
       "    <tr>\n",
       "      <th>KELANTAN</th>\n",
       "      <td>180276.0</td>\n",
       "      <td>115139.0</td>\n",
       "      <td>50904.0</td>\n",
       "      <td>51643.0</td>\n",
       "      <td>444311.0</td>\n",
       "      <td>407639</td>\n",
       "      <td>231180.0</td>\n",
       "      <td>166782.0</td>\n",
       "      <td>675491.0</td>\n",
       "      <td>574421.0</td>\n",
       "      <td>1.442876</td>\n",
       "      <td>-0.317259</td>\n",
       "      <td>0.874384</td>\n",
       "    </tr>\n",
       "    <tr>\n",
       "      <th>NEGERI SEMBILAN</th>\n",
       "      <td>124908.0</td>\n",
       "      <td>89723.0</td>\n",
       "      <td>121815.0</td>\n",
       "      <td>71854.0</td>\n",
       "      <td>71794.0</td>\n",
       "      <td>119816</td>\n",
       "      <td>246723.0</td>\n",
       "      <td>161577.0</td>\n",
       "      <td>318517.0</td>\n",
       "      <td>281393.0</td>\n",
       "      <td>1.309785</td>\n",
       "      <td>0.389279</td>\n",
       "      <td>0.300937</td>\n",
       "    </tr>\n",
       "    <tr>\n",
       "      <th>PULAU PINANG</th>\n",
       "      <td>70739.0</td>\n",
       "      <td>49476.0</td>\n",
       "      <td>83299.0</td>\n",
       "      <td>71542.0</td>\n",
       "      <td>108597.0</td>\n",
       "      <td>139115</td>\n",
       "      <td>154038.0</td>\n",
       "      <td>121018.0</td>\n",
       "      <td>262635.0</td>\n",
       "      <td>260133.0</td>\n",
       "      <td>1.571275</td>\n",
       "      <td>0.396240</td>\n",
       "      <td>0.032485</td>\n",
       "    </tr>\n",
       "    <tr>\n",
       "      <th>SELANGOR</th>\n",
       "      <td>120847.0</td>\n",
       "      <td>106309.0</td>\n",
       "      <td>200662.0</td>\n",
       "      <td>134369.0</td>\n",
       "      <td>190435.0</td>\n",
       "      <td>236425</td>\n",
       "      <td>321509.0</td>\n",
       "      <td>240678.0</td>\n",
       "      <td>511944.0</td>\n",
       "      <td>477103.0</td>\n",
       "      <td>1.497177</td>\n",
       "      <td>0.286088</td>\n",
       "      <td>0.216734</td>\n",
       "    </tr>\n",
       "    <tr>\n",
       "      <th>TERENGGANU</th>\n",
       "      <td>126439.0</td>\n",
       "      <td>110145.0</td>\n",
       "      <td>22126.0</td>\n",
       "      <td>7188.0</td>\n",
       "      <td>248118.0</td>\n",
       "      <td>253173</td>\n",
       "      <td>148565.0</td>\n",
       "      <td>117333.0</td>\n",
       "      <td>396683.0</td>\n",
       "      <td>370506.0</td>\n",
       "      <td>1.579551</td>\n",
       "      <td>0.068051</td>\n",
       "      <td>0.352398</td>\n",
       "    </tr>\n",
       "    <tr>\n",
       "      <th rowspan=\"6\" valign=\"top\">URBAN</th>\n",
       "      <th>KEDAH</th>\n",
       "      <td>36321.0</td>\n",
       "      <td>8534.0</td>\n",
       "      <td>78135.0</td>\n",
       "      <td>73909.0</td>\n",
       "      <td>86951.0</td>\n",
       "      <td>114196</td>\n",
       "      <td>114456.0</td>\n",
       "      <td>82443.0</td>\n",
       "      <td>201407.0</td>\n",
       "      <td>196639.0</td>\n",
       "      <td>1.440606</td>\n",
       "      <td>0.476078</td>\n",
       "      <td>0.083316</td>\n",
       "    </tr>\n",
       "    <tr>\n",
       "      <th>KELANTAN</th>\n",
       "      <td>31831.0</td>\n",
       "      <td>18425.0</td>\n",
       "      <td>26612.0</td>\n",
       "      <td>26641.0</td>\n",
       "      <td>95802.0</td>\n",
       "      <td>90885</td>\n",
       "      <td>58443.0</td>\n",
       "      <td>45066.0</td>\n",
       "      <td>154245.0</td>\n",
       "      <td>135951.0</td>\n",
       "      <td>1.542221</td>\n",
       "      <td>-0.168267</td>\n",
       "      <td>0.626046</td>\n",
       "    </tr>\n",
       "    <tr>\n",
       "      <th>NEGERI SEMBILAN</th>\n",
       "      <td>44031.0</td>\n",
       "      <td>10040.0</td>\n",
       "      <td>145354.0</td>\n",
       "      <td>136618.0</td>\n",
       "      <td>51886.0</td>\n",
       "      <td>63402</td>\n",
       "      <td>189385.0</td>\n",
       "      <td>146658.0</td>\n",
       "      <td>241271.0</td>\n",
       "      <td>210060.0</td>\n",
       "      <td>1.548782</td>\n",
       "      <td>0.121615</td>\n",
       "      <td>0.329604</td>\n",
       "    </tr>\n",
       "    <tr>\n",
       "      <th>PULAU PINANG</th>\n",
       "      <td>72659.0</td>\n",
       "      <td>0.0</td>\n",
       "      <td>468732.0</td>\n",
       "      <td>465269.0</td>\n",
       "      <td>117576.0</td>\n",
       "      <td>151399</td>\n",
       "      <td>541391.0</td>\n",
       "      <td>465269.0</td>\n",
       "      <td>658967.0</td>\n",
       "      <td>616668.0</td>\n",
       "      <td>1.718791</td>\n",
       "      <td>0.124949</td>\n",
       "      <td>0.156260</td>\n",
       "    </tr>\n",
       "    <tr>\n",
       "      <th>SELANGOR</th>\n",
       "      <td>360218.0</td>\n",
       "      <td>123239.0</td>\n",
       "      <td>1324780.0</td>\n",
       "      <td>1221090.0</td>\n",
       "      <td>580441.0</td>\n",
       "      <td>727366</td>\n",
       "      <td>1684998.0</td>\n",
       "      <td>1344329.0</td>\n",
       "      <td>2265439.0</td>\n",
       "      <td>2071695.0</td>\n",
       "      <td>1.595645</td>\n",
       "      <td>0.174392</td>\n",
       "      <td>0.229963</td>\n",
       "    </tr>\n",
       "    <tr>\n",
       "      <th>TERENGGANU</th>\n",
       "      <td>49041.0</td>\n",
       "      <td>39070.0</td>\n",
       "      <td>14654.0</td>\n",
       "      <td>9817.0</td>\n",
       "      <td>119713.0</td>\n",
       "      <td>123697</td>\n",
       "      <td>63695.0</td>\n",
       "      <td>48887.0</td>\n",
       "      <td>183408.0</td>\n",
       "      <td>172584.0</td>\n",
       "      <td>1.535034</td>\n",
       "      <td>0.125096</td>\n",
       "      <td>0.339870</td>\n",
       "    </tr>\n",
       "  </tbody>\n",
       "</table>\n",
       "</div>"
      ],
      "text/plain": [
       "                                GE15_BN VOTE   BN VOTE  GE15_PH VOTE  \\\n",
       "Classification GE15_STATE                                              \n",
       "RURAL          KEDAH                 94381.0   47969.0       29281.0   \n",
       "               KELANTAN              53823.0   44873.0        9805.0   \n",
       "               NEGERI SEMBILAN       43228.0   29785.0       28620.0   \n",
       "               SELANGOR              28791.0   16475.0       21941.0   \n",
       "               TERENGGANU            58912.0   48953.0        3865.0   \n",
       "SEMI URBAN     KEDAH                104651.0   59837.0      174107.0   \n",
       "               KELANTAN             180276.0  115139.0       50904.0   \n",
       "               NEGERI SEMBILAN      124908.0   89723.0      121815.0   \n",
       "               PULAU PINANG          70739.0   49476.0       83299.0   \n",
       "               SELANGOR             120847.0  106309.0      200662.0   \n",
       "               TERENGGANU           126439.0  110145.0       22126.0   \n",
       "URBAN          KEDAH                 36321.0    8534.0       78135.0   \n",
       "               KELANTAN              31831.0   18425.0       26612.0   \n",
       "               NEGERI SEMBILAN       44031.0   10040.0      145354.0   \n",
       "               PULAU PINANG          72659.0       0.0      468732.0   \n",
       "               SELANGOR             360218.0  123239.0     1324780.0   \n",
       "               TERENGGANU            49041.0   39070.0       14654.0   \n",
       "\n",
       "                                  PH VOTE  GE15_PN VOTE  PN VOTE  GE15_Unity  \\\n",
       "Classification GE15_STATE                                                      \n",
       "RURAL          KEDAH              24432.0      208009.0   247929    123662.0   \n",
       "               KELANTAN            3404.0       91638.0    85074     63628.0   \n",
       "               NEGERI SEMBILAN    16708.0       21156.0    36085     71848.0   \n",
       "               SELANGOR           20338.0       36027.0    48752     50732.0   \n",
       "               TERENGGANU          2211.0       93678.0    95861     62777.0   \n",
       "SEMI URBAN     KEDAH             135313.0      369760.0   432483    278758.0   \n",
       "               KELANTAN           51643.0      444311.0   407639    231180.0   \n",
       "               NEGERI SEMBILAN    71854.0       71794.0   119816    246723.0   \n",
       "               PULAU PINANG       71542.0      108597.0   139115    154038.0   \n",
       "               SELANGOR          134369.0      190435.0   236425    321509.0   \n",
       "               TERENGGANU          7188.0      248118.0   253173    148565.0   \n",
       "URBAN          KEDAH              73909.0       86951.0   114196    114456.0   \n",
       "               KELANTAN           26641.0       95802.0    90885     58443.0   \n",
       "               NEGERI SEMBILAN   136618.0       51886.0    63402    189385.0   \n",
       "               PULAU PINANG      465269.0      117576.0   151399    541391.0   \n",
       "               SELANGOR         1221090.0      580441.0   727366   1684998.0   \n",
       "               TERENGGANU          9817.0      119713.0   123697     63695.0   \n",
       "\n",
       "                                PRN_Unity  GE15_Total  PRN_Total  \\\n",
       "Classification GE15_STATE                                          \n",
       "RURAL          KEDAH              72401.0    331671.0   320330.0   \n",
       "               KELANTAN           48277.0    155266.0   133351.0   \n",
       "               NEGERI SEMBILAN    46493.0     93004.0    82578.0   \n",
       "               SELANGOR           36813.0     86759.0    85565.0   \n",
       "               TERENGGANU         51164.0    156455.0   147025.0   \n",
       "SEMI URBAN     KEDAH             195150.0    648518.0   627633.0   \n",
       "               KELANTAN          166782.0    675491.0   574421.0   \n",
       "               NEGERI SEMBILAN   161577.0    318517.0   281393.0   \n",
       "               PULAU PINANG      121018.0    262635.0   260133.0   \n",
       "               SELANGOR          240678.0    511944.0   477103.0   \n",
       "               TERENGGANU        117333.0    396683.0   370506.0   \n",
       "URBAN          KEDAH              82443.0    201407.0   196639.0   \n",
       "               KELANTAN           45066.0    154245.0   135951.0   \n",
       "               NEGERI SEMBILAN   146658.0    241271.0   210060.0   \n",
       "               PULAU PINANG      465269.0    658967.0   616668.0   \n",
       "               SELANGOR         1344329.0   2265439.0  2071695.0   \n",
       "               TERENGGANU         48887.0    183408.0   172584.0   \n",
       "\n",
       "                                Unity_Transfer_Ratio  PN_Transfer_Ratio  \\\n",
       "Classification GE15_STATE                                                 \n",
       "RURAL          KEDAH                        1.170950           0.645631   \n",
       "               KELANTAN                     1.517477          -0.206324   \n",
       "               NEGERI SEMBILAN              1.294204           0.415572   \n",
       "               SELANGOR                     1.451273           0.501656   \n",
       "               TERENGGANU                   1.630024           0.069548   \n",
       "SEMI URBAN     KEDAH                        1.400139           0.450018   \n",
       "               KELANTAN                     1.442876          -0.317259   \n",
       "               NEGERI SEMBILAN              1.309785           0.389279   \n",
       "               PULAU PINANG                 1.571275           0.396240   \n",
       "               SELANGOR                     1.497177           0.286088   \n",
       "               TERENGGANU                   1.579551           0.068051   \n",
       "URBAN          KEDAH                        1.440606           0.476078   \n",
       "               KELANTAN                     1.542221          -0.168267   \n",
       "               NEGERI SEMBILAN              1.548782           0.121615   \n",
       "               PULAU PINANG                 1.718791           0.124949   \n",
       "               SELANGOR                     1.595645           0.174392   \n",
       "               TERENGGANU                   1.535034           0.125096   \n",
       "\n",
       "                                NoTurnout_Ratio  \n",
       "Classification GE15_STATE                        \n",
       "RURAL          KEDAH                   0.183419  \n",
       "               KELANTAN                0.688848  \n",
       "               NEGERI SEMBILAN         0.290224  \n",
       "               SELANGOR                0.047071  \n",
       "               TERENGGANU              0.300429  \n",
       "SEMI URBAN     KEDAH                   0.149843  \n",
       "               KELANTAN                0.874384  \n",
       "               NEGERI SEMBILAN         0.300937  \n",
       "               PULAU PINANG            0.032485  \n",
       "               SELANGOR                0.216734  \n",
       "               TERENGGANU              0.352398  \n",
       "URBAN          KEDAH                   0.083316  \n",
       "               KELANTAN                0.626046  \n",
       "               NEGERI SEMBILAN         0.329604  \n",
       "               PULAU PINANG            0.156260  \n",
       "               SELANGOR                0.229963  \n",
       "               TERENGGANU              0.339870  "
      ]
     },
     "execution_count": 184,
     "metadata": {},
     "output_type": "execute_result"
    }
   ],
   "source": [
    "compute_transfer(xdf, groupby=['Classification', 'GE15_STATE'])"
   ]
  },
  {
   "cell_type": "code",
   "execution_count": null,
   "id": "34a25dc1-0909-4243-99a6-18fd9d56d04f",
   "metadata": {
    "tags": []
   },
   "outputs": [],
   "source": []
  },
  {
   "cell_type": "code",
   "execution_count": 119,
   "id": "ba8166db-721b-4f82-896f-7c563179b9dd",
   "metadata": {
    "tags": []
   },
   "outputs": [],
   "source": []
  },
  {
   "cell_type": "code",
   "execution_count": 125,
   "id": "d7b2888d-d760-44ac-b645-bec4dca2ffdd",
   "metadata": {
    "tags": []
   },
   "outputs": [
    {
     "data": {
      "text/html": [
       "<div>\n",
       "<style scoped>\n",
       "    .dataframe tbody tr th:only-of-type {\n",
       "        vertical-align: middle;\n",
       "    }\n",
       "\n",
       "    .dataframe tbody tr th {\n",
       "        vertical-align: top;\n",
       "    }\n",
       "\n",
       "    .dataframe thead th {\n",
       "        text-align: right;\n",
       "    }\n",
       "</style>\n",
       "<table border=\"1\" class=\"dataframe\">\n",
       "  <thead>\n",
       "    <tr style=\"text-align: right;\">\n",
       "      <th></th>\n",
       "      <th>GE15_BN VOTE</th>\n",
       "      <th>BN VOTE</th>\n",
       "      <th>GE15_PH VOTE</th>\n",
       "      <th>PH VOTE</th>\n",
       "      <th>GE15_PN VOTE</th>\n",
       "      <th>PN VOTE</th>\n",
       "      <th>GE15_Unity</th>\n",
       "      <th>PRN_Unity</th>\n",
       "      <th>Unity_Transfer</th>\n",
       "      <th>Shift_To_PN</th>\n",
       "      <th>Lower_Turnout</th>\n",
       "      <th>Unity_Transfer_Ratio</th>\n",
       "      <th>PN_Transfer_Ratio</th>\n",
       "      <th>GE15_Total</th>\n",
       "      <th>PRN_Total</th>\n",
       "      <th>NoTurnout_Ratio</th>\n",
       "    </tr>\n",
       "    <tr>\n",
       "      <th>GE15_STATE</th>\n",
       "      <th></th>\n",
       "      <th></th>\n",
       "      <th></th>\n",
       "      <th></th>\n",
       "      <th></th>\n",
       "      <th></th>\n",
       "      <th></th>\n",
       "      <th></th>\n",
       "      <th></th>\n",
       "      <th></th>\n",
       "      <th></th>\n",
       "      <th></th>\n",
       "      <th></th>\n",
       "      <th></th>\n",
       "      <th></th>\n",
       "      <th></th>\n",
       "    </tr>\n",
       "  </thead>\n",
       "  <tbody>\n",
       "    <tr>\n",
       "      <th>KEDAH</th>\n",
       "      <td>235353.0</td>\n",
       "      <td>116340.0</td>\n",
       "      <td>281523.0</td>\n",
       "      <td>233654.0</td>\n",
       "      <td>664720.0</td>\n",
       "      <td>794608</td>\n",
       "      <td>516876.0</td>\n",
       "      <td>349994.0</td>\n",
       "      <td>-0.322867</td>\n",
       "      <td>0.251294</td>\n",
       "      <td>0.071572</td>\n",
       "      <td>1.354267</td>\n",
       "      <td>0.502589</td>\n",
       "      <td>1181596.0</td>\n",
       "      <td>1144602.0</td>\n",
       "      <td>0.143145</td>\n",
       "    </tr>\n",
       "    <tr>\n",
       "      <th>KELANTAN</th>\n",
       "      <td>265930.0</td>\n",
       "      <td>178437.0</td>\n",
       "      <td>87321.0</td>\n",
       "      <td>81688.0</td>\n",
       "      <td>631751.0</td>\n",
       "      <td>583598</td>\n",
       "      <td>353251.0</td>\n",
       "      <td>260125.0</td>\n",
       "      <td>-0.263626</td>\n",
       "      <td>-0.136314</td>\n",
       "      <td>0.399939</td>\n",
       "      <td>1.472749</td>\n",
       "      <td>-0.272628</td>\n",
       "      <td>985002.0</td>\n",
       "      <td>843723.0</td>\n",
       "      <td>0.799879</td>\n",
       "    </tr>\n",
       "    <tr>\n",
       "      <th>NEGERI SEMBILAN</th>\n",
       "      <td>212167.0</td>\n",
       "      <td>129548.0</td>\n",
       "      <td>295789.0</td>\n",
       "      <td>225180.0</td>\n",
       "      <td>144836.0</td>\n",
       "      <td>219303</td>\n",
       "      <td>507956.0</td>\n",
       "      <td>354728.0</td>\n",
       "      <td>-0.301656</td>\n",
       "      <td>0.146601</td>\n",
       "      <td>0.155055</td>\n",
       "      <td>1.396688</td>\n",
       "      <td>0.293203</td>\n",
       "      <td>652792.0</td>\n",
       "      <td>574031.0</td>\n",
       "      <td>0.310110</td>\n",
       "    </tr>\n",
       "    <tr>\n",
       "      <th>PULAU PINANG</th>\n",
       "      <td>143398.0</td>\n",
       "      <td>49476.0</td>\n",
       "      <td>552031.0</td>\n",
       "      <td>536811.0</td>\n",
       "      <td>226173.0</td>\n",
       "      <td>290514</td>\n",
       "      <td>695429.0</td>\n",
       "      <td>586287.0</td>\n",
       "      <td>-0.156942</td>\n",
       "      <td>0.092520</td>\n",
       "      <td>0.064422</td>\n",
       "      <td>1.686116</td>\n",
       "      <td>0.185040</td>\n",
       "      <td>921602.0</td>\n",
       "      <td>876801.0</td>\n",
       "      <td>0.128844</td>\n",
       "    </tr>\n",
       "    <tr>\n",
       "      <th>SELANGOR</th>\n",
       "      <td>509856.0</td>\n",
       "      <td>246023.0</td>\n",
       "      <td>1547383.0</td>\n",
       "      <td>1375797.0</td>\n",
       "      <td>806903.0</td>\n",
       "      <td>1012543</td>\n",
       "      <td>2057239.0</td>\n",
       "      <td>1621820.0</td>\n",
       "      <td>-0.211652</td>\n",
       "      <td>0.099959</td>\n",
       "      <td>0.111693</td>\n",
       "      <td>1.576696</td>\n",
       "      <td>0.199918</td>\n",
       "      <td>2864142.0</td>\n",
       "      <td>2634363.0</td>\n",
       "      <td>0.223386</td>\n",
       "    </tr>\n",
       "    <tr>\n",
       "      <th>TERENGGANU</th>\n",
       "      <td>234392.0</td>\n",
       "      <td>198168.0</td>\n",
       "      <td>40645.0</td>\n",
       "      <td>19216.0</td>\n",
       "      <td>461509.0</td>\n",
       "      <td>472731</td>\n",
       "      <td>275037.0</td>\n",
       "      <td>217384.0</td>\n",
       "      <td>-0.209619</td>\n",
       "      <td>0.040802</td>\n",
       "      <td>0.168817</td>\n",
       "      <td>1.580762</td>\n",
       "      <td>0.081604</td>\n",
       "      <td>736546.0</td>\n",
       "      <td>690115.0</td>\n",
       "      <td>0.337635</td>\n",
       "    </tr>\n",
       "  </tbody>\n",
       "</table>\n",
       "</div>"
      ],
      "text/plain": [
       "                 GE15_BN VOTE   BN VOTE  GE15_PH VOTE    PH VOTE  \\\n",
       "GE15_STATE                                                         \n",
       "KEDAH                235353.0  116340.0      281523.0   233654.0   \n",
       "KELANTAN             265930.0  178437.0       87321.0    81688.0   \n",
       "NEGERI SEMBILAN      212167.0  129548.0      295789.0   225180.0   \n",
       "PULAU PINANG         143398.0   49476.0      552031.0   536811.0   \n",
       "SELANGOR             509856.0  246023.0     1547383.0  1375797.0   \n",
       "TERENGGANU           234392.0  198168.0       40645.0    19216.0   \n",
       "\n",
       "                 GE15_PN VOTE  PN VOTE  GE15_Unity  PRN_Unity  Unity_Transfer  \\\n",
       "GE15_STATE                                                                      \n",
       "KEDAH                664720.0   794608    516876.0   349994.0       -0.322867   \n",
       "KELANTAN             631751.0   583598    353251.0   260125.0       -0.263626   \n",
       "NEGERI SEMBILAN      144836.0   219303    507956.0   354728.0       -0.301656   \n",
       "PULAU PINANG         226173.0   290514    695429.0   586287.0       -0.156942   \n",
       "SELANGOR             806903.0  1012543   2057239.0  1621820.0       -0.211652   \n",
       "TERENGGANU           461509.0   472731    275037.0   217384.0       -0.209619   \n",
       "\n",
       "                 Shift_To_PN  Lower_Turnout  Unity_Transfer_Ratio  \\\n",
       "GE15_STATE                                                          \n",
       "KEDAH               0.251294       0.071572              1.354267   \n",
       "KELANTAN           -0.136314       0.399939              1.472749   \n",
       "NEGERI SEMBILAN     0.146601       0.155055              1.396688   \n",
       "PULAU PINANG        0.092520       0.064422              1.686116   \n",
       "SELANGOR            0.099959       0.111693              1.576696   \n",
       "TERENGGANU          0.040802       0.168817              1.580762   \n",
       "\n",
       "                 PN_Transfer_Ratio  GE15_Total  PRN_Total  NoTurnout_Ratio  \n",
       "GE15_STATE                                                                  \n",
       "KEDAH                     0.502589   1181596.0  1144602.0         0.143145  \n",
       "KELANTAN                 -0.272628    985002.0   843723.0         0.799879  \n",
       "NEGERI SEMBILAN           0.293203    652792.0   574031.0         0.310110  \n",
       "PULAU PINANG              0.185040    921602.0   876801.0         0.128844  \n",
       "SELANGOR                  0.199918   2864142.0  2634363.0         0.223386  \n",
       "TERENGGANU                0.081604    736546.0   690115.0         0.337635  "
      ]
     },
     "execution_count": 125,
     "metadata": {},
     "output_type": "execute_result"
    }
   ],
   "source": []
  },
  {
   "cell_type": "code",
   "execution_count": 112,
   "id": "1483ed7c-5f57-4329-8e9f-0042d332c1de",
   "metadata": {
    "tags": []
   },
   "outputs": [
    {
     "data": {
      "text/plain": [
       "(0.7695190962433962, 437405)"
      ]
     },
     "execution_count": 112,
     "metadata": {},
     "output_type": "execute_result"
    }
   ],
   "source": [
    "(917992+2472346)/ ( 1601096+2804692), 3373297 - 2935892"
   ]
  },
  {
   "cell_type": "code",
   "execution_count": 99,
   "id": "1d8d3f88-6d0f-4ce6-a1e5-494952744d89",
   "metadata": {
    "tags": []
   },
   "outputs": [
    {
     "data": {
      "text/html": [
       "<div>\n",
       "<style scoped>\n",
       "    .dataframe tbody tr th:only-of-type {\n",
       "        vertical-align: middle;\n",
       "    }\n",
       "\n",
       "    .dataframe tbody tr th {\n",
       "        vertical-align: top;\n",
       "    }\n",
       "\n",
       "    .dataframe thead th {\n",
       "        text-align: right;\n",
       "    }\n",
       "</style>\n",
       "<table border=\"1\" class=\"dataframe\">\n",
       "  <thead>\n",
       "    <tr style=\"text-align: right;\">\n",
       "      <th></th>\n",
       "      <th>TOTAL VALID VOTES</th>\n",
       "      <th>TOTAL ELECTORATE</th>\n",
       "      <th>BN VOTE</th>\n",
       "      <th>PH VOTE</th>\n",
       "      <th>PN VOTE</th>\n",
       "      <th>GE15_TOTAL VALID VOTES</th>\n",
       "      <th>GE15_TOTAL ELECTORATE</th>\n",
       "      <th>GE15_BN VOTE</th>\n",
       "      <th>GE15_PH VOTE</th>\n",
       "      <th>GE15_PN VOTE</th>\n",
       "      <th>BN_GE15</th>\n",
       "      <th>BN_PRN</th>\n",
       "      <th>PH_GE15</th>\n",
       "      <th>PH_PRN</th>\n",
       "      <th>PN_GE15</th>\n",
       "      <th>PN_PRN</th>\n",
       "      <th>Unity_GE15</th>\n",
       "      <th>Unity_PRN</th>\n",
       "    </tr>\n",
       "    <tr>\n",
       "      <th>GE15_STATE</th>\n",
       "      <th></th>\n",
       "      <th></th>\n",
       "      <th></th>\n",
       "      <th></th>\n",
       "      <th></th>\n",
       "      <th></th>\n",
       "      <th></th>\n",
       "      <th></th>\n",
       "      <th></th>\n",
       "      <th></th>\n",
       "      <th></th>\n",
       "      <th></th>\n",
       "      <th></th>\n",
       "      <th></th>\n",
       "      <th></th>\n",
       "      <th></th>\n",
       "      <th></th>\n",
       "      <th></th>\n",
       "    </tr>\n",
       "  </thead>\n",
       "  <tbody>\n",
       "    <tr>\n",
       "      <th>KEDAH</th>\n",
       "      <td>1155797</td>\n",
       "      <td>1585085</td>\n",
       "      <td>116340.0</td>\n",
       "      <td>233654.0</td>\n",
       "      <td>794608</td>\n",
       "      <td>1209539</td>\n",
       "      <td>1575805</td>\n",
       "      <td>235353.0</td>\n",
       "      <td>281523.0</td>\n",
       "      <td>664720.0</td>\n",
       "      <td>0.194581</td>\n",
       "      <td>0.100658</td>\n",
       "      <td>0.232752</td>\n",
       "      <td>0.202158</td>\n",
       "      <td>0.549565</td>\n",
       "      <td>0.687498</td>\n",
       "      <td>0.427333</td>\n",
       "      <td>0.302816</td>\n",
       "    </tr>\n",
       "    <tr>\n",
       "      <th>KELANTAN</th>\n",
       "      <td>845743</td>\n",
       "      <td>1411912</td>\n",
       "      <td>178437.0</td>\n",
       "      <td>81688.0</td>\n",
       "      <td>583598</td>\n",
       "      <td>992408</td>\n",
       "      <td>1404763</td>\n",
       "      <td>265930.0</td>\n",
       "      <td>87321.0</td>\n",
       "      <td>631751.0</td>\n",
       "      <td>0.267964</td>\n",
       "      <td>0.210983</td>\n",
       "      <td>0.087989</td>\n",
       "      <td>0.096587</td>\n",
       "      <td>0.636584</td>\n",
       "      <td>0.690042</td>\n",
       "      <td>0.355953</td>\n",
       "      <td>0.307570</td>\n",
       "    </tr>\n",
       "    <tr>\n",
       "      <th>NEGERI SEMBILAN</th>\n",
       "      <td>582455</td>\n",
       "      <td>864425</td>\n",
       "      <td>129548.0</td>\n",
       "      <td>225180.0</td>\n",
       "      <td>219303</td>\n",
       "      <td>659425</td>\n",
       "      <td>850865</td>\n",
       "      <td>212167.0</td>\n",
       "      <td>295789.0</td>\n",
       "      <td>144836.0</td>\n",
       "      <td>0.321745</td>\n",
       "      <td>0.222417</td>\n",
       "      <td>0.448556</td>\n",
       "      <td>0.386605</td>\n",
       "      <td>0.219640</td>\n",
       "      <td>0.376515</td>\n",
       "      <td>0.770301</td>\n",
       "      <td>0.609022</td>\n",
       "    </tr>\n",
       "    <tr>\n",
       "      <th>PULAU PINANG</th>\n",
       "      <td>884532</td>\n",
       "      <td>1234198</td>\n",
       "      <td>49476.0</td>\n",
       "      <td>536811.0</td>\n",
       "      <td>290514</td>\n",
       "      <td>943971</td>\n",
       "      <td>1226626</td>\n",
       "      <td>143398.0</td>\n",
       "      <td>552031.0</td>\n",
       "      <td>226173.0</td>\n",
       "      <td>0.151909</td>\n",
       "      <td>0.055935</td>\n",
       "      <td>0.584797</td>\n",
       "      <td>0.606887</td>\n",
       "      <td>0.239597</td>\n",
       "      <td>0.328438</td>\n",
       "      <td>0.736706</td>\n",
       "      <td>0.662822</td>\n",
       "    </tr>\n",
       "    <tr>\n",
       "      <th>SELANGOR</th>\n",
       "      <td>2676774</td>\n",
       "      <td>3747057</td>\n",
       "      <td>246023.0</td>\n",
       "      <td>1375797.0</td>\n",
       "      <td>1012543</td>\n",
       "      <td>2930276</td>\n",
       "      <td>3677848</td>\n",
       "      <td>509856.0</td>\n",
       "      <td>1547383.0</td>\n",
       "      <td>806903.0</td>\n",
       "      <td>0.173996</td>\n",
       "      <td>0.091910</td>\n",
       "      <td>0.528067</td>\n",
       "      <td>0.513976</td>\n",
       "      <td>0.275368</td>\n",
       "      <td>0.378270</td>\n",
       "      <td>0.702063</td>\n",
       "      <td>0.605886</td>\n",
       "    </tr>\n",
       "    <tr>\n",
       "      <th>TERENGGANU</th>\n",
       "      <td>690667</td>\n",
       "      <td>930894</td>\n",
       "      <td>198168.0</td>\n",
       "      <td>19216.0</td>\n",
       "      <td>472731</td>\n",
       "      <td>739816</td>\n",
       "      <td>922856</td>\n",
       "      <td>234392.0</td>\n",
       "      <td>40645.0</td>\n",
       "      <td>461509.0</td>\n",
       "      <td>0.316825</td>\n",
       "      <td>0.286923</td>\n",
       "      <td>0.054939</td>\n",
       "      <td>0.027822</td>\n",
       "      <td>0.623816</td>\n",
       "      <td>0.684456</td>\n",
       "      <td>0.371764</td>\n",
       "      <td>0.314745</td>\n",
       "    </tr>\n",
       "  </tbody>\n",
       "</table>\n",
       "</div>"
      ],
      "text/plain": [
       "                 TOTAL VALID VOTES  TOTAL ELECTORATE   BN VOTE    PH VOTE  \\\n",
       "GE15_STATE                                                                  \n",
       "KEDAH                      1155797           1585085  116340.0   233654.0   \n",
       "KELANTAN                    845743           1411912  178437.0    81688.0   \n",
       "NEGERI SEMBILAN             582455            864425  129548.0   225180.0   \n",
       "PULAU PINANG                884532           1234198   49476.0   536811.0   \n",
       "SELANGOR                   2676774           3747057  246023.0  1375797.0   \n",
       "TERENGGANU                  690667            930894  198168.0    19216.0   \n",
       "\n",
       "                 PN VOTE  GE15_TOTAL VALID VOTES  GE15_TOTAL ELECTORATE  \\\n",
       "GE15_STATE                                                                \n",
       "KEDAH             794608                 1209539                1575805   \n",
       "KELANTAN          583598                  992408                1404763   \n",
       "NEGERI SEMBILAN   219303                  659425                 850865   \n",
       "PULAU PINANG      290514                  943971                1226626   \n",
       "SELANGOR         1012543                 2930276                3677848   \n",
       "TERENGGANU        472731                  739816                 922856   \n",
       "\n",
       "                 GE15_BN VOTE  GE15_PH VOTE  GE15_PN VOTE   BN_GE15    BN_PRN  \\\n",
       "GE15_STATE                                                                      \n",
       "KEDAH                235353.0      281523.0      664720.0  0.194581  0.100658   \n",
       "KELANTAN             265930.0       87321.0      631751.0  0.267964  0.210983   \n",
       "NEGERI SEMBILAN      212167.0      295789.0      144836.0  0.321745  0.222417   \n",
       "PULAU PINANG         143398.0      552031.0      226173.0  0.151909  0.055935   \n",
       "SELANGOR             509856.0     1547383.0      806903.0  0.173996  0.091910   \n",
       "TERENGGANU           234392.0       40645.0      461509.0  0.316825  0.286923   \n",
       "\n",
       "                  PH_GE15    PH_PRN   PN_GE15    PN_PRN  Unity_GE15  Unity_PRN  \n",
       "GE15_STATE                                                                      \n",
       "KEDAH            0.232752  0.202158  0.549565  0.687498    0.427333   0.302816  \n",
       "KELANTAN         0.087989  0.096587  0.636584  0.690042    0.355953   0.307570  \n",
       "NEGERI SEMBILAN  0.448556  0.386605  0.219640  0.376515    0.770301   0.609022  \n",
       "PULAU PINANG     0.584797  0.606887  0.239597  0.328438    0.736706   0.662822  \n",
       "SELANGOR         0.528067  0.513976  0.275368  0.378270    0.702063   0.605886  \n",
       "TERENGGANU       0.054939  0.027822  0.623816  0.684456    0.371764   0.314745  "
      ]
     },
     "execution_count": 99,
     "metadata": {},
     "output_type": "execute_result"
    }
   ],
   "source": [
    "final_df['Unity_GE15'] = final_df[['BN_GE15', 'PH_GE15']].sum(axis=1)\n",
    "final_df['Unity_PRN'] = final_df[['BN_PRN', 'PH_PRN']].sum(axis=1)\n",
    "final_df"
   ]
  },
  {
   "cell_type": "code",
   "execution_count": null,
   "id": "58c536b5-37a4-47c9-b00e-de6378904ad0",
   "metadata": {},
   "outputs": [],
   "source": []
  },
  {
   "cell_type": "code",
   "execution_count": null,
   "id": "cc94b2bd-df7a-4d42-ae75-6c71eafaaff8",
   "metadata": {},
   "outputs": [],
   "source": []
  },
  {
   "cell_type": "code",
   "execution_count": 88,
   "id": "1577c94b-ce6b-45a1-b7fe-a4e7f05f4914",
   "metadata": {
    "tags": []
   },
   "outputs": [],
   "source": [
    "# 1601096+2804692, 917992+2472346, 3373297-2935892"
   ]
  },
  {
   "cell_type": "code",
   "execution_count": 79,
   "id": "1c7840c9-9828-4290-a17b-8ffa901a5115",
   "metadata": {
    "tags": []
   },
   "outputs": [
    {
     "data": {
      "text/html": [
       "<div>\n",
       "<style scoped>\n",
       "    .dataframe tbody tr th:only-of-type {\n",
       "        vertical-align: middle;\n",
       "    }\n",
       "\n",
       "    .dataframe tbody tr th {\n",
       "        vertical-align: top;\n",
       "    }\n",
       "\n",
       "    .dataframe thead th {\n",
       "        text-align: right;\n",
       "    }\n",
       "</style>\n",
       "<table border=\"1\" class=\"dataframe\">\n",
       "  <thead>\n",
       "    <tr style=\"text-align: right;\">\n",
       "      <th></th>\n",
       "      <th>TOTAL ELECTORATE</th>\n",
       "      <th>BN VOTE</th>\n",
       "      <th>PH VOTE</th>\n",
       "      <th>PN VOTE</th>\n",
       "      <th>GE15_TOTAL ELECTORATE</th>\n",
       "      <th>GE15_BN VOTE</th>\n",
       "      <th>GE15_PH VOTE</th>\n",
       "      <th>GE15_PN VOTE</th>\n",
       "      <th>BN_GE15</th>\n",
       "      <th>BN_PRN</th>\n",
       "      <th>PH_GE15</th>\n",
       "      <th>PH_PRN</th>\n",
       "      <th>PN_GE15</th>\n",
       "      <th>PN_PRN</th>\n",
       "    </tr>\n",
       "    <tr>\n",
       "      <th>GE15_STATE</th>\n",
       "      <th></th>\n",
       "      <th></th>\n",
       "      <th></th>\n",
       "      <th></th>\n",
       "      <th></th>\n",
       "      <th></th>\n",
       "      <th></th>\n",
       "      <th></th>\n",
       "      <th></th>\n",
       "      <th></th>\n",
       "      <th></th>\n",
       "      <th></th>\n",
       "      <th></th>\n",
       "      <th></th>\n",
       "    </tr>\n",
       "  </thead>\n",
       "  <tbody>\n",
       "    <tr>\n",
       "      <th>KEDAH</th>\n",
       "      <td>1585085</td>\n",
       "      <td>116340.0</td>\n",
       "      <td>233654.0</td>\n",
       "      <td>794608</td>\n",
       "      <td>1575805</td>\n",
       "      <td>235353.0</td>\n",
       "      <td>281523.0</td>\n",
       "      <td>664720.0</td>\n",
       "      <td>0.149354</td>\n",
       "      <td>0.073397</td>\n",
       "      <td>0.178653</td>\n",
       "      <td>0.147408</td>\n",
       "      <td>0.421829</td>\n",
       "      <td>0.501303</td>\n",
       "    </tr>\n",
       "    <tr>\n",
       "      <th>KELANTAN</th>\n",
       "      <td>1411912</td>\n",
       "      <td>178437.0</td>\n",
       "      <td>81688.0</td>\n",
       "      <td>583598</td>\n",
       "      <td>1404763</td>\n",
       "      <td>265930.0</td>\n",
       "      <td>87321.0</td>\n",
       "      <td>631751.0</td>\n",
       "      <td>0.189306</td>\n",
       "      <td>0.126380</td>\n",
       "      <td>0.062161</td>\n",
       "      <td>0.057856</td>\n",
       "      <td>0.449721</td>\n",
       "      <td>0.413339</td>\n",
       "    </tr>\n",
       "    <tr>\n",
       "      <th>NEGERI SEMBILAN</th>\n",
       "      <td>864425</td>\n",
       "      <td>129548.0</td>\n",
       "      <td>225180.0</td>\n",
       "      <td>219303</td>\n",
       "      <td>850865</td>\n",
       "      <td>212167.0</td>\n",
       "      <td>295789.0</td>\n",
       "      <td>144836.0</td>\n",
       "      <td>0.249354</td>\n",
       "      <td>0.149866</td>\n",
       "      <td>0.347633</td>\n",
       "      <td>0.260497</td>\n",
       "      <td>0.170222</td>\n",
       "      <td>0.253698</td>\n",
       "    </tr>\n",
       "    <tr>\n",
       "      <th>PULAU PINANG</th>\n",
       "      <td>1234198</td>\n",
       "      <td>49476.0</td>\n",
       "      <td>536811.0</td>\n",
       "      <td>290514</td>\n",
       "      <td>1226626</td>\n",
       "      <td>143398.0</td>\n",
       "      <td>552031.0</td>\n",
       "      <td>226173.0</td>\n",
       "      <td>0.116904</td>\n",
       "      <td>0.040088</td>\n",
       "      <td>0.450040</td>\n",
       "      <td>0.434947</td>\n",
       "      <td>0.184386</td>\n",
       "      <td>0.235387</td>\n",
       "    </tr>\n",
       "    <tr>\n",
       "      <th>SELANGOR</th>\n",
       "      <td>3747057</td>\n",
       "      <td>246023.0</td>\n",
       "      <td>1375797.0</td>\n",
       "      <td>1012543</td>\n",
       "      <td>3677848</td>\n",
       "      <td>509856.0</td>\n",
       "      <td>1547383.0</td>\n",
       "      <td>806903.0</td>\n",
       "      <td>0.138629</td>\n",
       "      <td>0.065658</td>\n",
       "      <td>0.420731</td>\n",
       "      <td>0.367167</td>\n",
       "      <td>0.219395</td>\n",
       "      <td>0.270224</td>\n",
       "    </tr>\n",
       "    <tr>\n",
       "      <th>TERENGGANU</th>\n",
       "      <td>930894</td>\n",
       "      <td>198168.0</td>\n",
       "      <td>19216.0</td>\n",
       "      <td>472731</td>\n",
       "      <td>922856</td>\n",
       "      <td>234392.0</td>\n",
       "      <td>40645.0</td>\n",
       "      <td>461509.0</td>\n",
       "      <td>0.253985</td>\n",
       "      <td>0.212879</td>\n",
       "      <td>0.044043</td>\n",
       "      <td>0.020643</td>\n",
       "      <td>0.500088</td>\n",
       "      <td>0.507825</td>\n",
       "    </tr>\n",
       "  </tbody>\n",
       "</table>\n",
       "</div>"
      ],
      "text/plain": [
       "                 TOTAL ELECTORATE   BN VOTE    PH VOTE  PN VOTE  \\\n",
       "GE15_STATE                                                        \n",
       "KEDAH                     1585085  116340.0   233654.0   794608   \n",
       "KELANTAN                  1411912  178437.0    81688.0   583598   \n",
       "NEGERI SEMBILAN            864425  129548.0   225180.0   219303   \n",
       "PULAU PINANG              1234198   49476.0   536811.0   290514   \n",
       "SELANGOR                  3747057  246023.0  1375797.0  1012543   \n",
       "TERENGGANU                 930894  198168.0    19216.0   472731   \n",
       "\n",
       "                 GE15_TOTAL ELECTORATE  GE15_BN VOTE  GE15_PH VOTE  \\\n",
       "GE15_STATE                                                           \n",
       "KEDAH                          1575805      235353.0      281523.0   \n",
       "KELANTAN                       1404763      265930.0       87321.0   \n",
       "NEGERI SEMBILAN                 850865      212167.0      295789.0   \n",
       "PULAU PINANG                   1226626      143398.0      552031.0   \n",
       "SELANGOR                       3677848      509856.0     1547383.0   \n",
       "TERENGGANU                      922856      234392.0       40645.0   \n",
       "\n",
       "                 GE15_PN VOTE   BN_GE15    BN_PRN   PH_GE15    PH_PRN  \\\n",
       "GE15_STATE                                                              \n",
       "KEDAH                664720.0  0.149354  0.073397  0.178653  0.147408   \n",
       "KELANTAN             631751.0  0.189306  0.126380  0.062161  0.057856   \n",
       "NEGERI SEMBILAN      144836.0  0.249354  0.149866  0.347633  0.260497   \n",
       "PULAU PINANG         226173.0  0.116904  0.040088  0.450040  0.434947   \n",
       "SELANGOR             806903.0  0.138629  0.065658  0.420731  0.367167   \n",
       "TERENGGANU           461509.0  0.253985  0.212879  0.044043  0.020643   \n",
       "\n",
       "                  PN_GE15    PN_PRN  \n",
       "GE15_STATE                           \n",
       "KEDAH            0.421829  0.501303  \n",
       "KELANTAN         0.449721  0.413339  \n",
       "NEGERI SEMBILAN  0.170222  0.253698  \n",
       "PULAU PINANG     0.184386  0.235387  \n",
       "SELANGOR         0.219395  0.270224  \n",
       "TERENGGANU       0.500088  0.507825  "
      ]
     },
     "execution_count": 79,
     "metadata": {},
     "output_type": "execute_result"
    }
   ],
   "source": [
    "final_df"
   ]
  },
  {
   "cell_type": "code",
   "execution_count": 87,
   "id": "7be056e3-f4c6-4c02-aed5-752b211fcefd",
   "metadata": {
    "tags": []
   },
   "outputs": [
    {
     "data": {
      "text/html": [
       "<div>\n",
       "<style scoped>\n",
       "    .dataframe tbody tr th:only-of-type {\n",
       "        vertical-align: middle;\n",
       "    }\n",
       "\n",
       "    .dataframe tbody tr th {\n",
       "        vertical-align: top;\n",
       "    }\n",
       "\n",
       "    .dataframe thead th {\n",
       "        text-align: right;\n",
       "    }\n",
       "</style>\n",
       "<table border=\"1\" class=\"dataframe\">\n",
       "  <thead>\n",
       "    <tr style=\"text-align: right;\">\n",
       "      <th></th>\n",
       "      <th>TOTAL ELECTORATE</th>\n",
       "      <th>BN VOTE</th>\n",
       "      <th>PH VOTE</th>\n",
       "      <th>PN VOTE</th>\n",
       "      <th>GE15_TOTAL ELECTORATE</th>\n",
       "      <th>GE15_BN VOTE</th>\n",
       "      <th>GE15_PH VOTE</th>\n",
       "      <th>GE15_PN VOTE</th>\n",
       "      <th>BN_GE15</th>\n",
       "      <th>BN_PRN</th>\n",
       "      <th>PH_GE15</th>\n",
       "      <th>PH_PRN</th>\n",
       "      <th>PN_GE15</th>\n",
       "      <th>PN_PRN</th>\n",
       "      <th>Unity_GE15</th>\n",
       "      <th>Unity_PRN</th>\n",
       "    </tr>\n",
       "    <tr>\n",
       "      <th>GE15_STATE</th>\n",
       "      <th></th>\n",
       "      <th></th>\n",
       "      <th></th>\n",
       "      <th></th>\n",
       "      <th></th>\n",
       "      <th></th>\n",
       "      <th></th>\n",
       "      <th></th>\n",
       "      <th></th>\n",
       "      <th></th>\n",
       "      <th></th>\n",
       "      <th></th>\n",
       "      <th></th>\n",
       "      <th></th>\n",
       "      <th></th>\n",
       "      <th></th>\n",
       "    </tr>\n",
       "  </thead>\n",
       "  <tbody>\n",
       "    <tr>\n",
       "      <th>KEDAH</th>\n",
       "      <td>1585085</td>\n",
       "      <td>116340.0</td>\n",
       "      <td>233654.0</td>\n",
       "      <td>794608</td>\n",
       "      <td>1575805</td>\n",
       "      <td>235353.0</td>\n",
       "      <td>281523.0</td>\n",
       "      <td>664720.0</td>\n",
       "      <td>0.149354</td>\n",
       "      <td>0.073397</td>\n",
       "      <td>0.178653</td>\n",
       "      <td>0.147408</td>\n",
       "      <td>0.421829</td>\n",
       "      <td>0.501303</td>\n",
       "      <td>0.328008</td>\n",
       "      <td>0.220805</td>\n",
       "    </tr>\n",
       "    <tr>\n",
       "      <th>KELANTAN</th>\n",
       "      <td>1411912</td>\n",
       "      <td>178437.0</td>\n",
       "      <td>81688.0</td>\n",
       "      <td>583598</td>\n",
       "      <td>1404763</td>\n",
       "      <td>265930.0</td>\n",
       "      <td>87321.0</td>\n",
       "      <td>631751.0</td>\n",
       "      <td>0.189306</td>\n",
       "      <td>0.126380</td>\n",
       "      <td>0.062161</td>\n",
       "      <td>0.057856</td>\n",
       "      <td>0.449721</td>\n",
       "      <td>0.413339</td>\n",
       "      <td>0.251467</td>\n",
       "      <td>0.184236</td>\n",
       "    </tr>\n",
       "    <tr>\n",
       "      <th>NEGERI SEMBILAN</th>\n",
       "      <td>864425</td>\n",
       "      <td>129548.0</td>\n",
       "      <td>225180.0</td>\n",
       "      <td>219303</td>\n",
       "      <td>850865</td>\n",
       "      <td>212167.0</td>\n",
       "      <td>295789.0</td>\n",
       "      <td>144836.0</td>\n",
       "      <td>0.249354</td>\n",
       "      <td>0.149866</td>\n",
       "      <td>0.347633</td>\n",
       "      <td>0.260497</td>\n",
       "      <td>0.170222</td>\n",
       "      <td>0.253698</td>\n",
       "      <td>0.596988</td>\n",
       "      <td>0.410363</td>\n",
       "    </tr>\n",
       "    <tr>\n",
       "      <th>PULAU PINANG</th>\n",
       "      <td>1234198</td>\n",
       "      <td>49476.0</td>\n",
       "      <td>536811.0</td>\n",
       "      <td>290514</td>\n",
       "      <td>1226626</td>\n",
       "      <td>143398.0</td>\n",
       "      <td>552031.0</td>\n",
       "      <td>226173.0</td>\n",
       "      <td>0.116904</td>\n",
       "      <td>0.040088</td>\n",
       "      <td>0.450040</td>\n",
       "      <td>0.434947</td>\n",
       "      <td>0.184386</td>\n",
       "      <td>0.235387</td>\n",
       "      <td>0.566945</td>\n",
       "      <td>0.475035</td>\n",
       "    </tr>\n",
       "    <tr>\n",
       "      <th>SELANGOR</th>\n",
       "      <td>3747057</td>\n",
       "      <td>246023.0</td>\n",
       "      <td>1375797.0</td>\n",
       "      <td>1012543</td>\n",
       "      <td>3677848</td>\n",
       "      <td>509856.0</td>\n",
       "      <td>1547383.0</td>\n",
       "      <td>806903.0</td>\n",
       "      <td>0.138629</td>\n",
       "      <td>0.065658</td>\n",
       "      <td>0.420731</td>\n",
       "      <td>0.367167</td>\n",
       "      <td>0.219395</td>\n",
       "      <td>0.270224</td>\n",
       "      <td>0.559359</td>\n",
       "      <td>0.432825</td>\n",
       "    </tr>\n",
       "    <tr>\n",
       "      <th>TERENGGANU</th>\n",
       "      <td>930894</td>\n",
       "      <td>198168.0</td>\n",
       "      <td>19216.0</td>\n",
       "      <td>472731</td>\n",
       "      <td>922856</td>\n",
       "      <td>234392.0</td>\n",
       "      <td>40645.0</td>\n",
       "      <td>461509.0</td>\n",
       "      <td>0.253985</td>\n",
       "      <td>0.212879</td>\n",
       "      <td>0.044043</td>\n",
       "      <td>0.020643</td>\n",
       "      <td>0.500088</td>\n",
       "      <td>0.507825</td>\n",
       "      <td>0.298028</td>\n",
       "      <td>0.233522</td>\n",
       "    </tr>\n",
       "  </tbody>\n",
       "</table>\n",
       "</div>"
      ],
      "text/plain": [
       "                 TOTAL ELECTORATE   BN VOTE    PH VOTE  PN VOTE  \\\n",
       "GE15_STATE                                                        \n",
       "KEDAH                     1585085  116340.0   233654.0   794608   \n",
       "KELANTAN                  1411912  178437.0    81688.0   583598   \n",
       "NEGERI SEMBILAN            864425  129548.0   225180.0   219303   \n",
       "PULAU PINANG              1234198   49476.0   536811.0   290514   \n",
       "SELANGOR                  3747057  246023.0  1375797.0  1012543   \n",
       "TERENGGANU                 930894  198168.0    19216.0   472731   \n",
       "\n",
       "                 GE15_TOTAL ELECTORATE  GE15_BN VOTE  GE15_PH VOTE  \\\n",
       "GE15_STATE                                                           \n",
       "KEDAH                          1575805      235353.0      281523.0   \n",
       "KELANTAN                       1404763      265930.0       87321.0   \n",
       "NEGERI SEMBILAN                 850865      212167.0      295789.0   \n",
       "PULAU PINANG                   1226626      143398.0      552031.0   \n",
       "SELANGOR                       3677848      509856.0     1547383.0   \n",
       "TERENGGANU                      922856      234392.0       40645.0   \n",
       "\n",
       "                 GE15_PN VOTE   BN_GE15    BN_PRN   PH_GE15    PH_PRN  \\\n",
       "GE15_STATE                                                              \n",
       "KEDAH                664720.0  0.149354  0.073397  0.178653  0.147408   \n",
       "KELANTAN             631751.0  0.189306  0.126380  0.062161  0.057856   \n",
       "NEGERI SEMBILAN      144836.0  0.249354  0.149866  0.347633  0.260497   \n",
       "PULAU PINANG         226173.0  0.116904  0.040088  0.450040  0.434947   \n",
       "SELANGOR             806903.0  0.138629  0.065658  0.420731  0.367167   \n",
       "TERENGGANU           461509.0  0.253985  0.212879  0.044043  0.020643   \n",
       "\n",
       "                  PN_GE15    PN_PRN  Unity_GE15  Unity_PRN  \n",
       "GE15_STATE                                                  \n",
       "KEDAH            0.421829  0.501303    0.328008   0.220805  \n",
       "KELANTAN         0.449721  0.413339    0.251467   0.184236  \n",
       "NEGERI SEMBILAN  0.170222  0.253698    0.596988   0.410363  \n",
       "PULAU PINANG     0.184386  0.235387    0.566945   0.475035  \n",
       "SELANGOR         0.219395  0.270224    0.559359   0.432825  \n",
       "TERENGGANU       0.500088  0.507825    0.298028   0.233522  "
      ]
     },
     "execution_count": 87,
     "metadata": {},
     "output_type": "execute_result"
    }
   ],
   "source": []
  },
  {
   "cell_type": "code",
   "execution_count": null,
   "id": "127f19ab-9731-4276-82bd-e5519113d168",
   "metadata": {},
   "outputs": [],
   "source": []
  }
 ],
 "metadata": {
  "kernelspec": {
   "display_name": "Python 3 (ipykernel)",
   "language": "python",
   "name": "python3"
  },
  "language_info": {
   "codemirror_mode": {
    "name": "ipython",
    "version": 3
   },
   "file_extension": ".py",
   "mimetype": "text/x-python",
   "name": "python",
   "nbconvert_exporter": "python",
   "pygments_lexer": "ipython3",
   "version": "3.10.9"
  }
 },
 "nbformat": 4,
 "nbformat_minor": 5
}
