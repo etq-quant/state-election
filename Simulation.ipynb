{
 "cells": [
  {
   "cell_type": "code",
   "execution_count": 2,
   "id": "5782255f-c37e-4367-9396-54b1f498dc61",
   "metadata": {
    "tags": []
   },
   "outputs": [],
   "source": [
    "import pandas as pd\n",
    "\n",
    "from sklearn.preprocessing import OneHotEncoder\n",
    "from sklearn.linear_model import HuberRegressor, LogisticRegression\n",
    "from sklearn.ensemble import RandomForestRegressor\n",
    "from util import run_election_model\n",
    "import numpy as np\n",
    "from joblib import Parallel, delayed\n",
    "import tqdm"
   ]
  },
  {
   "cell_type": "code",
   "execution_count": null,
   "id": "1fd31874-94c3-445e-b783-20f6a79fb232",
   "metadata": {},
   "outputs": [],
   "source": [
    "run_election_model("
   ]
  },
  {
   "cell_type": "code",
   "execution_count": 38,
   "id": "0d720da6-0bf2-4e1d-8c41-8e843c53c554",
   "metadata": {
    "tags": []
   },
   "outputs": [],
   "source": [
    "def get_unity_win(state, bn_to_ph, ph_to_bn):\n",
    "    bn_to_pn = 1-bn_to_ph-0.05\n",
    "    ph_to_pn = 1-ph_to_bn-0.05\n",
    "    df, scenario_df = run_election_model(state, bn_to_ph, bn_to_pn, ph_to_bn, ph_to_pn)\n",
    "    return (df['Winner_S2'] == 'Unity').mean() > 0.5"
   ]
  },
  {
   "cell_type": "code",
   "execution_count": 39,
   "id": "ab09a071-ed62-4b1b-ac2f-aa6a5faf0481",
   "metadata": {
    "tags": []
   },
   "outputs": [
    {
     "data": {
      "text/plain": [
       "False"
      ]
     },
     "execution_count": 39,
     "metadata": {},
     "output_type": "execute_result"
    }
   ],
   "source": [
    "get_unity_win(state, bn_to_ph, ph_to_bn)"
   ]
  },
  {
   "cell_type": "code",
   "execution_count": 44,
   "id": "6da00392-a82d-46a4-a870-327e01c41030",
   "metadata": {
    "tags": []
   },
   "outputs": [],
   "source": [
    "bn_to_phs = np.random.normal(0.15, 0.15, 50)\n",
    "ph_to_bns = np.random.normal(0.24, 0.15, 50)"
   ]
  },
  {
   "cell_type": "code",
   "execution_count": null,
   "id": "fae3cc21-5de6-4371-b27c-17ea3bef9b42",
   "metadata": {
    "tags": []
   },
   "outputs": [
    {
     "name": "stderr",
     "output_type": "stream",
     "text": [
      "100%|██████████████████████████████████████████████████████████████████████████████████| 50/50 [00:04<00:00, 11.87it/s]\n",
      "100%|██████████████████████████████████████████████████████████████████████████████████| 50/50 [00:01<00:00, 28.97it/s]\n",
      "100%|██████████████████████████████████████████████████████████████████████████████████| 50/50 [00:02<00:00, 24.47it/s]\n",
      "100%|██████████████████████████████████████████████████████████████████████████████████| 50/50 [00:02<00:00, 16.96it/s]\n",
      "100%|██████████████████████████████████████████████████████████████████████████████████| 50/50 [00:03<00:00, 15.59it/s]\n",
      "100%|██████████████████████████████████████████████████████████████████████████████████| 50/50 [00:04<00:00, 11.09it/s]\n",
      "100%|██████████████████████████████████████████████████████████████████████████████████| 50/50 [00:03<00:00, 16.17it/s]\n",
      "100%|██████████████████████████████████████████████████████████████████████████████████| 50/50 [00:03<00:00, 14.84it/s]\n",
      "100%|██████████████████████████████████████████████████████████████████████████████████| 50/50 [00:04<00:00, 11.22it/s]\n",
      "100%|██████████████████████████████████████████████████████████████████████████████████| 50/50 [00:03<00:00, 15.61it/s]\n",
      "100%|██████████████████████████████████████████████████████████████████████████████████| 50/50 [00:03<00:00, 14.27it/s]\n",
      "100%|██████████████████████████████████████████████████████████████████████████████████| 50/50 [00:04<00:00, 11.05it/s]\n",
      "100%|██████████████████████████████████████████████████████████████████████████████████| 50/50 [00:03<00:00, 15.22it/s]\n",
      "100%|██████████████████████████████████████████████████████████████████████████████████| 50/50 [00:03<00:00, 13.80it/s]\n",
      "100%|██████████████████████████████████████████████████████████████████████████████████| 50/50 [00:04<00:00, 10.90it/s]\n",
      "100%|██████████████████████████████████████████████████████████████████████████████████| 50/50 [00:03<00:00, 14.95it/s]\n",
      "100%|██████████████████████████████████████████████████████████████████████████████████| 50/50 [00:03<00:00, 14.66it/s]\n",
      "100%|██████████████████████████████████████████████████████████████████████████████████| 50/50 [00:04<00:00, 10.41it/s]\n",
      "100%|██████████████████████████████████████████████████████████████████████████████████| 50/50 [00:03<00:00, 13.58it/s]\n",
      " 20%|████████████████▍                                                                 | 10/50 [00:01<00:04,  8.17it/s]"
     ]
    }
   ],
   "source": [
    "%%time\n",
    "_ = Parallel(n_jobs=15)(delayed(get_unity_win)(state, bn_to_ph, ph_to_bn) for bn_to_ph in bn_to_phs for ph_to_bn in tqdm.tqdm(ph_to_bns, position=0))"
   ]
  },
  {
   "cell_type": "code",
   "execution_count": 3,
   "id": "8a084fb5-5eb7-4df4-b24f-27fdb0adaa1a",
   "metadata": {
    "tags": []
   },
   "outputs": [
    {
     "name": "stdout",
     "output_type": "stream",
     "text": [
      "CPU times: total: 62.5 ms\n",
      "Wall time: 427 ms\n"
     ]
    }
   ],
   "source": [
    "%%time\n",
    "state = 'SELANGOR'\n",
    "\n",
    "bn_to_ph = 0.0\n",
    "ph_to_bn = 0.24\n",
    "bn_to_pn = 1-bn_to_ph-0.05\n",
    "ph_to_pn = 1-ph_to_bn-0.05\n",
    "\n",
    "df, scenario_df = run_election_model(state, bn_to_ph, bn_to_pn, ph_to_bn, ph_to_pn)"
   ]
  },
  {
   "cell_type": "code",
   "execution_count": 10,
   "id": "9a944a90-84cc-4558-bdbd-296a725a0e92",
   "metadata": {},
   "outputs": [],
   "source": [
    "df.reset_index().loc[:,:\"Winner_DUN_2018\"].to_csv('Selangor.csv', index=False)"
   ]
  },
  {
   "cell_type": "code",
   "execution_count": null,
   "id": "5a5ac43f-bf61-47cd-a1e6-ed70e1b2d955",
   "metadata": {
    "tags": []
   },
   "outputs": [],
   "source": [
    "# pd.read_csv(f'{state}_2018_DUN_RESULTS.csv')"
   ]
  },
  {
   "cell_type": "code",
   "execution_count": null,
   "id": "9b79dc08-bf7b-467c-a06d-638cca443bcf",
   "metadata": {},
   "outputs": [],
   "source": []
  }
 ],
 "metadata": {
  "kernelspec": {
   "display_name": "Python 3 (ipykernel)",
   "language": "python",
   "name": "python3"
  },
  "language_info": {
   "codemirror_mode": {
    "name": "ipython",
    "version": 3
   },
   "file_extension": ".py",
   "mimetype": "text/x-python",
   "name": "python",
   "nbconvert_exporter": "python",
   "pygments_lexer": "ipython3",
   "version": "3.10.9"
  }
 },
 "nbformat": 4,
 "nbformat_minor": 5
}
